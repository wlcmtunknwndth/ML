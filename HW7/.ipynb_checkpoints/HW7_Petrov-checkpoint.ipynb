{
 "cells": [
  {
   "cell_type": "markdown",
   "id": "aaf8b944-ec5c-4c7d-bfe2-b32f427e9c17",
   "metadata": {},
   "source": [
    "### РОССИЙСКИЙ УНИВЕРСИТЕТ ДРУЖБЫ НАРОДОВ\n",
    "\n",
    "#### Факультет физико-математических и естественных наук  \n",
    "#### Кафедра математического моделирования и искусственного интеллекта "
   ]
  },
  {
   "cell_type": "markdown",
   "id": "fbc76353-c96b-42e0-a33b-611cc62eacdf",
   "metadata": {},
   "source": [
    "## ОТЧЕТ ПО КОНТРОЛЬНОЙ РАБОТЕ № 7\n",
    "\n",
    "\n",
    "### Дисциплина: Методы машинного обучения"
   ]
  },
  {
   "cell_type": "markdown",
   "id": "1663d72d-d64c-42f9-929a-8663360b38ef",
   "metadata": {},
   "source": [
    "##### Студент:  Петров Артем Евгеньевич\n",
    "##### Группа:   НКНбд-01-21"
   ]
  },
  {
   "cell_type": "markdown",
   "id": "ab0f8181-84c2-45be-a484-cda9fcda812a",
   "metadata": {},
   "source": [
    "## Москва 2024\n",
    "***"
   ]
  },
  {
   "cell_type": "markdown",
   "id": "6faf4e28-91f9-407c-8fda-c256b6932b24",
   "metadata": {},
   "source": [
    "# Задание:\n",
    "\n",
    "1. Загрузите заданный в индивидуальном задании набор данных с изображениями из Tensorflow Datasets с разбиением на обучающую и тестовую выборки. Оставьте в обучающей и тестовой выборках диапазон классов, указанных в индивидуальном задании. Если изображения цветные (с тремя каналами), то перекодируйте их в одноцветные (оттенки серого). \n",
    "2. Постройте для набора данных график логарифмического правдоподобия профиля в зависимости от числа главных компонент и определите размерность латентного пространства. \n",
    "3. Создайте и обучите на обучающей выборке автокодировщик архитектуры, указанной в индивидуальном задании, с размерностью скрытого представления, равной размерности латентного пространства, определенной в п.2. Подберите такие параметры, как функции активации, оптимизатор, начальная скорость обучения, размер мини-пакета и др. самостоятельно, обеспечивая обучение нейронных сетей.\n",
    "Визуализируйте несколько исходных и восстановленных автокодировщиком изображений.  \n",
    "4. Оцените качество модели автокодировщика на тестовой выборке по показателю, указанному в индивидуальном задании. \n",
    "5. Оставьте в наборах изображения первых двух классов диапазона, указанного в индивидуальном задании первыми. Визуализируйте набор данных на плоскости, соответствующей двум первым латентным признакам, отображая точки различных классов разными цветами. Подпишите оси и рисунок, создайте легенду для классов набора данных. \n",
    "6. Выполните бинарную классификацию изображений по латентным (скрытым) признакам и всем признакам при помощи классификатора метода ближайших соседей (kNN). Оцените бинарный классификатор, указанный в индивидуальном задании, для двух построенных классификаторов. \n",
    "7. Визуализируйте ROC-кривые для построенных классификаторов на одном рисунке (с легендой) (Указание: используйте метод predict_proba() класса KNeighborsClassifier). \n",
    "8. Визуализируйте границы принятия решений классификатора kNN для латентных признаков на плоскости, соответствующей двум первым латентным признакам (для прочих латентных признаков задайте средние/медианные значения).  \n",
    "9. Определите на первоначальной тестовой выборке изображение, имеющее наибольшую ошибку реконструкции. Выведите для этого изображения первоначальное и реконструированное изображения.\n",
    "***"
   ]
  },
  {
   "cell_type": "markdown",
   "id": "e3110026-b8d5-41d7-9761-d3af491bf907",
   "metadata": {},
   "source": [
    "## Вариант 3 \n",
    "\n",
    "1. Набор данных: svhn_cropped \n",
    "\n",
    "2. Диапазон классов: 0, 1, 2, 3, 4 \n",
    "\n",
    "3. Архитектура автокодировщика: MLP \n",
    "\n",
    "4. Показатель качества: cреднее квадратичное логарифмическое отклонение (MSLE) для ошибки реконструкции \n",
    "\n",
    "5. Показатель качества бинарной классификации: \n",
    "\n",
    "F1-мера, равная 2*TP/(2*TP+FP+FN) \n",
    "***"
   ]
  },
  {
   "cell_type": "markdown",
   "id": "43a1633b-1d0c-43ca-a75f-d5438a6b081a",
   "metadata": {},
   "source": [
    "# 1. Загрузите заданный в индивидуальном задании набор данных с изображениями из Tensorflow Datasets с разбиением на обучающую и тестовую выборки. Оставьте в обучающей и тестовой выборках диапазон классов, указанных в индивидуальном задании. Если изображения цветные (с тремя каналами), то перекодируйте их в одноцветные (оттенки серого). \n",
    "\n",
    "1. Набор данных: svhn_cropped \n",
    "\n",
    "2. Диапазон классов: 0, 1, 2, 3, 4 "
   ]
  },
  {
   "cell_type": "code",
   "execution_count": 2,
   "id": "548b133f-1b52-447d-8fa3-98422e67d86a",
   "metadata": {},
   "outputs": [],
   "source": [
    "import tensorflow as tf\n",
    "import tensorflow_datasets as tfds\n",
    "import numpy as np\n",
    "import pandas as pd\n",
    "import matplotlib.pyplot as plt"
   ]
  },
  {
   "cell_type": "code",
   "execution_count": 7,
   "id": "5066cad7-68ea-45ad-9d08-314888e4cd30",
   "metadata": {},
   "outputs": [
    {
     "name": "stdout",
     "output_type": "stream",
     "text": [
      "Collecting deeplake\n",
      "  Using cached deeplake-3.9.8-py3-none-any.whl\n",
      "Requirement already satisfied: numpy in c:\\python312\\lib\\site-packages (from deeplake) (1.26.4)\n",
      "Collecting pillow~=10.2.0 (from deeplake)\n",
      "  Using cached pillow-10.2.0-cp312-cp312-win_amd64.whl.metadata (9.9 kB)\n",
      "Collecting boto3 (from deeplake)\n",
      "  Using cached boto3-1.34.114-py3-none-any.whl.metadata (6.6 kB)\n",
      "Requirement already satisfied: click in c:\\python312\\lib\\site-packages (from deeplake) (8.1.7)\n",
      "Collecting pathos (from deeplake)\n",
      "  Using cached pathos-0.3.2-py3-none-any.whl.metadata (11 kB)\n",
      "Collecting humbug>=0.3.1 (from deeplake)\n",
      "  Using cached humbug-0.3.2-py3-none-any.whl.metadata (6.8 kB)\n",
      "Requirement already satisfied: tqdm in c:\\python312\\lib\\site-packages (from deeplake) (4.66.2)\n",
      "Collecting lz4 (from deeplake)\n",
      "  Using cached lz4-4.3.3-cp312-cp312-win_amd64.whl.metadata (3.8 kB)\n",
      "Requirement already satisfied: pyjwt in c:\\python312\\lib\\site-packages (from deeplake) (2.8.0)\n",
      "Collecting pydantic (from deeplake)\n",
      "  Using cached pydantic-2.7.2-py3-none-any.whl.metadata (108 kB)\n",
      "Requirement already satisfied: requests in c:\\users\\fitte\\appdata\\roaming\\python\\python312\\site-packages (from humbug>=0.3.1->deeplake) (2.31.0)\n",
      "Collecting botocore<1.35.0,>=1.34.114 (from boto3->deeplake)\n",
      "  Using cached botocore-1.34.114-py3-none-any.whl.metadata (5.7 kB)\n",
      "Collecting jmespath<2.0.0,>=0.7.1 (from boto3->deeplake)\n",
      "  Using cached jmespath-1.0.1-py3-none-any.whl.metadata (7.6 kB)\n",
      "Collecting s3transfer<0.11.0,>=0.10.0 (from boto3->deeplake)\n",
      "  Using cached s3transfer-0.10.1-py3-none-any.whl.metadata (1.7 kB)\n",
      "Requirement already satisfied: colorama in c:\\users\\fitte\\appdata\\roaming\\python\\python312\\site-packages (from click->deeplake) (0.4.6)\n",
      "Requirement already satisfied: ppft>=1.7.6.8 in c:\\python312\\lib\\site-packages (from pathos->deeplake) (1.7.6.8)\n",
      "Requirement already satisfied: dill>=0.3.8 in c:\\python312\\lib\\site-packages (from pathos->deeplake) (0.3.8)\n",
      "Collecting pox>=0.3.4 (from pathos->deeplake)\n",
      "  Using cached pox-0.3.4-py3-none-any.whl.metadata (8.0 kB)\n",
      "Collecting multiprocess>=0.70.16 (from pathos->deeplake)\n",
      "  Using cached multiprocess-0.70.16-py312-none-any.whl.metadata (7.2 kB)\n",
      "Collecting annotated-types>=0.4.0 (from pydantic->deeplake)\n",
      "  Using cached annotated_types-0.7.0-py3-none-any.whl.metadata (15 kB)\n",
      "Requirement already satisfied: pydantic-core==2.18.3 in c:\\python312\\lib\\site-packages (from pydantic->deeplake) (2.18.3)\n",
      "Requirement already satisfied: typing-extensions>=4.6.1 in c:\\python312\\lib\\site-packages (from pydantic->deeplake) (4.11.0)\n",
      "Requirement already satisfied: python-dateutil<3.0.0,>=2.1 in c:\\users\\fitte\\appdata\\roaming\\python\\python312\\site-packages (from botocore<1.35.0,>=1.34.114->boto3->deeplake) (2.9.0.post0)\n",
      "Requirement already satisfied: urllib3!=2.2.0,<3,>=1.25.4 in c:\\users\\fitte\\appdata\\roaming\\python\\python312\\site-packages (from botocore<1.35.0,>=1.34.114->boto3->deeplake) (2.2.1)\n",
      "Requirement already satisfied: charset-normalizer<4,>=2 in c:\\users\\fitte\\appdata\\roaming\\python\\python312\\site-packages (from requests->humbug>=0.3.1->deeplake) (3.3.2)\n",
      "Requirement already satisfied: idna<4,>=2.5 in c:\\users\\fitte\\appdata\\roaming\\python\\python312\\site-packages (from requests->humbug>=0.3.1->deeplake) (3.7)\n",
      "Requirement already satisfied: certifi>=2017.4.17 in c:\\users\\fitte\\appdata\\roaming\\python\\python312\\site-packages (from requests->humbug>=0.3.1->deeplake) (2024.2.2)\n",
      "Requirement already satisfied: six>=1.5 in c:\\users\\fitte\\appdata\\roaming\\python\\python312\\site-packages (from python-dateutil<3.0.0,>=2.1->botocore<1.35.0,>=1.34.114->boto3->deeplake) (1.16.0)\n",
      "Using cached humbug-0.3.2-py3-none-any.whl (15 kB)\n",
      "Using cached pillow-10.2.0-cp312-cp312-win_amd64.whl (2.6 MB)\n",
      "Using cached boto3-1.34.114-py3-none-any.whl (139 kB)\n",
      "Using cached lz4-4.3.3-cp312-cp312-win_amd64.whl (99 kB)\n",
      "Using cached pathos-0.3.2-py3-none-any.whl (82 kB)\n",
      "Using cached pydantic-2.7.2-py3-none-any.whl (409 kB)\n",
      "Using cached annotated_types-0.7.0-py3-none-any.whl (13 kB)\n",
      "Using cached botocore-1.34.114-py3-none-any.whl (12.3 MB)\n",
      "Using cached jmespath-1.0.1-py3-none-any.whl (20 kB)\n",
      "Using cached multiprocess-0.70.16-py312-none-any.whl (146 kB)\n",
      "Using cached pox-0.3.4-py3-none-any.whl (29 kB)\n",
      "Using cached s3transfer-0.10.1-py3-none-any.whl (82 kB)\n",
      "Installing collected packages: pox, pillow, multiprocess, lz4, jmespath, annotated-types, pydantic, pathos, humbug, botocore, s3transfer, boto3, deeplake\n",
      "Successfully installed annotated-types-0.7.0 boto3-1.34.114 botocore-1.34.114 deeplake-3.9.8 humbug-0.3.2 jmespath-1.0.1 lz4-4.3.3 multiprocess-0.70.16 pathos-0.3.2 pillow-10.2.0 pox-0.3.4 pydantic-2.7.2 s3transfer-0.10.1\n"
     ]
    },
    {
     "name": "stderr",
     "output_type": "stream",
     "text": [
      "DEPRECATION: Loading egg at c:\\python312\\lib\\site-packages\\vboxapi-1.0-py3.12.egg is deprecated. pip 24.3 will enforce this behaviour change. A possible replacement is to use pip for package installation.. Discussion can be found at https://github.com/pypa/pip/issues/12330\n"
     ]
    }
   ],
   "source": [
    "!pip install deeplake --user"
   ]
  },
  {
   "cell_type": "code",
   "execution_count": 8,
   "id": "1ca4920c-7d14-4dfa-aa18-eb9a042dc8ee",
   "metadata": {},
   "outputs": [],
   "source": [
    "import deeplake"
   ]
  },
  {
   "cell_type": "code",
   "execution_count": 9,
   "id": "ccff0f28-65ff-4e3d-a9ca-0eaafe17049b",
   "metadata": {},
   "outputs": [
    {
     "name": "stderr",
     "output_type": "stream",
     "text": [
      "\\"
     ]
    },
    {
     "name": "stdout",
     "output_type": "stream",
     "text": [
      "Opening dataset in read-only mode as you don't have write permissions.\n"
     ]
    },
    {
     "name": "stderr",
     "output_type": "stream",
     "text": [
      "\\"
     ]
    },
    {
     "name": "stdout",
     "output_type": "stream",
     "text": [
      "This dataset can be visualized in Jupyter Notebook by ds.visualize() or at https://app.activeloop.ai/activeloop/svhn-train\n",
      "\n"
     ]
    },
    {
     "name": "stderr",
     "output_type": "stream",
     "text": [
      "|"
     ]
    },
    {
     "name": "stdout",
     "output_type": "stream",
     "text": [
      "hub://activeloop/svhn-train loaded successfully.\n",
      "\n"
     ]
    },
    {
     "name": "stderr",
     "output_type": "stream",
     "text": [
      " "
     ]
    }
   ],
   "source": [
    "ds = deeplake.load('hub://activeloop/svhn-train')"
   ]
  },
  {
   "cell_type": "code",
   "execution_count": 10,
   "id": "184258aa-66a0-4dce-a684-17b0b7810936",
   "metadata": {},
   "outputs": [
    {
     "data": {
      "text/plain": [
       "deeplake.core.dataset.deeplake_cloud_dataset.DeepLakeCloudDataset"
      ]
     },
     "execution_count": 10,
     "metadata": {},
     "output_type": "execute_result"
    }
   ],
   "source": [
    "type(ds)"
   ]
  },
  {
   "cell_type": "code",
   "execution_count": 13,
   "id": "abf210a6-b207-4768-b1de-a6d6e8bd19c8",
   "metadata": {},
   "outputs": [
    {
     "data": {
      "text/plain": [
       "Dataset(path='hub://activeloop/svhn-train', read_only=True, index=Index([0]), tensors=['images', 'labels', 'boxes'])"
      ]
     },
     "execution_count": 13,
     "metadata": {},
     "output_type": "execute_result"
    }
   ],
   "source": [
    "ds[0]"
   ]
  },
  {
   "cell_type": "code",
   "execution_count": null,
   "id": "e27a802a-d240-468f-aa67-53eb975f6df5",
   "metadata": {},
   "outputs": [],
   "source": []
  }
 ],
 "metadata": {
  "kernelspec": {
   "display_name": "Python 3 (ipykernel)",
   "language": "python",
   "name": "python3"
  },
  "language_info": {
   "codemirror_mode": {
    "name": "ipython",
    "version": 3
   },
   "file_extension": ".py",
   "mimetype": "text/x-python",
   "name": "python",
   "nbconvert_exporter": "python",
   "pygments_lexer": "ipython3",
   "version": "3.12.2"
  }
 },
 "nbformat": 4,
 "nbformat_minor": 5
}
