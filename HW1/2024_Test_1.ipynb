{
 "cells": [
  {
   "cell_type": "markdown",
   "metadata": {
    "editable": true,
    "id": "VQlcDy9BC5bE",
    "slideshow": {
     "slide_type": ""
    },
    "tags": []
   },
   "source": [
    "# Методы машинного обучения – Занятие №1\n",
    "\n",
    "# Линейная регрессия"
   ]
  },
  {
   "cell_type": "markdown",
   "metadata": {
    "id": "XsBpRAmqDLgM"
   },
   "source": [
    "## Порядок сдачи контрольных работ\n",
    "\n",
    "Для каждого направления подготовки будет создана отдельная команда MS Teams, а для каждой контрольной работы в рамках команды будет создан отдельный канал. Варианты заданий будут направляться каждому студенту через записную книжку команды.\n",
    "\n",
    "Отчет по контрольной работе должен быть представлен в виде файла PDF, представляющего собой содержимое Jupiter Notebook с титульным листом, вариантом задания, программным кодом, комментариями к программному коду и результатами выполнения программы. Отчет в формате PDF и исходный файл ipynb передаются как ответ на задание MS Teams. Моментом сдачи задания является дата и время отправки файлов путем нажатия кнопки «сдать» в MS Teams.\n",
    "\n",
    "Контрольная работа оценивается с максимальной оценкой 10 баллов, если студент присутствовал на занятии, программа корректно решает поставленные задачи и отчет сдан в оговоренный срок. В случае отсутствия на занятии оценка снижается на 1 балл. В случае просрочки сдачи контрольной работы оценка снижается на 1 балл за каждый день просрочки, но не более чем на 5 баллов. Контрольные работы с просрочкой более 5 дней оцениваются в конце семестра.\n",
    "\n",
    "Если по дисциплине будет предусмотрен экзамен, то на экзамене будут предложен итоговый тест с теоретическим вопросом и задачами и итоговая оценка будет суммой баллов за контрольные работы и баллов за итоговый тест. Если экзамена не будет, то для итоговой оценки баллы за контрольные работы будут пересчитаны."
   ]
  },
  {
   "cell_type": "markdown",
   "metadata": {
    "id": "G7bqP_ddqolB"
   },
   "source": [
    "# Google Colab\n",
    "\n",
    "__Google Colab__ - это инструмент компании Google, который позволяет разрабатывать, запускать и публиковать код Python. Google Colab можно рассматривать как расширенную версию Jupyter Notebook, размещенную на облачных серверах Google.\n",
    "\n",
    "Google Colab доступен в браузере по ссылке https://colab.research.google.com/.\n",
    "\n",
    "В Colab есть два типа ячеек – ячейки кода и текстовые ячейки. Текстовые ячейки можно использовать для добавления комментариев к вашему коду, а также для отображения изображений, видео, заголовков, списков и многого другого. Язык, используемый в текстовых ячейках, называется «Markdown» (https://colab.research.google.com/notebooks/markdown_guide.ipynb)."
   ]
  },
  {
   "cell_type": "markdown",
   "metadata": {
    "id": "Tp3hyMmwteU5"
   },
   "source": [
    "Для запуска ячейки с кодом нужно нажать кнопку воспроизведения в левой части ячейки.\n",
    "\n",
    "Если книжка Colab не используется в течение нескольких часов, то произойдет разъединение с серверами Google, при этом значения переменных и состояния текущего сеанса будут потеряны. Для продолжения работы с книжкой Colab нужно снова запустить ячейки с кодом – либо одну за другой, либо можно выбрать  «Среда выполнения» (Runtime) в верхнем левом углу записной книжки и нажать, скажем, «Выполнить все»."
   ]
  },
  {
   "cell_type": "markdown",
   "metadata": {
    "id": "yrl5P-krDiGA"
   },
   "source": [
    "## Язык программирования Python\n",
    "\n",
    "Контрольные работы будут выполняться на языке программирования __Python__.\n",
    "\n",
    "Пример простой программы на языке __Python__:"
   ]
  },
  {
   "cell_type": "code",
   "execution_count": 22,
   "metadata": {
    "id": "EAUHo64aC2Q7"
   },
   "outputs": [
    {
     "name": "stdout",
     "output_type": "stream",
     "text": [
      "Hello, Machine Learning!\n",
      "Hello, Machine Learning!\n",
      "Hello, Machine Learning!\n",
      "Hello, Machine Learning!\n",
      "Hello, Machine Learning!\n",
      "Hello, Machine Learning!\n",
      "Hello, Machine Learning!\n",
      "Hello, Machine Learning!\n",
      "Hello, Machine Learning!\n",
      "Hello, Machine Learning!\n"
     ]
    }
   ],
   "source": [
    "def hello_ML():\n",
    "    print('Hello, Machine Learning!')\n",
    "\n",
    "for _ in range(10):\n",
    "    hello_ML()"
   ]
  },
  {
   "cell_type": "code",
   "execution_count": 23,
   "metadata": {},
   "outputs": [],
   "source": [
    "import sys\n",
    "\n",
    "sys.setrecursionlimit(1000)"
   ]
  },
  {
   "cell_type": "markdown",
   "metadata": {
    "id": "3G0xU5-CEQIG"
   },
   "source": [
    "Язык Python – это развитый, современный, популярный язык программирования с мощной стандартной библиотекой.\n",
    "\n",
    "В языке Python реализованы, в частности, такие структуры данных как списки (`list`), кортежи (`tuple`), словари (`dict`), множества (`set`)."
   ]
  },
  {
   "cell_type": "code",
   "execution_count": 24,
   "metadata": {
    "id": "C29UeR5_a5G5"
   },
   "outputs": [
    {
     "data": {
      "text/plain": [
       "[1, 2.0, '3']"
      ]
     },
     "execution_count": 24,
     "metadata": {},
     "output_type": "execute_result"
    }
   ],
   "source": [
    "alist = [1, 2., \"3\"]  # список\n",
    "alist"
   ]
  },
  {
   "cell_type": "code",
   "execution_count": 25,
   "metadata": {
    "id": "oGSKx2ZlbGCF"
   },
   "outputs": [
    {
     "data": {
      "text/plain": [
       "(1, [2, 3], (4, 5))"
      ]
     },
     "execution_count": 25,
     "metadata": {},
     "output_type": "execute_result"
    }
   ],
   "source": [
    "atuple = (1, [2,3], (4,5))  # кортеж\n",
    "atuple"
   ]
  },
  {
   "cell_type": "code",
   "execution_count": 26,
   "metadata": {
    "id": "CZoLbiuObl0s"
   },
   "outputs": [
    {
     "data": {
      "text/plain": [
       "{1: 'один', 2: 'два', 3: 'три'}"
      ]
     },
     "execution_count": 26,
     "metadata": {},
     "output_type": "execute_result"
    }
   ],
   "source": [
    "adict = {1: \"один\", 2: \"два\", 3: \"три\"}  # словарь\n",
    "adict"
   ]
  },
  {
   "cell_type": "code",
   "execution_count": 27,
   "metadata": {
    "id": "qTvm2wwydMtY"
   },
   "outputs": [
    {
     "data": {
      "text/plain": [
       "{1, 2, 3}"
      ]
     },
     "execution_count": 27,
     "metadata": {},
     "output_type": "execute_result"
    }
   ],
   "source": [
    "aset = {1, 2, 1, 3, 1, 2}  # множество\n",
    "aset"
   ]
  },
  {
   "cell_type": "markdown",
   "metadata": {
    "id": "72eW5SxyFtu9"
   },
   "source": [
    "## Библиотека __NumPy__\n",
    "\n",
    "__NumPy__ (Numerical Python) — это библиотека __Python__ с поддержкой многомерных массивов (включая матрицы) и математических функций, предназначенных для работы с многомерными массивами. [__NumPy__](https://numpy.org) является основой для многих других библиотек __Python__, в т.ч. библиотек машинного обучения.\n",
    "\n",
    "Для использования __NumPy__ импортируем библиотеку командой `import`:"
   ]
  },
  {
   "cell_type": "code",
   "execution_count": 28,
   "metadata": {
    "id": "ZxfOMXdtFWKR"
   },
   "outputs": [],
   "source": [
    "import numpy as np"
   ]
  },
  {
   "cell_type": "markdown",
   "metadata": {
    "id": "UfXyT-ROGN1B"
   },
   "source": [
    "### Создание массива __NumPy__\n",
    "\n",
    "Объект `ndarray` (многомерный массив) может быть создан из списка или кортежа.\n",
    "\n",
    "Объект `ndarray` имеет такие свойства как:\n",
    "\n",
    "• `ndim` – ранг (число осей или измерений) массива\n",
    "\n",
    "• `shape` – кортеж, показывающий длину массива по каждой из осей (размеры массива). Для матрицы из `n` строк и `m` столбов, свойство `shape` равно `(n,m)`. Число элементов в кортеже `shape` равно рангу массива, то есть свойству `ndim`.\n",
    "\n",
    "• `size` – число элементов в массиве, равное произведению всех элементов кортежа `shape`.\n",
    "\n",
    "• `dtype` – тип элементов массива. Тип `dtype` можно определить явно, используя стандартные типы данных __Python__ или типы, предусмотренные библиотекой __NumPy__, например, `dtype=np.int8`. Тип `dtype` также может быть составным, например, целое число и число с плавающей точкой."
   ]
  },
  {
   "cell_type": "code",
   "execution_count": 29,
   "metadata": {
    "id": "2GjGrot6GdeF"
   },
   "outputs": [
    {
     "name": "stdout",
     "output_type": "stream",
     "text": [
      "[1. 2. 3. 4. 5.]\n",
      "Ранг = 1\n",
      "Размеры = (5,)\n",
      "Число элементов = 5\n",
      "Тип массива = float16\n"
     ]
    }
   ],
   "source": [
    "oneDim = np.array([1, 2, 3, 4, 5],dtype=np.float16) # одномерный массив (вектор)\n",
    "print(oneDim)\n",
    "print(\"Ранг =\", oneDim.ndim)\n",
    "print(\"Размеры =\", oneDim.shape)\n",
    "print(\"Число элементов =\", oneDim.size)\n",
    "print(\"Тип массива =\", oneDim.dtype)"
   ]
  },
  {
   "cell_type": "code",
   "execution_count": 30,
   "metadata": {
    "id": "HxyoCk-ZLsLI"
   },
   "outputs": [
    {
     "name": "stdout",
     "output_type": "stream",
     "text": [
      "[[1 2]\n",
      " [3 4]\n",
      " [5 6]\n",
      " [7 8]]\n",
      "Ранг = 2\n",
      "Размеры = (4, 2)\n",
      "Число элементов = 8\n",
      "Тип массива = int32\n"
     ]
    }
   ],
   "source": [
    "twoDim = np.array([[1,2], [3,4], [5,6], [7,8]]) # двумерный массив (матрица)\n",
    "print(twoDim)\n",
    "print(\"Ранг =\", twoDim.ndim)\n",
    "print(\"Размеры =\", twoDim.shape)\n",
    "print(\"Число элементов =\", twoDim.size)\n",
    "print(\"Тип массива =\", twoDim.dtype)"
   ]
  },
  {
   "cell_type": "code",
   "execution_count": 31,
   "metadata": {
    "id": "2qN-Bo8cL_af"
   },
   "outputs": [
    {
     "name": "stdout",
     "output_type": "stream",
     "text": [
      "[['1' 'a' '3.0']\n",
      " ['2' 'b' '3.5']]\n",
      "Ранг = 2\n",
      "Размеры = (2, 3)\n",
      "Число элементов = 6\n",
      "Тип массива = <U32\n"
     ]
    }
   ],
   "source": [
    "arrFromTuple = np.array(((1,'a',3.0), (2,'b',3.5))) # массив из кортежа\n",
    "print(arrFromTuple)\n",
    "print(\"Ранг =\", arrFromTuple.ndim)\n",
    "print(\"Размеры =\", arrFromTuple.shape)\n",
    "print(\"Число элементов =\", arrFromTuple.size)\n",
    "print(\"Тип массива =\", arrFromTuple.dtype)"
   ]
  },
  {
   "cell_type": "markdown",
   "metadata": {
    "id": "UPctHXftMULn"
   },
   "source": [
    "В __NumPy__ имеется ряд встроенных функций для создания объектов `ndarray`."
   ]
  },
  {
   "cell_type": "code",
   "execution_count": 32,
   "metadata": {
    "id": "YHorYZCyMaXW"
   },
   "outputs": [
    {
     "name": "stdout",
     "output_type": "stream",
     "text": [
      "[0.75430043 0.71025367 0.92117034 0.71076785 0.96858135]\n"
     ]
    }
   ],
   "source": [
    "print(np.random.rand(5)) # случайные числа с равномерным распределением на [0,1]"
   ]
  },
  {
   "cell_type": "code",
   "execution_count": 33,
   "metadata": {
    "id": "X41oN_EgM1Bx"
   },
   "outputs": [
    {
     "name": "stdout",
     "output_type": "stream",
     "text": [
      "[-1.02796968 -1.34303071 -1.02718669  0.17619323 -0.5483667 ]\n"
     ]
    }
   ],
   "source": [
    "print(np.random.randn(5)) # случайные числа со станд. нормальным распределением"
   ]
  },
  {
   "cell_type": "code",
   "execution_count": 34,
   "metadata": {
    "id": "XttPKWr7M8bH"
   },
   "outputs": [
    {
     "name": "stdout",
     "output_type": "stream",
     "text": [
      "[-10  -7  -4  -1   2   5   8]\n"
     ]
    }
   ],
   "source": [
    "print(np.arange(-10,10,3)) # аналогично range, возвращается массив вместо списка"
   ]
  },
  {
   "cell_type": "code",
   "execution_count": 35,
   "metadata": {
    "id": "LYTOkbTMNCVX"
   },
   "outputs": [
    {
     "name": "stdout",
     "output_type": "stream",
     "text": [
      "[[ 0  1  2]\n",
      " [ 3  4  5]\n",
      " [ 6  7  8]\n",
      " [ 9 10 11]]\n"
     ]
    }
   ],
   "source": [
    "print(np.arange(12).reshape(4,3)) # преобразование вектора в матрицу или тензор"
   ]
  },
  {
   "cell_type": "code",
   "execution_count": 36,
   "metadata": {
    "id": "3ObjSk1VNWSF"
   },
   "outputs": [
    {
     "name": "stdout",
     "output_type": "stream",
     "text": [
      "[0.  0.1 0.2 0.3 0.4 0.5 0.6 0.7 0.8 0.9 1. ]\n"
     ]
    }
   ],
   "source": [
    "print(np.linspace(0,1,11)) # разбиение интервала на равноудаленные значения"
   ]
  },
  {
   "cell_type": "code",
   "execution_count": 37,
   "metadata": {
    "id": "W67YmxMuNrkS"
   },
   "outputs": [
    {
     "name": "stdout",
     "output_type": "stream",
     "text": [
      "[[0. 0. 0.]\n",
      " [0. 0. 0.]]\n"
     ]
    }
   ],
   "source": [
    "print(np.zeros((2,3)))           # матрица из нулей"
   ]
  },
  {
   "cell_type": "code",
   "execution_count": 38,
   "metadata": {
    "id": "mT4Gufj5N0pw"
   },
   "outputs": [
    {
     "name": "stdout",
     "output_type": "stream",
     "text": [
      "[[1 1]\n",
      " [1 1]\n",
      " [1 1]]\n"
     ]
    }
   ],
   "source": [
    "print(np.ones((3,2),dtype=int))  # матрица из единиц"
   ]
  },
  {
   "cell_type": "code",
   "execution_count": 39,
   "metadata": {
    "id": "jBGMHzqLN5PQ"
   },
   "outputs": [
    {
     "name": "stdout",
     "output_type": "stream",
     "text": [
      "[[1 0 0 0]\n",
      " [0 1 0 0]\n",
      " [0 0 1 0]\n",
      " [0 0 0 1]]\n"
     ]
    }
   ],
   "source": [
    "print(np.eye(4,dtype=np.int16))  # единичная матрица размером 4 x 4 (np.int16)"
   ]
  },
  {
   "cell_type": "markdown",
   "metadata": {
    "id": "W3fJqttskBBI"
   },
   "source": [
    "### Поэлементные операции\n",
    "\n",
    "Можно применять стандартные операции, такие как сложение и умножение, к каждому элементу объекта `ndarray`, при этом создается новый массив, который заполняется результатами действия оператора."
   ]
  },
  {
   "cell_type": "code",
   "execution_count": 40,
   "metadata": {
    "id": "nxqZdeEFkHwP"
   },
   "outputs": [
    {
     "name": "stdout",
     "output_type": "stream",
     "text": [
      "[2 3 4 5 6]\n",
      "[0 1 2 3 4]\n",
      "[ 2  4  6  8 10]\n",
      "[0 1 1 2 2]\n",
      "[ 1  4  9 16 25]\n",
      "[1 0 1 0 1]\n",
      "[1.         0.5        0.33333333 0.25       0.2       ]\n"
     ]
    }
   ],
   "source": [
    "x = np.array([1, 2, 3, 4, 5]) # ndarray из списка Python\n",
    "\n",
    "print(x + 1)      # сложение\n",
    "print(x - 1)      # вычитание\n",
    "print(x * 2)      # умножение\n",
    "print(x // 2)     # целая часть от деления\n",
    "print(x ** 2)     # возведение в квадрат\n",
    "print(x % 2)      # остаток от деления\n",
    "print(1 / x)      # деление"
   ]
  },
  {
   "cell_type": "code",
   "execution_count": 41,
   "metadata": {
    "id": "FOSBWORskaaP"
   },
   "outputs": [
    {
     "name": "stdout",
     "output_type": "stream",
     "text": [
      "[ 3  6  9 12 15]\n",
      "[1 2 3 4 5]\n",
      "[ 2  8 18 32 50]\n",
      "[2. 2. 2. 2. 2.]\n",
      "[2 2 2 2 2]\n",
      "[     2     16    216   4096 100000]\n"
     ]
    }
   ],
   "source": [
    "x = np.array([2, 4, 6, 8, 10])\n",
    "y = np.array([1, 2, 3, 4, 5])\n",
    "\n",
    "print(x + y)\n",
    "print(x - y)\n",
    "print(x * y)\n",
    "print(x / y)\n",
    "print(x // y)\n",
    "print(x ** y)"
   ]
  },
  {
   "cell_type": "markdown",
   "metadata": {
    "id": "k8D7rivzkwEL"
   },
   "source": [
    "### Индексы и срезы\n",
    "\n",
    "Существуют различные способы выбрать определенные элементы в массиве `ndarray`. Нумерация элементов в массиве (как и в других структурах данных) начинается с нуля. При обращениие к конкретному элементу массива по индексу индекс указывается в квадратных скобках:"
   ]
  },
  {
   "cell_type": "code",
   "execution_count": 42,
   "metadata": {
    "id": "rVlpva4yk5UP"
   },
   "outputs": [
    {
     "name": "stdout",
     "output_type": "stream",
     "text": [
      "x = [-5 -4 -3 -2 -1  0  1  2  3  4]\n",
      "x[3] = -2\n",
      "x[-1] = 4\n"
     ]
    }
   ],
   "source": [
    "x = np.arange(-5,5)\n",
    "print('x =', x)\n",
    "print('x[3] =', x[3])\n",
    "print('x[-1] =', x[-1])"
   ]
  },
  {
   "cell_type": "markdown",
   "metadata": {
    "id": "QITl7ehknBBN"
   },
   "source": [
    "Срез (slice) представляет собой инструмент для работы с подмножествами элементов массива. Срез записывается как обращение к элементам массива по индексу вида `some_array[START:STOP:STEP]`, где\n",
    "`START` — индекс первого выбираемого элемента,\n",
    "`STOP` — индекс элемента, перед которым срез должен закончиться (т.е. сам элемент с индексом `STOP` не будет выбираться),\n",
    "`STEP` — шаг прироста выбираемых индексов.\n",
    "\n",
    "Любой из трёх параметров среза может быть опущен и вместо соответствующего параметра будет выбрано значение по умолчанию, а именно,\n",
    "`START` по умолчанию означает \"от начала массива\",\n",
    "`STOP` по умолчанию означает \"до конца массива\" (включительно),\n",
    "`STEP` по умолчанию означает \"брать каждый элемент\"."
   ]
  },
  {
   "cell_type": "code",
   "execution_count": 43,
   "metadata": {
    "id": "LwSkwdhrlLza"
   },
   "outputs": [
    {
     "name": "stdout",
     "output_type": "stream",
     "text": [
      "y = [-2 -1]\n"
     ]
    }
   ],
   "source": [
    "y = x[3:5]     # y - это срез\n",
    "print(\"y =\",y)"
   ]
  },
  {
   "cell_type": "markdown",
   "metadata": {
    "id": "9r4JlPHtwdrE"
   },
   "source": [
    "Срезы могут использоваться не только для выборки, но и для присваивания значений. Например, для присваивания значения каждому элементу можно использовать такой код:"
   ]
  },
  {
   "cell_type": "code",
   "execution_count": 44,
   "metadata": {
    "id": "_l0cCbG6wUv1"
   },
   "outputs": [
    {
     "name": "stdout",
     "output_type": "stream",
     "text": [
      "y = [1000 1000]\n"
     ]
    }
   ],
   "source": [
    "y[:] = 1000    # каждый элемент y заменяется на 1000\n",
    "print(\"y =\",y)"
   ]
  },
  {
   "cell_type": "markdown",
   "metadata": {
    "id": "IH2zPokhxCs-"
   },
   "source": [
    "Срез массива представляет собой указатель на подмассив, поэтому изменение среза приводит к изменению самого массива:"
   ]
  },
  {
   "cell_type": "code",
   "execution_count": 45,
   "metadata": {
    "id": "gUQqlHqLxDWN"
   },
   "outputs": [
    {
     "name": "stdout",
     "output_type": "stream",
     "text": [
      "x = [  -5   -4   -3 1000 1000    0    1    2    3    4]\n"
     ]
    }
   ],
   "source": [
    "print(\"x =\",x) # изменение y приводит к изменению x"
   ]
  },
  {
   "cell_type": "markdown",
   "metadata": {
    "id": "AjNTp0r5x2Sl"
   },
   "source": [
    "Срез массива является представлением тех же самых данных (ссылку на данные), а для создания копии данных массива можно воспользоваться методом `copy()`:"
   ]
  },
  {
   "cell_type": "code",
   "execution_count": 46,
   "metadata": {
    "id": "Hpsp6iwPyFI2"
   },
   "outputs": [
    {
     "name": "stdout",
     "output_type": "stream",
     "text": [
      "z = [1000 1000]\n",
      "z = [500 500]\n",
      "x = [  -5   -4   -3 1000 1000    0    1    2    3    4]\n"
     ]
    }
   ],
   "source": [
    "z = x[3:5].copy()   # делаем копию подмассива\n",
    "print(\"z =\",z)\n",
    "z[:] = 500          # изменяем z\n",
    "print(\"z =\",z)\n",
    "print(\"x =\",x)      # изменение z не влияет на x"
   ]
  },
  {
   "cell_type": "markdown",
   "metadata": {
    "id": "Z5iSmIK2ysvL"
   },
   "source": [
    "Объект `ndarray` также поддерживает булево индексирование. Создадим массив из случайных чисел:"
   ]
  },
  {
   "cell_type": "code",
   "execution_count": 47,
   "metadata": {
    "id": "2SDmngfmyu1M"
   },
   "outputs": [
    {
     "name": "stdout",
     "output_type": "stream",
     "text": [
      "[-0.75167926  2.30196318  0.12717319  1.08454573  0.83260418  0.2435472\n",
      " -0.81371322 -0.23364932 -0.17633731  0.81617492]\n"
     ]
    }
   ],
   "source": [
    "arr = np.random.randn(10)\n",
    "print(arr)"
   ]
  },
  {
   "cell_type": "markdown",
   "metadata": {
    "id": "AtnwTvvXzTwC"
   },
   "source": [
    "Чтобы отобрать только отрицательные элементы, можно использовать конструкцию:"
   ]
  },
  {
   "cell_type": "code",
   "execution_count": 48,
   "metadata": {
    "id": "52fhUXO4zI3W"
   },
   "outputs": [
    {
     "data": {
      "text/plain": [
       "array([-0.75167926, -0.81371322, -0.23364932, -0.17633731])"
      ]
     },
     "execution_count": 48,
     "metadata": {},
     "output_type": "execute_result"
    }
   ],
   "source": [
    "arr[arr < 0]"
   ]
  },
  {
   "cell_type": "markdown",
   "metadata": {
    "id": "5ZRIifKH2c0h"
   },
   "source": [
    "### Арифметические и статистические функции __Numpy__\n",
    "\n",
    "В __NumPy__ встроены многие математические функции для манипулирования элементами `ndarray`:"
   ]
  },
  {
   "cell_type": "code",
   "execution_count": 49,
   "metadata": {
    "id": "itaughqT240b"
   },
   "outputs": [
    {
     "name": "stdout",
     "output_type": "stream",
     "text": [
      "y = [-1.4  0.4 -3.2  2.5  3.4]\n"
     ]
    }
   ],
   "source": [
    "y = np.array([-1.4, 0.4, -3.2, 2.5, 3.4])    # массив чисел\n",
    "print('y =', y)"
   ]
  },
  {
   "cell_type": "code",
   "execution_count": 50,
   "metadata": {
    "id": "mygnc2HF2_v9"
   },
   "outputs": [
    {
     "name": "stdout",
     "output_type": "stream",
     "text": [
      "exp(y) = [ 0.24659696  1.4918247   0.0407622  12.18249396 29.96410005]\n"
     ]
    }
   ],
   "source": [
    "print('exp(y) =', np.exp(y))          # экспонента"
   ]
  },
  {
   "cell_type": "code",
   "execution_count": 51,
   "metadata": {
    "id": "XW07jNZu3VJ5"
   },
   "outputs": [
    {
     "name": "stdout",
     "output_type": "stream",
     "text": [
      "sort(y) = [-3.2 -1.4  0.4  2.5  3.4]\n"
     ]
    }
   ],
   "source": [
    "print('sort(y) =', np.sort(y))         # сортировка"
   ]
  },
  {
   "cell_type": "code",
   "execution_count": 52,
   "metadata": {
    "id": "O-gHzNS83a8P"
   },
   "outputs": [
    {
     "name": "stdout",
     "output_type": "stream",
     "text": [
      "Минимум  = -3.2\n",
      "Максимум = 3.4\n",
      "Сумма = 1.6999999999999997\n",
      "Среднее  = 0.33999999999999997\n",
      "Стандартное отклонение = 2.432776191925595\n"
     ]
    }
   ],
   "source": [
    "print(\"Минимум  =\", np.min(y))\n",
    "print(\"Максимум =\", np.max(y))\n",
    "print(\"Сумма =\",    np.sum(y))\n",
    "print(\"Среднее  =\", np.mean(y))\n",
    "print(\"Стандартное отклонение =\", np.std(y))"
   ]
  },
  {
   "cell_type": "markdown",
   "metadata": {
    "id": "gDbs6wJ8gKwy"
   },
   "source": [
    "При помощи функций __NumPy__  можно стандартизовать числовой массив так, чтобы его среднее значение было было нулевым, а стандартное отклонение – единичным:"
   ]
  },
  {
   "cell_type": "code",
   "execution_count": 53,
   "metadata": {
    "id": "g344bAkPhWCC"
   },
   "outputs": [
    {
     "data": {
      "text/plain": [
       "(4.4408920985006264e-17, 1.0)"
      ]
     },
     "execution_count": 53,
     "metadata": {},
     "output_type": "execute_result"
    }
   ],
   "source": [
    "ys = (y - y.mean()) / y.std()\n",
    "ys.mean(), ys.std()"
   ]
  },
  {
   "cell_type": "markdown",
   "metadata": {
    "id": "ddYe_wvL3vEd"
   },
   "source": [
    "Также бывают полезны такие функции как определение индекса минимального и максимального элемента:"
   ]
  },
  {
   "cell_type": "code",
   "execution_count": 54,
   "metadata": {
    "id": "6jFMjeAs34As"
   },
   "outputs": [
    {
     "name": "stdout",
     "output_type": "stream",
     "text": [
      "Индекс мин. элемента = 2\n",
      "Индекс макс.элемента = 4\n"
     ]
    }
   ],
   "source": [
    "print('Индекс мин. элемента =', np.argmin(y))\n",
    "print('Индекс макс.элемента =', np.argmax(y))"
   ]
  },
  {
   "cell_type": "markdown",
   "metadata": {
    "id": "LRG8TBZICThW"
   },
   "source": [
    "### Линейная алгебра в __Numpy__\n",
    "\n",
    "__Numpy__ поддерживает многие операции линейной алгебры, например, транспонирование матрицы и матричное умножение:"
   ]
  },
  {
   "cell_type": "code",
   "execution_count": 55,
   "metadata": {
    "id": "5gBYAjBICeyP"
   },
   "outputs": [
    {
     "name": "stdout",
     "output_type": "stream",
     "text": [
      "X =\n",
      " [[-0.14179786  1.81758071  0.83003678 -0.01241709]\n",
      " [ 0.29715138 -0.42042243 -1.25986727 -0.11184502]] \n",
      "\n",
      "X^T =\n",
      " [[-0.14179786  0.29715138]\n",
      " [ 1.81758071 -0.42042243]\n",
      " [ 0.83003678 -1.25986727]\n",
      " [-0.01241709 -0.11184502]]\n"
     ]
    }
   ],
   "source": [
    "X = np.random.randn(2,4) # случайная матрица 2 x 4\n",
    "print('X =\\n', X, '\\n')\n",
    "print('X^T =\\n', X.T)    # транспонирование матрицы X^T"
   ]
  },
  {
   "cell_type": "code",
   "execution_count": 56,
   "metadata": {
    "id": "fD217SIYCx9E"
   },
   "outputs": [
    {
     "name": "stdout",
     "output_type": "stream",
     "text": [
      "y = [ 0.65200741 -1.16327355 -0.10392523 -0.02831093]\n"
     ]
    }
   ],
   "source": [
    "y = np.random.randn(4) # случайный вектор\n",
    "print('y =', y)"
   ]
  },
  {
   "cell_type": "code",
   "execution_count": 57,
   "metadata": {
    "id": "nL37AwZ1C_8O"
   },
   "outputs": [
    {
     "name": "stdout",
     "output_type": "stream",
     "text": [
      "X * y = [-2.29270704  0.81690962]\n"
     ]
    }
   ],
   "source": [
    "print('X * y =', X.dot(y))        # умножение матрицы X на вектор y: X * y"
   ]
  },
  {
   "cell_type": "code",
   "execution_count": 58,
   "metadata": {
    "id": "CUj9AZkjDM78"
   },
   "outputs": [
    {
     "name": "stdout",
     "output_type": "stream",
     "text": [
      "X * X^T =\n",
      " [[ 4.01282152 -1.85063451]\n",
      " [-1.85063451  1.86482882]]\n"
     ]
    }
   ],
   "source": [
    "print('X * X^T =\\n', X.dot(X.T))  # умножение матрицы X на матрицу X^T: X * X^T"
   ]
  },
  {
   "cell_type": "code",
   "execution_count": 59,
   "metadata": {
    "id": "PO6XeJGBDZWQ"
   },
   "outputs": [
    {
     "name": "stdout",
     "output_type": "stream",
     "text": [
      "X^T * X =\n",
      " [[ 0.10840558 -0.38265817 -0.49206875 -0.03147418]\n",
      " [-0.38265817  3.48035467  2.0383353   0.02445309]\n",
      " [-0.49206875  2.0383353   2.2762266   0.13060323]\n",
      " [-0.03147418  0.02445309  0.13060323  0.01266349]]\n"
     ]
    }
   ],
   "source": [
    "print('X^T * X =\\n', X.T.dot(X))  # умножение матрицы X^T на матрицу X: X^T * X"
   ]
  },
  {
   "cell_type": "markdown",
   "metadata": {
    "id": "pej6QOQDDkOs"
   },
   "source": [
    "Также в __NumPy__ поддерживается вычисление определителя, обратной матрицы, собственных значений и собственных векторов матрицы:"
   ]
  },
  {
   "cell_type": "code",
   "execution_count": 60,
   "metadata": {
    "id": "qjJbLtJFDq7u"
   },
   "outputs": [
    {
     "name": "stdout",
     "output_type": "stream",
     "text": [
      "X =\n",
      " [[ 1.72572515  0.18839127 -0.7518983 ]\n",
      " [-0.53236333 -0.10097966  0.76676821]\n",
      " [-1.52992537  0.26178526 -0.26401542]\n",
      " [ 0.29134233 -0.42856168 -1.51841247]\n",
      " [ 1.17570559  2.42708888 -0.02537348]]\n"
     ]
    }
   ],
   "source": [
    "X = np.random.randn(5,3)     # случайная матрица 5 x 3\n",
    "print('X =\\n', X)"
   ]
  },
  {
   "cell_type": "code",
   "execution_count": 61,
   "metadata": {
    "id": "8Yj9p5-1DzVT"
   },
   "outputs": [
    {
     "name": "stdout",
     "output_type": "stream",
     "text": [
      "C = X^T * X =\n",
      " [[ 7.06937363  2.70704133 -1.77405478]\n",
      " [ 2.70704133  6.18864525  0.30095528]\n",
      " [-1.77405478  0.30095528  3.52920891]]\n"
     ]
    }
   ],
   "source": [
    "C = X.T.dot(X)               # C = X^T * X - это квадратная матрица 3 на 3\n",
    "print('C = X^T * X =\\n', C)"
   ]
  },
  {
   "cell_type": "code",
   "execution_count": 62,
   "metadata": {
    "id": "8pWJazacEbjU"
   },
   "outputs": [
    {
     "name": "stdout",
     "output_type": "stream",
     "text": [
      "det(C) = 105.53176431276357\n"
     ]
    }
   ],
   "source": [
    "detC = np.linalg.det(C)      # определитель матрицы\n",
    "print('det(C) =', detC)"
   ]
  },
  {
   "cell_type": "code",
   "execution_count": 63,
   "metadata": {
    "id": "MgM0na7nENIF"
   },
   "outputs": [
    {
     "name": "stdout",
     "output_type": "stream",
     "text": [
      "C^(-1) =\n",
      " [[ 0.20610333 -0.09558852  0.11175492]\n",
      " [-0.09558852  0.20659207 -0.06566748]\n",
      " [ 0.11175492 -0.06566748  0.34512616]]\n"
     ]
    }
   ],
   "source": [
    "invC = np.linalg.inv(C)      # обратная матрица 3 на 3\n",
    "print('C^(-1) =\\n', invC)"
   ]
  },
  {
   "cell_type": "code",
   "execution_count": 64,
   "metadata": {
    "id": "ensBL1ngEoSi"
   },
   "outputs": [
    {
     "name": "stdout",
     "output_type": "stream",
     "text": [
      "Собственные значения S: [9.6045011  2.20928146 4.97344522] \n",
      "\n",
      "Собственные векторы S:\n",
      " [[-0.77672625 -0.50251295 -0.37970654]\n",
      " [-0.59817732  0.39981914  0.69449878]\n",
      " [ 0.19718069 -0.76656728  0.61114187]]\n"
     ]
    }
   ],
   "source": [
    "S, U = np.linalg.eig(C)      # собственные значения S и собственные векторы U\n",
    "print('Собственные значения S:', S, '\\n') # собственные значения (по убыванию)\n",
    "print('Собственные векторы S:\\n', U)  # собственные векторы в столбцах матрицы"
   ]
  },
  {
   "cell_type": "code",
   "execution_count": 65,
   "metadata": {
    "id": "v_RfS0fcFDnM"
   },
   "outputs": [
    {
     "data": {
      "text/plain": [
       "array([-0.77672625, -0.59817732,  0.19718069])"
      ]
     },
     "execution_count": 65,
     "metadata": {},
     "output_type": "execute_result"
    }
   ],
   "source": [
    "C.dot(U[:,0])/S[0] # проверка!"
   ]
  },
  {
   "cell_type": "markdown",
   "metadata": {
    "id": "Mq654sAGXCpI"
   },
   "source": [
    "## Библиотека __Pandas__\n",
    "\n",
    "Библиотека [__Pandas__](https://pandas.pydata.org) содержит две удобных структуры данных для хранения и манипуляций с данными – объекты `Series` и `DataFrame`. Объект `Series` подобен одномерному массиву, в то время, как объект `DataFrame` более напоминает матрицу или таблицу.\n",
    "\n",
    "### Объект `Series`\n",
    "\n",
    "Объект `Series` состоит из одномерного массива значений (свойство `values`), к элементам которого можно обращаться при помощи массива индексов (свойство `index`). Все элементы в объекте `Series` имеют один и тот же тип. Объект `Series` может быть создан из списка, массива __NumPy__ или словаря __Python__."
   ]
  },
  {
   "cell_type": "code",
   "execution_count": 66,
   "metadata": {
    "id": "ZrM9mC8TXr4B"
   },
   "outputs": [
    {
     "name": "stdout",
     "output_type": "stream",
     "text": [
      "0    3.1\n",
      "1    2.4\n",
      "2   -1.7\n",
      "3    0.2\n",
      "4   -2.9\n",
      "5    4.5\n",
      "dtype: float64\n",
      "Values = [ 3.1  2.4 -1.7  0.2 -2.9  4.5]\n",
      "Index = RangeIndex(start=0, stop=6, step=1)\n"
     ]
    }
   ],
   "source": [
    "import pandas as pd\n",
    "\n",
    "s1 = pd.Series([3.1, 2.4, -1.7, 0.2, -2.9, 4.5])   # объект Series из списка\n",
    "print(s1)\n",
    "print('Values =', s1.values)     # значения объекта Series\n",
    "print('Index =', s1.index)       # индексы объекта Series"
   ]
  },
  {
   "cell_type": "code",
   "execution_count": 67,
   "metadata": {
    "id": "lVxT5AVHX7Ha"
   },
   "outputs": [
    {
     "name": "stdout",
     "output_type": "stream",
     "text": [
      "0    1.562350\n",
      "1    0.356876\n",
      "2    1.225753\n",
      "3    0.161389\n",
      "4   -1.641695\n",
      "5   -1.854410\n",
      "dtype: float64\n",
      "Values = [ 1.56234955  0.35687578  1.22575272  0.16138856 -1.64169491 -1.85441023]\n",
      "Index = [0, 1, 2, 3, 4, 5]\n"
     ]
    }
   ],
   "source": [
    "s2 = pd.Series(np.random.randn(6))  # объект Series из массива numpy\n",
    "print(s2)\n",
    "print('Values =', s2.values)   # значения объекта Series\n",
    "print('Index =', list(s2.index))     # индексы объекта Series"
   ]
  },
  {
   "cell_type": "code",
   "execution_count": 68,
   "metadata": {
    "id": "oCdIxSzQYZ-o"
   },
   "outputs": [
    {
     "name": "stdout",
     "output_type": "stream",
     "text": [
      "Jan 1    1.2\n",
      "Jan 2    2.5\n",
      "Jan 3   -2.2\n",
      "Jan 4    3.1\n",
      "Jan 5   -0.8\n",
      "Jan 6   -3.2\n",
      "dtype: float64\n",
      "Values= [ 1.2  2.5 -2.2  3.1 -0.8 -3.2]\n",
      "Index= Index(['Jan 1', 'Jan 2', 'Jan 3', 'Jan 4', 'Jan 5', 'Jan 6'], dtype='object')\n"
     ]
    }
   ],
   "source": [
    "s3 = pd.Series([1.2,2.5,-2.2,3.1,-0.8,-3.2],\n",
    "            index = ['Jan 1','Jan 2','Jan 3','Jan 4','Jan 5','Jan 6',])\n",
    "print(s3)\n",
    "print('Values=', s3.values)   # значения объекта Series\n",
    "print('Index=', s3.index)     # индексы объекта Series"
   ]
  },
  {
   "cell_type": "code",
   "execution_count": 69,
   "metadata": {
    "id": "K0FeWyj4YqBu"
   },
   "outputs": [
    {
     "name": "stdout",
     "output_type": "stream",
     "text": [
      "MI       Lansing\n",
      "CA    Sacramento\n",
      "TX        Austin\n",
      "MN       St Paul\n",
      "dtype: object\n",
      "Values= ['Lansing' 'Sacramento' 'Austin' 'St Paul']\n",
      "Index = ['MI', 'CA', 'TX', 'MN']\n"
     ]
    }
   ],
   "source": [
    "capitals = {'MI':'Lansing', 'CA':'Sacramento', 'TX':'Austin', 'MN':'St Paul'}\n",
    "\n",
    "s4 = pd.Series(capitals)   # объект Series из словаря\n",
    "print(s4)\n",
    "print('Values=', s4.values)     # значения объекта Series\n",
    "print('Index =', list(s4.index)) # индексы объекта Series"
   ]
  },
  {
   "cell_type": "markdown",
   "metadata": {
    "id": "KIjgT4tSY6fw"
   },
   "source": [
    "Доступ к элементам объекта `Series` возможен по номеру объекта или по ключу:"
   ]
  },
  {
   "cell_type": "code",
   "execution_count": 70,
   "metadata": {
    "id": "I9OGPTdwZF7Z"
   },
   "outputs": [
    {
     "name": "stdout",
     "output_type": "stream",
     "text": [
      "\n",
      "s3[2]= -2.2\n",
      "s3['Jan 3']= -2.2\n",
      "\n",
      "s3[1:3]=\n",
      "Jan 2    2.5\n",
      "Jan 3   -2.2\n",
      "dtype: float64\n"
     ]
    },
    {
     "name": "stderr",
     "output_type": "stream",
     "text": [
      "C:\\Users\\fitte\\AppData\\Local\\Temp\\ipykernel_10812\\2531033304.py:1: FutureWarning: Series.__getitem__ treating keys as positions is deprecated. In a future version, integer keys will always be treated as labels (consistent with DataFrame behavior). To access a value by position, use `ser.iloc[pos]`\n",
      "  print('\\ns3[2]=', s3[2])             # доступ по номеру\n"
     ]
    }
   ],
   "source": [
    "print('\\ns3[2]=', s3[2])             # доступ по номеру\n",
    "print('s3[\\'Jan 3\\']=', s3['Jan 3']) # доступ по индексу\n",
    "\n",
    "print('\\ns3[1:3]=')                  # срез объекта Series\n",
    "print(s3[1:3])"
   ]
  },
  {
   "cell_type": "markdown",
   "metadata": {
    "id": "lhmEJIXVZfdY"
   },
   "source": [
    "Большинство конструкций __NumPy__ могут применяться к объекту `Series`:"
   ]
  },
  {
   "cell_type": "code",
   "execution_count": 71,
   "metadata": {
    "id": "9WAOPBC8Zkbd"
   },
   "outputs": [
    {
     "name": "stdout",
     "output_type": "stream",
     "text": [
      "shape = (6,)\n",
      "size = 6\n"
     ]
    }
   ],
   "source": [
    "print('shape =', s3.shape)  # размеры Series\n",
    "print('size =', s3.size)    # число элементов в Series"
   ]
  },
  {
   "cell_type": "code",
   "execution_count": 72,
   "metadata": {
    "id": "fqAKG8kWZwK4"
   },
   "outputs": [
    {
     "name": "stdout",
     "output_type": "stream",
     "text": [
      "Jan 3   -2.2\n",
      "Jan 5   -0.8\n",
      "Jan 6   -3.2\n",
      "dtype: float64\n"
     ]
    }
   ],
   "source": [
    "print(s3[s3 < 0])   # фильтр для выбора элементов Series"
   ]
  },
  {
   "cell_type": "code",
   "execution_count": 73,
   "metadata": {
    "id": "kxfsf1hlZrmn"
   },
   "outputs": [
    {
     "name": "stdout",
     "output_type": "stream",
     "text": [
      "Jan 1    5.2\n",
      "Jan 2    6.5\n",
      "Jan 3    1.8\n",
      "Jan 4    7.1\n",
      "Jan 5    3.2\n",
      "Jan 6    0.8\n",
      "dtype: float64 \n",
      "\n",
      "Jan 1    0.300\n",
      "Jan 2    0.625\n",
      "Jan 3   -0.550\n",
      "Jan 4    0.775\n",
      "Jan 5   -0.200\n",
      "Jan 6   -0.800\n",
      "dtype: float64 \n",
      "\n",
      "Jan 1    1.648659\n",
      "Jan 2    1.871802\n",
      "Jan 3    0.587787\n",
      "Jan 4    1.960095\n",
      "Jan 5    1.163151\n",
      "Jan 6   -0.223144\n",
      "dtype: float64 \n",
      "\n"
     ]
    }
   ],
   "source": [
    "print(s3 + 4, '\\n') # операции числового объекта Series со скалярными величинами\n",
    "print(s3 / 4, '\\n')\n",
    "print(np.log(s3 + 4), '\\n') # функция numpy от числового объекта Series"
   ]
  },
  {
   "cell_type": "markdown",
   "metadata": {
    "id": "YPEyNLqGdXp2"
   },
   "source": [
    "## Объект `DataFrame`\n",
    "\n",
    "Объект `DataFrame` представляет собой табличную структуру данных, содержащую набор столбцов, каждый из которых может иметь различный тип (числовой, строковый, логический и т.п.). В отличие от объекта `Series` объект `DataFrame` имеет различные индексы для строк и столбцов. Существуют различные способы создания объекта `DataFrame` (например, из словаря, списка кортежей или массивов `ndarray`)."
   ]
  },
  {
   "cell_type": "code",
   "execution_count": 74,
   "metadata": {
    "id": "AaP_XsAUdnJs"
   },
   "outputs": [
    {
     "name": "stdout",
     "output_type": "stream",
     "text": [
      "     make    model   MSRP\n",
      "0    Ford   Taurus  27595\n",
      "1   Honda   Accord  23570\n",
      "2  Toyota    Camry  23495\n",
      "3   Tesla  Model S  68000\n"
     ]
    }
   ],
   "source": [
    "cars = {'make': ['Ford', 'Honda', 'Toyota', 'Tesla'],\n",
    "       'model': ['Taurus', 'Accord', 'Camry', 'Model S'],\n",
    "       'MSRP': [27595, 23570, 23495, 68000]}\n",
    "carData = pd.DataFrame(cars)   # объект DataFrame из словаря\n",
    "print(carData)"
   ]
  },
  {
   "cell_type": "code",
   "execution_count": 75,
   "metadata": {
    "id": "jvIyENdOd5i5"
   },
   "outputs": [
    {
     "name": "stdout",
     "output_type": "stream",
     "text": [
      "[0, 1, 2, 3]\n",
      "['make', 'model', 'MSRP']\n"
     ]
    }
   ],
   "source": [
    "print(list(carData.index))       # индексы строк\n",
    "print(list(carData.columns))     # индексы столбцов"
   ]
  },
  {
   "cell_type": "code",
   "execution_count": 76,
   "metadata": {
    "id": "f-LW5smfeVc6"
   },
   "outputs": [
    {
     "name": "stdout",
     "output_type": "stream",
     "text": [
      "       make    model   MSRP  year          dealer\n",
      "100    Ford   Taurus  27595  2023   Courtesy Ford\n",
      "200   Honda   Accord  23570  2023   Capital Honda\n",
      "300  Toyota    Camry  23495  2023  Spartan Toyota\n",
      "400   Tesla  Model S  68000  2023              NA\n"
     ]
    }
   ],
   "source": [
    "carData2 = pd.DataFrame(cars, index=[100,200,300,400]) # изменяем индексы строк\n",
    "carData2['year'] = 2023    # добавляем столбец с одним и тем же значением\n",
    "carData2['dealer'] = ['Courtesy Ford','Capital Honda','Spartan Toyota','NA']\n",
    "print(carData2)"
   ]
  },
  {
   "cell_type": "markdown",
   "metadata": {
    "id": "HDR6jjY0etop"
   },
   "source": [
    "Объект `DataFrame` может быть создан из списка кортежей:"
   ]
  },
  {
   "cell_type": "code",
   "execution_count": 77,
   "metadata": {
    "id": "Z9L_zcOsekuJ"
   },
   "outputs": [
    {
     "name": "stdout",
     "output_type": "stream",
     "text": [
      "    Год  Темп  Осадки\n",
      "0  2017   7.3    32.4\n",
      "1  2018   5.8    34.5\n",
      "2  2019   8.4    39.2\n",
      "3  2020   6.8    31.4\n",
      "4  2021   4.4    29.8\n",
      "5  2022   5.3    36.7\n"
     ]
    }
   ],
   "source": [
    "tuplelist = [(2017,7.3,32.4),(2018,5.8,34.5),(2019,8.4,39.2),\n",
    "              (2020,6.8,31.4),(2021,4.4,29.8),(2022,5.3,36.7)]\n",
    "columnNames = ['Год','Темп','Осадки']\n",
    "weatherData = pd.DataFrame(tuplelist, columns=columnNames)\n",
    "print(weatherData)"
   ]
  },
  {
   "cell_type": "markdown",
   "metadata": {
    "id": "FwHmhqmSe4yz"
   },
   "source": [
    "Объект `DataFrame` может быть создан из массива __NumPy__ (объекта `ndarray`):"
   ]
  },
  {
   "cell_type": "code",
   "execution_count": 78,
   "metadata": {
    "id": "APQo5shofBYw"
   },
   "outputs": [
    {
     "name": "stdout",
     "output_type": "stream",
     "text": [
      "         x1        x2        x3\n",
      "0 -0.109475  0.780954 -1.225245\n",
      "1  1.549114  1.367298  1.188049\n",
      "2 -0.719422  0.355834  0.799089\n",
      "3 -3.100488 -0.086592 -0.067049\n",
      "4 -0.087033  0.613051  0.019213\n"
     ]
    }
   ],
   "source": [
    "npdata = np.random.randn(5,3)  # случайная матрица 5 на 3\n",
    "columnNames = ['x1','x2','x3']\n",
    "data = pd.DataFrame(npdata, columns=columnNames)\n",
    "print(data)"
   ]
  },
  {
   "cell_type": "markdown",
   "metadata": {
    "id": "iXjuCsEY8sEK"
   },
   "source": [
    "Для обращения к столбцу объекта `DataFrame` можно использовать имя столбца (в квадратных скобках как символьную строку или иногда через точку):"
   ]
  },
  {
   "cell_type": "code",
   "execution_count": 79,
   "metadata": {
    "id": "VYizNX698uuL"
   },
   "outputs": [
    {
     "name": "stdout",
     "output_type": "stream",
     "text": [
      "0    0.780954\n",
      "1    1.367298\n",
      "2    0.355834\n",
      "3   -0.086592\n",
      "4    0.613051\n",
      "Name: x2, dtype: float64 \n",
      "\n",
      "0    0.780954\n",
      "1    1.367298\n",
      "2    0.355834\n",
      "3   -0.086592\n",
      "4    0.613051\n",
      "Name: x2, dtype: float64\n"
     ]
    }
   ],
   "source": [
    "print(data.x2,'\\n')\n",
    "print(data['x2'])"
   ]
  },
  {
   "cell_type": "markdown",
   "metadata": {
    "id": "KYImLQai9N1X"
   },
   "source": [
    "В результате получаем объект `Series`.\n",
    "\n",
    "Над объектами `DataFrame` можно совершать различные операции."
   ]
  },
  {
   "cell_type": "code",
   "execution_count": 80,
   "metadata": {
    "id": "bRaRUeL--lVt"
   },
   "outputs": [
    {
     "data": {
      "text/html": [
       "<div>\n",
       "<style scoped>\n",
       "    .dataframe tbody tr th:only-of-type {\n",
       "        vertical-align: middle;\n",
       "    }\n",
       "\n",
       "    .dataframe tbody tr th {\n",
       "        vertical-align: top;\n",
       "    }\n",
       "\n",
       "    .dataframe thead th {\n",
       "        text-align: right;\n",
       "    }\n",
       "</style>\n",
       "<table border=\"1\" class=\"dataframe\">\n",
       "  <thead>\n",
       "    <tr style=\"text-align: right;\">\n",
       "      <th></th>\n",
       "      <th>x1</th>\n",
       "      <th>x2</th>\n",
       "      <th>x3</th>\n",
       "    </tr>\n",
       "  </thead>\n",
       "  <tbody>\n",
       "    <tr>\n",
       "      <th>0</th>\n",
       "      <td>-0.109475</td>\n",
       "      <td>0.780954</td>\n",
       "      <td>-1.225245</td>\n",
       "    </tr>\n",
       "    <tr>\n",
       "      <th>1</th>\n",
       "      <td>1.549114</td>\n",
       "      <td>1.367298</td>\n",
       "      <td>1.188049</td>\n",
       "    </tr>\n",
       "    <tr>\n",
       "      <th>2</th>\n",
       "      <td>-0.719422</td>\n",
       "      <td>0.355834</td>\n",
       "      <td>0.799089</td>\n",
       "    </tr>\n",
       "    <tr>\n",
       "      <th>3</th>\n",
       "      <td>-3.100488</td>\n",
       "      <td>-0.086592</td>\n",
       "      <td>-0.067049</td>\n",
       "    </tr>\n",
       "    <tr>\n",
       "      <th>4</th>\n",
       "      <td>-0.087033</td>\n",
       "      <td>0.613051</td>\n",
       "      <td>0.019213</td>\n",
       "    </tr>\n",
       "  </tbody>\n",
       "</table>\n",
       "</div>"
      ],
      "text/plain": [
       "         x1        x2        x3\n",
       "0 -0.109475  0.780954 -1.225245\n",
       "1  1.549114  1.367298  1.188049\n",
       "2 -0.719422  0.355834  0.799089\n",
       "3 -3.100488 -0.086592 -0.067049\n",
       "4 -0.087033  0.613051  0.019213"
      ]
     },
     "execution_count": 80,
     "metadata": {},
     "output_type": "execute_result"
    }
   ],
   "source": [
    "data"
   ]
  },
  {
   "cell_type": "code",
   "execution_count": 81,
   "metadata": {
    "id": "Sj2KAzNUIdPA"
   },
   "outputs": [
    {
     "name": "stdout",
     "output_type": "stream",
     "text": [
      "Данные:\n",
      "          x1        x2        x3\n",
      "0 -0.109475  0.780954 -1.225245\n",
      "1  1.549114  1.367298  1.188049\n",
      "2 -0.719422  0.355834  0.799089\n",
      "3 -3.100488 -0.086592 -0.067049\n",
      "4 -0.087033  0.613051  0.019213\n"
     ]
    }
   ],
   "source": [
    "print(\"Данные:\\n\",data)"
   ]
  },
  {
   "cell_type": "code",
   "execution_count": 82,
   "metadata": {
    "id": "MfvqlsCQIm_m"
   },
   "outputs": [
    {
     "name": "stdout",
     "output_type": "stream",
     "text": [
      "Транспонированные данные:\n",
      "           0         1         2         3         4\n",
      "x1 -0.109475  1.549114 -0.719422 -3.100488 -0.087033\n",
      "x2  0.780954  1.367298  0.355834 -0.086592  0.613051\n",
      "x3 -1.225245  1.188049  0.799089 -0.067049  0.019213\n"
     ]
    }
   ],
   "source": [
    "print('Транспонированные данные:')\n",
    "print(data.T)    # транспонирование"
   ]
  },
  {
   "cell_type": "code",
   "execution_count": 83,
   "metadata": {
    "id": "jOwOdao0Iy68"
   },
   "outputs": [
    {
     "name": "stdout",
     "output_type": "stream",
     "text": [
      "Сложение:\n",
      "         x1        x2        x3\n",
      "0  3.890525  4.780954  2.774755\n",
      "1  5.549114  5.367298  5.188049\n",
      "2  3.280578  4.355834  4.799089\n",
      "3  0.899512  3.913408  3.932951\n",
      "4  3.912967  4.613051  4.019213\n"
     ]
    }
   ],
   "source": [
    "print('Сложение:')\n",
    "print(data + 4)    # операция сложения"
   ]
  },
  {
   "cell_type": "code",
   "execution_count": 84,
   "metadata": {
    "id": "z9kUdHzMI5pO"
   },
   "outputs": [
    {
     "name": "stdout",
     "output_type": "stream",
     "text": [
      "\n",
      "data2 =\n",
      "         x1        x2        x3\n",
      "0 -2.543546 -0.304976  1.223945\n",
      "1  1.667635 -1.178831  1.134390\n",
      "2  1.746857  0.008636 -0.019107\n",
      "3 -0.223821 -0.606233  0.312249\n",
      "4 -0.068982  1.741948 -1.226463\n"
     ]
    }
   ],
   "source": [
    "# columnNames = ['x1','x2','x3']\n",
    "data2 = pd.DataFrame(np.random.randn(5,3), columns=columnNames)\n",
    "print('\\ndata2 =')\n",
    "print(data2)"
   ]
  },
  {
   "cell_type": "code",
   "execution_count": 85,
   "metadata": {
    "id": "73YTQ_OiJGZ5"
   },
   "outputs": [
    {
     "name": "stdout",
     "output_type": "stream",
     "text": [
      "\n",
      "data + data2 = \n",
      "         x1        x2        x3\n",
      "0 -2.653021  0.475978 -0.001300\n",
      "1  3.216749  0.188467  2.322439\n",
      "2  1.027435  0.364471  0.779982\n",
      "3 -3.324309 -0.692825  0.245200\n",
      "4 -0.156015  2.354999 -1.207250\n",
      "\n",
      "data * data2 = \n",
      "         x1        x2        x3\n",
      "0  0.278455 -0.238172 -1.499632\n",
      "1  2.583357 -1.611814  1.347711\n",
      "2 -1.256728  0.003073 -0.015268\n",
      "3  0.693953  0.052495 -0.020936\n",
      "4  0.006004  1.067904 -0.023564\n"
     ]
    }
   ],
   "source": [
    "print('\\ndata + data2 = ')\n",
    "print(data+data2) # data.add(data2)\n",
    "\n",
    "print('\\ndata * data2 = ')\n",
    "print(data*data2) # data.mul(data2)"
   ]
  },
  {
   "cell_type": "code",
   "execution_count": 86,
   "metadata": {
    "id": "C5RtuIbmJYqS"
   },
   "outputs": [
    {
     "name": "stdout",
     "output_type": "stream",
     "text": [
      "         x1        x2        x3\n",
      "0  0.109475  0.780954  1.225245\n",
      "1  1.549114  1.367298  1.188049\n",
      "2  0.719422  0.355834  0.799089\n",
      "3  3.100488  0.086592  0.067049\n",
      "4  0.087033  0.613051  0.019213\n"
     ]
    }
   ],
   "source": [
    "print(data.abs())    # абсолютное значение по каждому элементу"
   ]
  },
  {
   "cell_type": "markdown",
   "metadata": {
    "id": "p8sWeoYpk1Qt"
   },
   "source": [
    "В объекте `DataFrame` два измерения – операция может выполняться по строкам (параметр `axis=0`) или по столбцам (параметр `axis=1`).  "
   ]
  },
  {
   "cell_type": "code",
   "execution_count": 87,
   "metadata": {
    "id": "73OM5flvJa8H"
   },
   "outputs": [
    {
     "name": "stdout",
     "output_type": "stream",
     "text": [
      "\n",
      "Максимальное значение в столбцах:\n",
      "x1    1.549114\n",
      "x2    1.367298\n",
      "x3    1.188049\n",
      "dtype: float64\n"
     ]
    }
   ],
   "source": [
    "print('\\nМаксимальное значение в столбцах:')\n",
    "print(data.max()) # максимальное значение в столбцах (по умолчанию axis=0)"
   ]
  },
  {
   "cell_type": "code",
   "execution_count": 88,
   "metadata": {
    "id": "4sc_PUGBJiex"
   },
   "outputs": [
    {
     "name": "stdout",
     "output_type": "stream",
     "text": [
      "\n",
      "Минимальное значение в строках:\n",
      "0   -1.225245\n",
      "1    1.188049\n",
      "2   -0.719422\n",
      "3   -3.100488\n",
      "4   -0.087033\n",
      "dtype: float64\n"
     ]
    }
   ],
   "source": [
    "print('\\nМинимальное значение в строках:')\n",
    "print(data.min(axis=1)) # минимальное значение в строках"
   ]
  },
  {
   "cell_type": "code",
   "execution_count": 89,
   "metadata": {
    "id": "_jJVfyMdJqEr"
   },
   "outputs": [
    {
     "name": "stdout",
     "output_type": "stream",
     "text": [
      "\n",
      "Сумма значений в столбцах:\n",
      "x1   -2.467304\n",
      "x2    3.030545\n",
      "x3    0.714057\n",
      "dtype: float64\n"
     ]
    }
   ],
   "source": [
    "print('\\nСумма значений в столбцах:')\n",
    "print(data.sum()) # найти сумму значений для каждого столбца – применяем по строкам"
   ]
  },
  {
   "cell_type": "code",
   "execution_count": 90,
   "metadata": {
    "id": "l9fDc_OrJvR8"
   },
   "outputs": [
    {
     "name": "stdout",
     "output_type": "stream",
     "text": [
      "\n",
      "Среднее значение в строках:\n",
      "0   -0.184589\n",
      "1    1.368154\n",
      "2    0.145167\n",
      "3   -1.084710\n",
      "4    0.181744\n",
      "dtype: float64\n"
     ]
    }
   ],
   "source": [
    "print('\\nСреднее значение в строках:')\n",
    "print(data.mean(axis=1)) # найти среднее значение для каждой строки – применяем по столбцам"
   ]
  },
  {
   "cell_type": "markdown",
   "metadata": {
    "id": "KSGoo8NRPym1"
   },
   "source": [
    "##  Загрузка данных из __Tensorflow Datasets__\n",
    "\n",
    "[__TensorFlow__](https://www.tensorflow.org) — открытая программная библиотека для машинного обучения, разработанная компанией Google для решения задач построения и обучения нейронных сетей.\n",
    "\n",
    "Модуль __Tensorflow Datasets__ (TFDS) представляет собой коллекцию из более чем тысячи наборов данных для использования в учебных и исследовательских целях с библиотекой __TensorFlow__.\n"
   ]
  },
  {
   "cell_type": "code",
   "execution_count": 91,
   "metadata": {
    "id": "7upKfWfxsAhk"
   },
   "outputs": [],
   "source": [
    "import tensorflow_datasets as tfds"
   ]
  },
  {
   "cell_type": "code",
   "execution_count": 92,
   "metadata": {},
   "outputs": [],
   "source": [
    "import sys\n",
    "\n",
    "sys.setrecursionlimit(1000)"
   ]
  },
  {
   "cell_type": "markdown",
   "metadata": {
    "id": "E_bvQNbzsSrE"
   },
   "source": [
    "__NB__ Иногда при обращении к датасету TFDS из Colab может возникать ошибка, которую можно устранить выполнением в ячейке команды `!pip install -q tfds-nightly` (требуется перезагрузка ядра блокнота).\n",
    "\n",
    "Считаем из TFDS набор данных [__Ирисы__](https://www.tensorflow.org/datasets/catalog/iris):  "
   ]
  },
  {
   "cell_type": "code",
   "execution_count": 93,
   "metadata": {},
   "outputs": [],
   "source": [
    "from ucimlrepo import fetch_ucirepo \n",
    "  \n",
    "# fetch dataset \n",
    "iris = fetch_ucirepo(id=53) "
   ]
  },
  {
   "cell_type": "code",
   "execution_count": 97,
   "metadata": {
    "id": "2JzBPaGis2kA"
   },
   "outputs": [
    {
     "name": "stdout",
     "output_type": "stream",
     "text": [
      "\u001b[1mDownloading and preparing dataset Unknown size (download: Unknown size, generated: Unknown size, total: Unknown size) to C:\\Users\\fitte\\tensorflow_datasets\\iris\\2.1.0...\u001b[0m\n"
     ]
    },
    {
     "data": {
      "application/vnd.jupyter.widget-view+json": {
       "model_id": "a807ab3263bf434e931852e42971d3d9",
       "version_major": 2,
       "version_minor": 0
      },
      "text/plain": [
       "Dl Completed...: 0 url [00:00, ? url/s]"
      ]
     },
     "metadata": {},
     "output_type": "display_data"
    },
    {
     "data": {
      "application/vnd.jupyter.widget-view+json": {
       "model_id": "746c071e402a42f4b443c8092c42bc6a",
       "version_major": 2,
       "version_minor": 0
      },
      "text/plain": [
       "Dl Size...: 0 MiB [00:00, ? MiB/s]"
      ]
     },
     "metadata": {},
     "output_type": "display_data"
    },
    {
     "data": {
      "application/vnd.jupyter.widget-view+json": {
       "model_id": "e6360c9a49554dd78aaa37048be669be",
       "version_major": 2,
       "version_minor": 0
      },
      "text/plain": [
       "Extraction completed...: 0 file [00:00, ? file/s]"
      ]
     },
     "metadata": {},
     "output_type": "display_data"
    },
    {
     "ename": "RecursionError",
     "evalue": "maximum recursion depth exceeded",
     "output_type": "error",
     "traceback": [
      "\u001b[1;31m---------------------------------------------------------------------------\u001b[0m",
      "\u001b[1;31mRecursionError\u001b[0m                            Traceback (most recent call last)",
      "Cell \u001b[1;32mIn[97], line 1\u001b[0m\n\u001b[1;32m----> 1\u001b[0m ds \u001b[38;5;241m=\u001b[39m \u001b[43mtfds\u001b[49m\u001b[38;5;241;43m.\u001b[39;49m\u001b[43mload\u001b[49m\u001b[43m(\u001b[49m\u001b[38;5;124;43m\"\u001b[39;49m\u001b[38;5;124;43miris\u001b[39;49m\u001b[38;5;124;43m\"\u001b[39;49m\u001b[43m,\u001b[49m\u001b[43m \u001b[49m\u001b[43msplit\u001b[49m\u001b[38;5;241;43m=\u001b[39;49m\u001b[38;5;124;43m'\u001b[39;49m\u001b[38;5;124;43mtrain[:80\u001b[39;49m\u001b[38;5;124;43m%\u001b[39;49m\u001b[38;5;124;43m]\u001b[39;49m\u001b[38;5;124;43m'\u001b[39;49m\u001b[43m)\u001b[49m\n\u001b[0;32m      2\u001b[0m \u001b[38;5;66;03m# # ds = tfds.load('iris')\u001b[39;00m\n\u001b[0;32m      3\u001b[0m \u001b[38;5;66;03m# ds\u001b[39;00m\n\u001b[0;32m      4\u001b[0m   \n\u001b[1;32m   (...)\u001b[0m\n\u001b[0;32m      7\u001b[0m \u001b[38;5;66;03m# # y = iris.data.targets\u001b[39;00m\n\u001b[0;32m      8\u001b[0m \u001b[38;5;66;03m# df\u001b[39;00m\n",
      "File \u001b[1;32mC:\\Python312\\Lib\\site-packages\\tensorflow_datasets\\core\\logging\\__init__.py:168\u001b[0m, in \u001b[0;36m_FunctionDecorator.__call__\u001b[1;34m(self, function, instance, args, kwargs)\u001b[0m\n\u001b[0;32m    166\u001b[0m metadata \u001b[38;5;241m=\u001b[39m \u001b[38;5;28mself\u001b[39m\u001b[38;5;241m.\u001b[39m_start_call()\n\u001b[0;32m    167\u001b[0m \u001b[38;5;28;01mtry\u001b[39;00m:\n\u001b[1;32m--> 168\u001b[0m   \u001b[38;5;28;01mreturn\u001b[39;00m \u001b[43mfunction\u001b[49m\u001b[43m(\u001b[49m\u001b[38;5;241;43m*\u001b[39;49m\u001b[43margs\u001b[49m\u001b[43m,\u001b[49m\u001b[43m \u001b[49m\u001b[38;5;241;43m*\u001b[39;49m\u001b[38;5;241;43m*\u001b[39;49m\u001b[43mkwargs\u001b[49m\u001b[43m)\u001b[49m\n\u001b[0;32m    169\u001b[0m \u001b[38;5;28;01mexcept\u001b[39;00m \u001b[38;5;167;01mException\u001b[39;00m:\n\u001b[0;32m    170\u001b[0m   metadata\u001b[38;5;241m.\u001b[39mmark_error()\n",
      "File \u001b[1;32mC:\\Python312\\Lib\\site-packages\\tensorflow_datasets\\core\\load.py:647\u001b[0m, in \u001b[0;36mload\u001b[1;34m(name, split, data_dir, batch_size, shuffle_files, download, as_supervised, decoders, read_config, with_info, builder_kwargs, download_and_prepare_kwargs, as_dataset_kwargs, try_gcs)\u001b[0m\n\u001b[0;32m    528\u001b[0m \u001b[38;5;250m\u001b[39m\u001b[38;5;124;03m\"\"\"Loads the named dataset into a `tf.data.Dataset`.\u001b[39;00m\n\u001b[0;32m    529\u001b[0m \n\u001b[0;32m    530\u001b[0m \u001b[38;5;124;03m`tfds.load` is a convenience method that:\u001b[39;00m\n\u001b[1;32m   (...)\u001b[0m\n\u001b[0;32m    639\u001b[0m \u001b[38;5;124;03m    Split-specific information is available in `ds_info.splits`.\u001b[39;00m\n\u001b[0;32m    640\u001b[0m \u001b[38;5;124;03m\"\"\"\u001b[39;00m\n\u001b[0;32m    641\u001b[0m dbuilder \u001b[38;5;241m=\u001b[39m _fetch_builder(\n\u001b[0;32m    642\u001b[0m     name,\n\u001b[0;32m    643\u001b[0m     data_dir,\n\u001b[0;32m    644\u001b[0m     builder_kwargs,\n\u001b[0;32m    645\u001b[0m     try_gcs,\n\u001b[0;32m    646\u001b[0m )\n\u001b[1;32m--> 647\u001b[0m \u001b[43m_download_and_prepare_builder\u001b[49m\u001b[43m(\u001b[49m\u001b[43mdbuilder\u001b[49m\u001b[43m,\u001b[49m\u001b[43m \u001b[49m\u001b[43mdownload\u001b[49m\u001b[43m,\u001b[49m\u001b[43m \u001b[49m\u001b[43mdownload_and_prepare_kwargs\u001b[49m\u001b[43m)\u001b[49m\n\u001b[0;32m    649\u001b[0m \u001b[38;5;28;01mif\u001b[39;00m as_dataset_kwargs \u001b[38;5;129;01mis\u001b[39;00m \u001b[38;5;28;01mNone\u001b[39;00m:\n\u001b[0;32m    650\u001b[0m   as_dataset_kwargs \u001b[38;5;241m=\u001b[39m {}\n",
      "File \u001b[1;32mC:\\Python312\\Lib\\site-packages\\tensorflow_datasets\\core\\load.py:506\u001b[0m, in \u001b[0;36m_download_and_prepare_builder\u001b[1;34m(dbuilder, download, download_and_prepare_kwargs)\u001b[0m\n\u001b[0;32m    504\u001b[0m \u001b[38;5;28;01mif\u001b[39;00m download:\n\u001b[0;32m    505\u001b[0m   download_and_prepare_kwargs \u001b[38;5;241m=\u001b[39m download_and_prepare_kwargs \u001b[38;5;129;01mor\u001b[39;00m {}\n\u001b[1;32m--> 506\u001b[0m   \u001b[43mdbuilder\u001b[49m\u001b[38;5;241;43m.\u001b[39;49m\u001b[43mdownload_and_prepare\u001b[49m\u001b[43m(\u001b[49m\u001b[38;5;241;43m*\u001b[39;49m\u001b[38;5;241;43m*\u001b[39;49m\u001b[43mdownload_and_prepare_kwargs\u001b[49m\u001b[43m)\u001b[49m\n",
      "File \u001b[1;32mC:\\Python312\\Lib\\site-packages\\tensorflow_datasets\\core\\logging\\__init__.py:168\u001b[0m, in \u001b[0;36m_FunctionDecorator.__call__\u001b[1;34m(self, function, instance, args, kwargs)\u001b[0m\n\u001b[0;32m    166\u001b[0m metadata \u001b[38;5;241m=\u001b[39m \u001b[38;5;28mself\u001b[39m\u001b[38;5;241m.\u001b[39m_start_call()\n\u001b[0;32m    167\u001b[0m \u001b[38;5;28;01mtry\u001b[39;00m:\n\u001b[1;32m--> 168\u001b[0m   \u001b[38;5;28;01mreturn\u001b[39;00m \u001b[43mfunction\u001b[49m\u001b[43m(\u001b[49m\u001b[38;5;241;43m*\u001b[39;49m\u001b[43margs\u001b[49m\u001b[43m,\u001b[49m\u001b[43m \u001b[49m\u001b[38;5;241;43m*\u001b[39;49m\u001b[38;5;241;43m*\u001b[39;49m\u001b[43mkwargs\u001b[49m\u001b[43m)\u001b[49m\n\u001b[0;32m    169\u001b[0m \u001b[38;5;28;01mexcept\u001b[39;00m \u001b[38;5;167;01mException\u001b[39;00m:\n\u001b[0;32m    170\u001b[0m   metadata\u001b[38;5;241m.\u001b[39mmark_error()\n",
      "File \u001b[1;32mC:\\Python312\\Lib\\site-packages\\tensorflow_datasets\\core\\dataset_builder.py:699\u001b[0m, in \u001b[0;36mDatasetBuilder.download_and_prepare\u001b[1;34m(self, download_dir, download_config, file_format)\u001b[0m\n\u001b[0;32m    697\u001b[0m   \u001b[38;5;28mself\u001b[39m\u001b[38;5;241m.\u001b[39minfo\u001b[38;5;241m.\u001b[39mread_from_directory(\u001b[38;5;28mself\u001b[39m\u001b[38;5;241m.\u001b[39mdata_dir)\n\u001b[0;32m    698\u001b[0m \u001b[38;5;28;01melse\u001b[39;00m:\n\u001b[1;32m--> 699\u001b[0m   \u001b[38;5;28;43mself\u001b[39;49m\u001b[38;5;241;43m.\u001b[39;49m\u001b[43m_download_and_prepare\u001b[49m\u001b[43m(\u001b[49m\n\u001b[0;32m    700\u001b[0m \u001b[43m      \u001b[49m\u001b[43mdl_manager\u001b[49m\u001b[38;5;241;43m=\u001b[39;49m\u001b[43mdl_manager\u001b[49m\u001b[43m,\u001b[49m\n\u001b[0;32m    701\u001b[0m \u001b[43m      \u001b[49m\u001b[43mdownload_config\u001b[49m\u001b[38;5;241;43m=\u001b[39;49m\u001b[43mdownload_config\u001b[49m\u001b[43m,\u001b[49m\n\u001b[0;32m    702\u001b[0m \u001b[43m  \u001b[49m\u001b[43m)\u001b[49m\n\u001b[0;32m    704\u001b[0m   \u001b[38;5;66;03m# NOTE: If modifying the lines below to put additional information in\u001b[39;00m\n\u001b[0;32m    705\u001b[0m   \u001b[38;5;66;03m# DatasetInfo, you'll likely also want to update\u001b[39;00m\n\u001b[0;32m    706\u001b[0m   \u001b[38;5;66;03m# DatasetInfo.read_from_directory to possibly restore these attributes\u001b[39;00m\n\u001b[0;32m    707\u001b[0m   \u001b[38;5;66;03m# when reading from package data.\u001b[39;00m\n\u001b[0;32m    708\u001b[0m   \u001b[38;5;28mself\u001b[39m\u001b[38;5;241m.\u001b[39minfo\u001b[38;5;241m.\u001b[39mdownload_size \u001b[38;5;241m=\u001b[39m dl_manager\u001b[38;5;241m.\u001b[39mdownloaded_size\n",
      "File \u001b[1;32mC:\\Python312\\Lib\\site-packages\\tensorflow_datasets\\core\\dataset_builder.py:1669\u001b[0m, in \u001b[0;36mGeneratorBasedBuilder._download_and_prepare\u001b[1;34m(self, dl_manager, download_config)\u001b[0m\n\u001b[0;32m   1666\u001b[0m \u001b[38;5;28;01mif\u001b[39;00m download_config\u001b[38;5;241m.\u001b[39mmax_examples_per_split \u001b[38;5;241m==\u001b[39m \u001b[38;5;241m0\u001b[39m:\n\u001b[0;32m   1667\u001b[0m   \u001b[38;5;28;01mreturn\u001b[39;00m\n\u001b[1;32m-> 1669\u001b[0m split_infos \u001b[38;5;241m=\u001b[39m \u001b[38;5;28;43mself\u001b[39;49m\u001b[38;5;241;43m.\u001b[39;49m\u001b[43m_generate_splits\u001b[49m\u001b[43m(\u001b[49m\u001b[43mdl_manager\u001b[49m\u001b[43m,\u001b[49m\u001b[43m \u001b[49m\u001b[43mdownload_config\u001b[49m\u001b[43m)\u001b[49m\n\u001b[0;32m   1671\u001b[0m \u001b[38;5;66;03m# Update the info object with the splits.\u001b[39;00m\n\u001b[0;32m   1672\u001b[0m split_dict \u001b[38;5;241m=\u001b[39m splits_lib\u001b[38;5;241m.\u001b[39mSplitDict(split_infos)\n",
      "File \u001b[1;32mC:\\Python312\\Lib\\site-packages\\tensorflow_datasets\\core\\dataset_builder.py:1620\u001b[0m, in \u001b[0;36mGeneratorBasedBuilder._generate_splits\u001b[1;34m(self, dl_manager, download_config)\u001b[0m\n\u001b[0;32m   1618\u001b[0m \u001b[38;5;28;01melse\u001b[39;00m:\n\u001b[0;32m   1619\u001b[0m   optional_pipeline_kwargs \u001b[38;5;241m=\u001b[39m {}\n\u001b[1;32m-> 1620\u001b[0m split_generators \u001b[38;5;241m=\u001b[39m \u001b[38;5;28;43mself\u001b[39;49m\u001b[38;5;241;43m.\u001b[39;49m\u001b[43m_split_generators\u001b[49m\u001b[43m(\u001b[49m\u001b[43m  \u001b[49m\u001b[38;5;66;43;03m# pylint: disable=unexpected-keyword-arg\u001b[39;49;00m\n\u001b[0;32m   1621\u001b[0m \u001b[43m    \u001b[49m\u001b[43mdl_manager\u001b[49m\u001b[43m,\u001b[49m\u001b[43m \u001b[49m\u001b[38;5;241;43m*\u001b[39;49m\u001b[38;5;241;43m*\u001b[39;49m\u001b[43moptional_pipeline_kwargs\u001b[49m\n\u001b[0;32m   1622\u001b[0m \u001b[43m\u001b[49m\u001b[43m)\u001b[49m\n\u001b[0;32m   1623\u001b[0m \u001b[38;5;66;03m# TODO(tfds): Could be removed once all datasets are migrated.\u001b[39;00m\n\u001b[0;32m   1624\u001b[0m \u001b[38;5;66;03m# https://github.com/tensorflow/datasets/issues/2537\u001b[39;00m\n\u001b[0;32m   1625\u001b[0m \u001b[38;5;66;03m# Legacy mode (eventually convert list[SplitGeneratorLegacy] -> dict)\u001b[39;00m\n\u001b[0;32m   1626\u001b[0m split_generators \u001b[38;5;241m=\u001b[39m split_builder\u001b[38;5;241m.\u001b[39mnormalize_legacy_split_generators(\n\u001b[0;32m   1627\u001b[0m     split_generators\u001b[38;5;241m=\u001b[39msplit_generators,\n\u001b[0;32m   1628\u001b[0m     generator_fn\u001b[38;5;241m=\u001b[39m\u001b[38;5;28mself\u001b[39m\u001b[38;5;241m.\u001b[39m_generate_examples,\n\u001b[0;32m   1629\u001b[0m     is_beam\u001b[38;5;241m=\u001b[39m\u001b[38;5;28misinstance\u001b[39m(\u001b[38;5;28mself\u001b[39m, BeamBasedBuilder),\n\u001b[0;32m   1630\u001b[0m )\n",
      "File \u001b[1;32mC:\\Python312\\Lib\\site-packages\\tensorflow_datasets\\structured\\iris.py:72\u001b[0m, in \u001b[0;36mIris._split_generators\u001b[1;34m(self, dl_manager)\u001b[0m\n\u001b[0;32m     71\u001b[0m \u001b[38;5;28;01mdef\u001b[39;00m \u001b[38;5;21m_split_generators\u001b[39m(\u001b[38;5;28mself\u001b[39m, dl_manager):\n\u001b[1;32m---> 72\u001b[0m   iris_folder \u001b[38;5;241m=\u001b[39m \u001b[43mdl_manager\u001b[49m\u001b[38;5;241;43m.\u001b[39;49m\u001b[43mdownload_and_extract\u001b[49m\u001b[43m(\u001b[49m\u001b[43mIRIS_URL\u001b[49m\u001b[43m)\u001b[49m\n\u001b[0;32m     73\u001b[0m   iris_file \u001b[38;5;241m=\u001b[39m iris_folder \u001b[38;5;241m/\u001b[39m \u001b[38;5;124m\"\u001b[39m\u001b[38;5;124miris.data\u001b[39m\u001b[38;5;124m\"\u001b[39m\n\u001b[0;32m     74\u001b[0m   all_lines \u001b[38;5;241m=\u001b[39m tf\u001b[38;5;241m.\u001b[39mio\u001b[38;5;241m.\u001b[39mgfile\u001b[38;5;241m.\u001b[39mGFile(iris_file)\u001b[38;5;241m.\u001b[39mread()\u001b[38;5;241m.\u001b[39msplitlines()\n",
      "File \u001b[1;32mC:\\Python312\\Lib\\site-packages\\tensorflow_datasets\\core\\download\\download_manager.py:690\u001b[0m, in \u001b[0;36mDownloadManager.download_and_extract\u001b[1;34m(self, url_or_urls)\u001b[0m\n\u001b[0;32m    688\u001b[0m \u001b[38;5;28;01mwith\u001b[39;00m \u001b[38;5;28mself\u001b[39m\u001b[38;5;241m.\u001b[39m_downloader\u001b[38;5;241m.\u001b[39mtqdm():\n\u001b[0;32m    689\u001b[0m   \u001b[38;5;28;01mwith\u001b[39;00m \u001b[38;5;28mself\u001b[39m\u001b[38;5;241m.\u001b[39m_extractor\u001b[38;5;241m.\u001b[39mtqdm():\n\u001b[1;32m--> 690\u001b[0m     \u001b[38;5;28;01mreturn\u001b[39;00m \u001b[43m_map_promise\u001b[49m\u001b[43m(\u001b[49m\u001b[38;5;28;43mself\u001b[39;49m\u001b[38;5;241;43m.\u001b[39;49m\u001b[43m_download_extract\u001b[49m\u001b[43m,\u001b[49m\u001b[43m \u001b[49m\u001b[43murl_or_urls\u001b[49m\u001b[43m)\u001b[49m\n",
      "File \u001b[1;32mC:\\Python312\\Lib\\site-packages\\tensorflow_datasets\\core\\download\\download_manager.py:831\u001b[0m, in \u001b[0;36m_map_promise\u001b[1;34m(map_fn, all_inputs)\u001b[0m\n\u001b[0;32m    829\u001b[0m \u001b[38;5;250m\u001b[39m\u001b[38;5;124;03m\"\"\"Map the function into each element and resolve the promise.\"\"\"\u001b[39;00m\n\u001b[0;32m    830\u001b[0m all_promises \u001b[38;5;241m=\u001b[39m tree\u001b[38;5;241m.\u001b[39mmap_structure(map_fn, all_inputs)  \u001b[38;5;66;03m# Apply the function\u001b[39;00m\n\u001b[1;32m--> 831\u001b[0m res \u001b[38;5;241m=\u001b[39m \u001b[43mtree\u001b[49m\u001b[38;5;241;43m.\u001b[39;49m\u001b[43mmap_structure\u001b[49m\u001b[43m(\u001b[49m\u001b[38;5;28;43;01mlambda\u001b[39;49;00m\u001b[43m \u001b[49m\u001b[43mp\u001b[49m\u001b[43m:\u001b[49m\u001b[43m \u001b[49m\u001b[43mp\u001b[49m\u001b[38;5;241;43m.\u001b[39;49m\u001b[43mget\u001b[49m\u001b[43m(\u001b[49m\u001b[43m)\u001b[49m\u001b[43m,\u001b[49m\u001b[43m \u001b[49m\u001b[43mall_promises\u001b[49m\u001b[43m)\u001b[49m  \u001b[38;5;66;03m# Wait promises\u001b[39;00m\n\u001b[0;32m    832\u001b[0m \u001b[38;5;28;01mreturn\u001b[39;00m res\n",
      "File \u001b[1;32mC:\\Python312\\Lib\\site-packages\\tree\\__init__.py:428\u001b[0m, in \u001b[0;36mmap_structure\u001b[1;34m(func, *structures, **kwargs)\u001b[0m\n\u001b[0;32m    425\u001b[0m \u001b[38;5;28;01mfor\u001b[39;00m other \u001b[38;5;129;01min\u001b[39;00m structures[\u001b[38;5;241m1\u001b[39m:]:\n\u001b[0;32m    426\u001b[0m   assert_same_structure(structures[\u001b[38;5;241m0\u001b[39m], other, check_types\u001b[38;5;241m=\u001b[39mcheck_types)\n\u001b[0;32m    427\u001b[0m \u001b[38;5;28;01mreturn\u001b[39;00m unflatten_as(structures[\u001b[38;5;241m0\u001b[39m],\n\u001b[1;32m--> 428\u001b[0m                     [\u001b[43mfunc\u001b[49m\u001b[43m(\u001b[49m\u001b[38;5;241;43m*\u001b[39;49m\u001b[43margs\u001b[49m\u001b[43m)\u001b[49m \u001b[38;5;28;01mfor\u001b[39;00m args \u001b[38;5;129;01min\u001b[39;00m \u001b[38;5;28mzip\u001b[39m(\u001b[38;5;241m*\u001b[39m\u001b[38;5;28mmap\u001b[39m(flatten, structures))])\n",
      "File \u001b[1;32mC:\\Python312\\Lib\\site-packages\\tensorflow_datasets\\core\\download\\download_manager.py:831\u001b[0m, in \u001b[0;36m_map_promise.<locals>.<lambda>\u001b[1;34m(p)\u001b[0m\n\u001b[0;32m    829\u001b[0m \u001b[38;5;250m\u001b[39m\u001b[38;5;124;03m\"\"\"Map the function into each element and resolve the promise.\"\"\"\u001b[39;00m\n\u001b[0;32m    830\u001b[0m all_promises \u001b[38;5;241m=\u001b[39m tree\u001b[38;5;241m.\u001b[39mmap_structure(map_fn, all_inputs)  \u001b[38;5;66;03m# Apply the function\u001b[39;00m\n\u001b[1;32m--> 831\u001b[0m res \u001b[38;5;241m=\u001b[39m tree\u001b[38;5;241m.\u001b[39mmap_structure(\u001b[38;5;28;01mlambda\u001b[39;00m p: \u001b[43mp\u001b[49m\u001b[38;5;241;43m.\u001b[39;49m\u001b[43mget\u001b[49m\u001b[43m(\u001b[49m\u001b[43m)\u001b[49m, all_promises)  \u001b[38;5;66;03m# Wait promises\u001b[39;00m\n\u001b[0;32m    832\u001b[0m \u001b[38;5;28;01mreturn\u001b[39;00m res\n",
      "File \u001b[1;32mC:\\Python312\\Lib\\site-packages\\promise\\promise.py:512\u001b[0m, in \u001b[0;36mPromise.get\u001b[1;34m(self, timeout)\u001b[0m\n\u001b[0;32m    510\u001b[0m target \u001b[38;5;241m=\u001b[39m \u001b[38;5;28mself\u001b[39m\u001b[38;5;241m.\u001b[39m_target()\n\u001b[0;32m    511\u001b[0m \u001b[38;5;28mself\u001b[39m\u001b[38;5;241m.\u001b[39m_wait(timeout \u001b[38;5;129;01mor\u001b[39;00m DEFAULT_TIMEOUT)\n\u001b[1;32m--> 512\u001b[0m \u001b[38;5;28;01mreturn\u001b[39;00m \u001b[38;5;28;43mself\u001b[39;49m\u001b[38;5;241;43m.\u001b[39;49m\u001b[43m_target_settled_value\u001b[49m\u001b[43m(\u001b[49m\u001b[43m_raise\u001b[49m\u001b[38;5;241;43m=\u001b[39;49m\u001b[38;5;28;43;01mTrue\u001b[39;49;00m\u001b[43m)\u001b[49m\n",
      "File \u001b[1;32mC:\\Python312\\Lib\\site-packages\\promise\\promise.py:516\u001b[0m, in \u001b[0;36mPromise._target_settled_value\u001b[1;34m(self, _raise)\u001b[0m\n\u001b[0;32m    514\u001b[0m \u001b[38;5;28;01mdef\u001b[39;00m \u001b[38;5;21m_target_settled_value\u001b[39m(\u001b[38;5;28mself\u001b[39m, _raise\u001b[38;5;241m=\u001b[39m\u001b[38;5;28;01mFalse\u001b[39;00m):\n\u001b[0;32m    515\u001b[0m     \u001b[38;5;66;03m# type: (bool) -> Any\u001b[39;00m\n\u001b[1;32m--> 516\u001b[0m     \u001b[38;5;28;01mreturn\u001b[39;00m \u001b[38;5;28;43mself\u001b[39;49m\u001b[38;5;241;43m.\u001b[39;49m\u001b[43m_target\u001b[49m\u001b[43m(\u001b[49m\u001b[43m)\u001b[49m\u001b[38;5;241;43m.\u001b[39;49m\u001b[43m_settled_value\u001b[49m\u001b[43m(\u001b[49m\u001b[43m_raise\u001b[49m\u001b[43m)\u001b[49m\n",
      "File \u001b[1;32mC:\\Python312\\Lib\\site-packages\\promise\\promise.py:226\u001b[0m, in \u001b[0;36mPromise._settled_value\u001b[1;34m(self, _raise)\u001b[0m\n\u001b[0;32m    224\u001b[0m \u001b[38;5;28;01mif\u001b[39;00m _raise:\n\u001b[0;32m    225\u001b[0m     raise_val \u001b[38;5;241m=\u001b[39m \u001b[38;5;28mself\u001b[39m\u001b[38;5;241m.\u001b[39m_fulfillment_handler0\n\u001b[1;32m--> 226\u001b[0m     \u001b[43mreraise\u001b[49m\u001b[43m(\u001b[49m\u001b[38;5;28;43mtype\u001b[39;49m\u001b[43m(\u001b[49m\u001b[43mraise_val\u001b[49m\u001b[43m)\u001b[49m\u001b[43m,\u001b[49m\u001b[43m \u001b[49m\u001b[43mraise_val\u001b[49m\u001b[43m,\u001b[49m\u001b[43m \u001b[49m\u001b[38;5;28;43mself\u001b[39;49m\u001b[38;5;241;43m.\u001b[39;49m\u001b[43m_traceback\u001b[49m\u001b[43m)\u001b[49m\n\u001b[0;32m    227\u001b[0m \u001b[38;5;28;01mreturn\u001b[39;00m \u001b[38;5;28mself\u001b[39m\u001b[38;5;241m.\u001b[39m_fulfillment_handler0\n",
      "File \u001b[1;32m~\\AppData\\Roaming\\Python\\Python312\\site-packages\\six.py:719\u001b[0m, in \u001b[0;36mreraise\u001b[1;34m(tp, value, tb)\u001b[0m\n\u001b[0;32m    717\u001b[0m     \u001b[38;5;28;01mif\u001b[39;00m value\u001b[38;5;241m.\u001b[39m__traceback__ \u001b[38;5;129;01mis\u001b[39;00m \u001b[38;5;129;01mnot\u001b[39;00m tb:\n\u001b[0;32m    718\u001b[0m         \u001b[38;5;28;01mraise\u001b[39;00m value\u001b[38;5;241m.\u001b[39mwith_traceback(tb)\n\u001b[1;32m--> 719\u001b[0m     \u001b[38;5;28;01mraise\u001b[39;00m value\n\u001b[0;32m    720\u001b[0m \u001b[38;5;28;01mfinally\u001b[39;00m:\n\u001b[0;32m    721\u001b[0m     value \u001b[38;5;241m=\u001b[39m \u001b[38;5;28;01mNone\u001b[39;00m\n",
      "File \u001b[1;32mC:\\Python312\\Lib\\site-packages\\promise\\promise.py:87\u001b[0m, in \u001b[0;36mtry_catch\u001b[1;34m(handler, *args, **kwargs)\u001b[0m\n\u001b[0;32m     84\u001b[0m \u001b[38;5;28;01mdef\u001b[39;00m \u001b[38;5;21mtry_catch\u001b[39m(handler, \u001b[38;5;241m*\u001b[39margs, \u001b[38;5;241m*\u001b[39m\u001b[38;5;241m*\u001b[39mkwargs):\n\u001b[0;32m     85\u001b[0m     \u001b[38;5;66;03m# type: (Callable, Any, Any) -> Union[Tuple[Any, None], Tuple[None, Tuple[Exception, Optional[TracebackType]]]]\u001b[39;00m\n\u001b[0;32m     86\u001b[0m     \u001b[38;5;28;01mtry\u001b[39;00m:\n\u001b[1;32m---> 87\u001b[0m         \u001b[38;5;28;01mreturn\u001b[39;00m (\u001b[43mhandler\u001b[49m\u001b[43m(\u001b[49m\u001b[38;5;241;43m*\u001b[39;49m\u001b[43margs\u001b[49m\u001b[43m,\u001b[49m\u001b[43m \u001b[49m\u001b[38;5;241;43m*\u001b[39;49m\u001b[38;5;241;43m*\u001b[39;49m\u001b[43mkwargs\u001b[49m\u001b[43m)\u001b[49m, \u001b[38;5;28;01mNone\u001b[39;00m)\n\u001b[0;32m     88\u001b[0m     \u001b[38;5;28;01mexcept\u001b[39;00m \u001b[38;5;167;01mException\u001b[39;00m \u001b[38;5;28;01mas\u001b[39;00m e:\n\u001b[0;32m     89\u001b[0m         tb \u001b[38;5;241m=\u001b[39m exc_info()[\u001b[38;5;241m2\u001b[39m]\n",
      "File \u001b[1;32mC:\\Python312\\Lib\\site-packages\\tensorflow_datasets\\core\\download\\download_manager.py:410\u001b[0m, in \u001b[0;36mDownloadManager._download.<locals>.<lambda>\u001b[1;34m(dl_result)\u001b[0m\n\u001b[0;32m    404\u001b[0m   future \u001b[38;5;241m=\u001b[39m \u001b[38;5;28mself\u001b[39m\u001b[38;5;241m.\u001b[39m_downloader\u001b[38;5;241m.\u001b[39mdownload(\n\u001b[0;32m    405\u001b[0m       url, download_tmp_dir, verify\u001b[38;5;241m=\u001b[39m\u001b[38;5;28mself\u001b[39m\u001b[38;5;241m.\u001b[39m_verify_ssl\n\u001b[0;32m    406\u001b[0m   )\n\u001b[0;32m    408\u001b[0m \u001b[38;5;66;03m# Post-process the result\u001b[39;00m\n\u001b[0;32m    409\u001b[0m \u001b[38;5;28;01mreturn\u001b[39;00m future\u001b[38;5;241m.\u001b[39mthen(\n\u001b[1;32m--> 410\u001b[0m     \u001b[38;5;28;01mlambda\u001b[39;00m dl_result: \u001b[38;5;28;43mself\u001b[39;49m\u001b[38;5;241;43m.\u001b[39;49m\u001b[43m_register_or_validate_checksums\u001b[49m\u001b[43m(\u001b[49m\u001b[43m  \u001b[49m\u001b[38;5;66;43;03m# pylint: disable=g-long-lambda\u001b[39;49;00m\n\u001b[0;32m    411\u001b[0m \u001b[43m        \u001b[49m\u001b[43murl\u001b[49m\u001b[38;5;241;43m=\u001b[39;49m\u001b[43murl\u001b[49m\u001b[43m,\u001b[49m\n\u001b[0;32m    412\u001b[0m \u001b[43m        \u001b[49m\u001b[43mpath\u001b[49m\u001b[38;5;241;43m=\u001b[39;49m\u001b[43mdl_result\u001b[49m\u001b[38;5;241;43m.\u001b[39;49m\u001b[43mpath\u001b[49m\u001b[43m,\u001b[49m\n\u001b[0;32m    413\u001b[0m \u001b[43m        \u001b[49m\u001b[43mcomputed_url_info\u001b[49m\u001b[38;5;241;43m=\u001b[39;49m\u001b[43mdl_result\u001b[49m\u001b[38;5;241;43m.\u001b[39;49m\u001b[43murl_info\u001b[49m\u001b[43m,\u001b[49m\n\u001b[0;32m    414\u001b[0m \u001b[43m        \u001b[49m\u001b[43mexpected_url_info\u001b[49m\u001b[38;5;241;43m=\u001b[39;49m\u001b[43mexpected_url_info\u001b[49m\u001b[43m,\u001b[49m\n\u001b[0;32m    415\u001b[0m \u001b[43m        \u001b[49m\u001b[43mchecksum_path\u001b[49m\u001b[38;5;241;43m=\u001b[39;49m\u001b[43mchecksum_path\u001b[49m\u001b[43m,\u001b[49m\n\u001b[0;32m    416\u001b[0m \u001b[43m        \u001b[49m\u001b[43murl_path\u001b[49m\u001b[38;5;241;43m=\u001b[39;49m\u001b[43murl_path\u001b[49m\u001b[43m,\u001b[49m\n\u001b[0;32m    417\u001b[0m \u001b[43m    \u001b[49m\u001b[43m)\u001b[49m\n\u001b[0;32m    418\u001b[0m )\n",
      "File \u001b[1;32mC:\\Python312\\Lib\\site-packages\\tensorflow_datasets\\core\\download\\download_manager.py:475\u001b[0m, in \u001b[0;36mDownloadManager._register_or_validate_checksums\u001b[1;34m(self, path, url, expected_url_info, computed_url_info, checksum_path, url_path)\u001b[0m\n\u001b[0;32m    457\u001b[0m \u001b[38;5;28;01melse\u001b[39;00m:\n\u001b[0;32m    458\u001b[0m   \u001b[38;5;66;03m# Eventually validate checksums\u001b[39;00m\n\u001b[0;32m    459\u001b[0m   \u001b[38;5;66;03m# Note:\u001b[39;00m\n\u001b[1;32m   (...)\u001b[0m\n\u001b[0;32m    465\u001b[0m   \u001b[38;5;66;03m#   download). This is expected as it might mean the downloaded file\u001b[39;00m\n\u001b[0;32m    466\u001b[0m   \u001b[38;5;66;03m#   was corrupted. Note: The tmp file isn't deleted to allow inspection.\u001b[39;00m\n\u001b[0;32m    467\u001b[0m   _validate_checksums(\n\u001b[0;32m    468\u001b[0m       url\u001b[38;5;241m=\u001b[39murl,\n\u001b[0;32m    469\u001b[0m       path\u001b[38;5;241m=\u001b[39mpath,\n\u001b[1;32m   (...)\u001b[0m\n\u001b[0;32m    472\u001b[0m       force_checksums_validation\u001b[38;5;241m=\u001b[39m\u001b[38;5;28mself\u001b[39m\u001b[38;5;241m.\u001b[39m_force_checksums_validation,\n\u001b[0;32m    473\u001b[0m   )\n\u001b[1;32m--> 475\u001b[0m \u001b[38;5;28;01mreturn\u001b[39;00m \u001b[38;5;28;43mself\u001b[39;49m\u001b[38;5;241;43m.\u001b[39;49m\u001b[43m_rename_and_get_final_dl_path\u001b[49m\u001b[43m(\u001b[49m\n\u001b[0;32m    476\u001b[0m \u001b[43m    \u001b[49m\u001b[43murl\u001b[49m\u001b[38;5;241;43m=\u001b[39;49m\u001b[43murl\u001b[49m\u001b[43m,\u001b[49m\n\u001b[0;32m    477\u001b[0m \u001b[43m    \u001b[49m\u001b[43mpath\u001b[49m\u001b[38;5;241;43m=\u001b[39;49m\u001b[43mpath\u001b[49m\u001b[43m,\u001b[49m\n\u001b[0;32m    478\u001b[0m \u001b[43m    \u001b[49m\u001b[43mexpected_url_info\u001b[49m\u001b[38;5;241;43m=\u001b[39;49m\u001b[43mexpected_url_info\u001b[49m\u001b[43m,\u001b[49m\n\u001b[0;32m    479\u001b[0m \u001b[43m    \u001b[49m\u001b[43mcomputed_url_info\u001b[49m\u001b[38;5;241;43m=\u001b[39;49m\u001b[43mcomputed_url_info\u001b[49m\u001b[43m,\u001b[49m\n\u001b[0;32m    480\u001b[0m \u001b[43m    \u001b[49m\u001b[43mchecksum_path\u001b[49m\u001b[38;5;241;43m=\u001b[39;49m\u001b[43mchecksum_path\u001b[49m\u001b[43m,\u001b[49m\n\u001b[0;32m    481\u001b[0m \u001b[43m    \u001b[49m\u001b[43murl_path\u001b[49m\u001b[38;5;241;43m=\u001b[39;49m\u001b[43murl_path\u001b[49m\u001b[43m,\u001b[49m\n\u001b[0;32m    482\u001b[0m \u001b[43m\u001b[49m\u001b[43m)\u001b[49m\n",
      "File \u001b[1;32mC:\\Python312\\Lib\\site-packages\\tensorflow_datasets\\core\\download\\download_manager.py:499\u001b[0m, in \u001b[0;36mDownloadManager._rename_and_get_final_dl_path\u001b[1;34m(self, url, path, expected_url_info, computed_url_info, checksum_path, url_path)\u001b[0m\n\u001b[0;32m    493\u001b[0m \u001b[38;5;250m\u001b[39m\u001b[38;5;124;03m\"\"\"Eventually rename the downloaded file if checksums were recorded.\"\"\"\u001b[39;00m\n\u001b[0;32m    494\u001b[0m \u001b[38;5;66;03m# `path` can be:\u001b[39;00m\n\u001b[0;32m    495\u001b[0m \u001b[38;5;66;03m# * Manually downloaded\u001b[39;00m\n\u001b[0;32m    496\u001b[0m \u001b[38;5;66;03m# * (cached) checksum_path\u001b[39;00m\n\u001b[0;32m    497\u001b[0m \u001b[38;5;66;03m# * (cached) url_path\u001b[39;00m\n\u001b[0;32m    498\u001b[0m \u001b[38;5;66;03m# * `tmp_dir/file` (downloaded path)\u001b[39;00m\n\u001b[1;32m--> 499\u001b[0m \u001b[38;5;28;01mif\u001b[39;00m \u001b[38;5;28mself\u001b[39m\u001b[38;5;241m.\u001b[39m_manual_dir \u001b[38;5;129;01mand\u001b[39;00m \u001b[43mpath\u001b[49m\u001b[38;5;241;43m.\u001b[39;49m\u001b[43mis_relative_to\u001b[49m\u001b[43m(\u001b[49m\u001b[38;5;28;43mself\u001b[39;49m\u001b[38;5;241;43m.\u001b[39;49m\u001b[43m_manual_dir\u001b[49m\u001b[43m)\u001b[49m:\n\u001b[0;32m    500\u001b[0m   \u001b[38;5;28;01mreturn\u001b[39;00m path  \u001b[38;5;66;03m# Manually downloaded data\u001b[39;00m\n\u001b[0;32m    501\u001b[0m \u001b[38;5;28;01melif\u001b[39;00m path \u001b[38;5;241m==\u001b[39m checksum_path:  \u001b[38;5;66;03m# Path already at final destination\u001b[39;00m\n",
      "File \u001b[1;32mC:\\Python312\\Lib\\site-packages\\etils\\epath\\abstract_path.py:78\u001b[0m, in \u001b[0;36mPath.is_relative_to\u001b[1;34m(self, *other)\u001b[0m\n\u001b[0;32m     76\u001b[0m \u001b[38;5;250m\u001b[39m\u001b[38;5;124;03m\"\"\"Return True if the path is relative to another path or False.\"\"\"\u001b[39;00m\n\u001b[0;32m     77\u001b[0m \u001b[38;5;28;01mtry\u001b[39;00m:\n\u001b[1;32m---> 78\u001b[0m   \u001b[38;5;28;43mself\u001b[39;49m\u001b[38;5;241;43m.\u001b[39;49m\u001b[43mrelative_to\u001b[49m\u001b[43m(\u001b[49m\u001b[38;5;241;43m*\u001b[39;49m\u001b[43mother\u001b[49m\u001b[43m)\u001b[49m\n\u001b[0;32m     79\u001b[0m   \u001b[38;5;28;01mreturn\u001b[39;00m \u001b[38;5;28;01mTrue\u001b[39;00m\n\u001b[0;32m     80\u001b[0m \u001b[38;5;28;01mexcept\u001b[39;00m \u001b[38;5;167;01mValueError\u001b[39;00m:\n",
      "File \u001b[1;32mC:\\Python312\\Lib\\pathlib.py:679\u001b[0m, in \u001b[0;36mPurePath.relative_to\u001b[1;34m(self, other, walk_up, *_deprecated)\u001b[0m\n\u001b[0;32m    677\u001b[0m other \u001b[38;5;241m=\u001b[39m \u001b[38;5;28mself\u001b[39m\u001b[38;5;241m.\u001b[39mwith_segments(other, \u001b[38;5;241m*\u001b[39m_deprecated)\n\u001b[0;32m    678\u001b[0m \u001b[38;5;28;01mfor\u001b[39;00m step, path \u001b[38;5;129;01min\u001b[39;00m \u001b[38;5;28menumerate\u001b[39m([other] \u001b[38;5;241m+\u001b[39m \u001b[38;5;28mlist\u001b[39m(other\u001b[38;5;241m.\u001b[39mparents)):\n\u001b[1;32m--> 679\u001b[0m     \u001b[38;5;28;01mif\u001b[39;00m \u001b[38;5;28;43mself\u001b[39;49m\u001b[38;5;241;43m.\u001b[39;49m\u001b[43mis_relative_to\u001b[49m\u001b[43m(\u001b[49m\u001b[43mpath\u001b[49m\u001b[43m)\u001b[49m:\n\u001b[0;32m    680\u001b[0m         \u001b[38;5;28;01mbreak\u001b[39;00m\n\u001b[0;32m    681\u001b[0m     \u001b[38;5;28;01melif\u001b[39;00m \u001b[38;5;129;01mnot\u001b[39;00m walk_up:\n",
      "File \u001b[1;32mC:\\Python312\\Lib\\site-packages\\etils\\epath\\abstract_path.py:78\u001b[0m, in \u001b[0;36mPath.is_relative_to\u001b[1;34m(self, *other)\u001b[0m\n\u001b[0;32m     76\u001b[0m \u001b[38;5;250m\u001b[39m\u001b[38;5;124;03m\"\"\"Return True if the path is relative to another path or False.\"\"\"\u001b[39;00m\n\u001b[0;32m     77\u001b[0m \u001b[38;5;28;01mtry\u001b[39;00m:\n\u001b[1;32m---> 78\u001b[0m   \u001b[38;5;28;43mself\u001b[39;49m\u001b[38;5;241;43m.\u001b[39;49m\u001b[43mrelative_to\u001b[49m\u001b[43m(\u001b[49m\u001b[38;5;241;43m*\u001b[39;49m\u001b[43mother\u001b[49m\u001b[43m)\u001b[49m\n\u001b[0;32m     79\u001b[0m   \u001b[38;5;28;01mreturn\u001b[39;00m \u001b[38;5;28;01mTrue\u001b[39;00m\n\u001b[0;32m     80\u001b[0m \u001b[38;5;28;01mexcept\u001b[39;00m \u001b[38;5;167;01mValueError\u001b[39;00m:\n",
      "File \u001b[1;32mC:\\Python312\\Lib\\pathlib.py:679\u001b[0m, in \u001b[0;36mPurePath.relative_to\u001b[1;34m(self, other, walk_up, *_deprecated)\u001b[0m\n\u001b[0;32m    677\u001b[0m other \u001b[38;5;241m=\u001b[39m \u001b[38;5;28mself\u001b[39m\u001b[38;5;241m.\u001b[39mwith_segments(other, \u001b[38;5;241m*\u001b[39m_deprecated)\n\u001b[0;32m    678\u001b[0m \u001b[38;5;28;01mfor\u001b[39;00m step, path \u001b[38;5;129;01min\u001b[39;00m \u001b[38;5;28menumerate\u001b[39m([other] \u001b[38;5;241m+\u001b[39m \u001b[38;5;28mlist\u001b[39m(other\u001b[38;5;241m.\u001b[39mparents)):\n\u001b[1;32m--> 679\u001b[0m     \u001b[38;5;28;01mif\u001b[39;00m \u001b[38;5;28;43mself\u001b[39;49m\u001b[38;5;241;43m.\u001b[39;49m\u001b[43mis_relative_to\u001b[49m\u001b[43m(\u001b[49m\u001b[43mpath\u001b[49m\u001b[43m)\u001b[49m:\n\u001b[0;32m    680\u001b[0m         \u001b[38;5;28;01mbreak\u001b[39;00m\n\u001b[0;32m    681\u001b[0m     \u001b[38;5;28;01melif\u001b[39;00m \u001b[38;5;129;01mnot\u001b[39;00m walk_up:\n",
      "    \u001b[1;31m[... skipping similar frames: Path.is_relative_to at line 78 (481 times), PurePath.relative_to at line 679 (480 times)]\u001b[0m\n",
      "File \u001b[1;32mC:\\Python312\\Lib\\pathlib.py:679\u001b[0m, in \u001b[0;36mPurePath.relative_to\u001b[1;34m(self, other, walk_up, *_deprecated)\u001b[0m\n\u001b[0;32m    677\u001b[0m other \u001b[38;5;241m=\u001b[39m \u001b[38;5;28mself\u001b[39m\u001b[38;5;241m.\u001b[39mwith_segments(other, \u001b[38;5;241m*\u001b[39m_deprecated)\n\u001b[0;32m    678\u001b[0m \u001b[38;5;28;01mfor\u001b[39;00m step, path \u001b[38;5;129;01min\u001b[39;00m \u001b[38;5;28menumerate\u001b[39m([other] \u001b[38;5;241m+\u001b[39m \u001b[38;5;28mlist\u001b[39m(other\u001b[38;5;241m.\u001b[39mparents)):\n\u001b[1;32m--> 679\u001b[0m     \u001b[38;5;28;01mif\u001b[39;00m \u001b[38;5;28;43mself\u001b[39;49m\u001b[38;5;241;43m.\u001b[39;49m\u001b[43mis_relative_to\u001b[49m\u001b[43m(\u001b[49m\u001b[43mpath\u001b[49m\u001b[43m)\u001b[49m:\n\u001b[0;32m    680\u001b[0m         \u001b[38;5;28;01mbreak\u001b[39;00m\n\u001b[0;32m    681\u001b[0m     \u001b[38;5;28;01melif\u001b[39;00m \u001b[38;5;129;01mnot\u001b[39;00m walk_up:\n",
      "File \u001b[1;32mC:\\Python312\\Lib\\site-packages\\etils\\epath\\abstract_path.py:78\u001b[0m, in \u001b[0;36mPath.is_relative_to\u001b[1;34m(self, *other)\u001b[0m\n\u001b[0;32m     76\u001b[0m \u001b[38;5;250m\u001b[39m\u001b[38;5;124;03m\"\"\"Return True if the path is relative to another path or False.\"\"\"\u001b[39;00m\n\u001b[0;32m     77\u001b[0m \u001b[38;5;28;01mtry\u001b[39;00m:\n\u001b[1;32m---> 78\u001b[0m   \u001b[38;5;28;43mself\u001b[39;49m\u001b[38;5;241;43m.\u001b[39;49m\u001b[43mrelative_to\u001b[49m\u001b[43m(\u001b[49m\u001b[38;5;241;43m*\u001b[39;49m\u001b[43mother\u001b[49m\u001b[43m)\u001b[49m\n\u001b[0;32m     79\u001b[0m   \u001b[38;5;28;01mreturn\u001b[39;00m \u001b[38;5;28;01mTrue\u001b[39;00m\n\u001b[0;32m     80\u001b[0m \u001b[38;5;28;01mexcept\u001b[39;00m \u001b[38;5;167;01mValueError\u001b[39;00m:\n",
      "File \u001b[1;32mC:\\Python312\\Lib\\pathlib.py:677\u001b[0m, in \u001b[0;36mPurePath.relative_to\u001b[1;34m(self, other, walk_up, *_deprecated)\u001b[0m\n\u001b[0;32m    672\u001b[0m     msg \u001b[38;5;241m=\u001b[39m (\u001b[38;5;124m\"\u001b[39m\u001b[38;5;124msupport for supplying more than one positional argument \u001b[39m\u001b[38;5;124m\"\u001b[39m\n\u001b[0;32m    673\u001b[0m            \u001b[38;5;124m\"\u001b[39m\u001b[38;5;124mto pathlib.PurePath.relative_to() is deprecated and \u001b[39m\u001b[38;5;124m\"\u001b[39m\n\u001b[0;32m    674\u001b[0m            \u001b[38;5;124m\"\u001b[39m\u001b[38;5;124mscheduled for removal in Python \u001b[39m\u001b[38;5;132;01m{remove}\u001b[39;00m\u001b[38;5;124m\"\u001b[39m)\n\u001b[0;32m    675\u001b[0m     warnings\u001b[38;5;241m.\u001b[39m_deprecated(\u001b[38;5;124m\"\u001b[39m\u001b[38;5;124mpathlib.PurePath.relative_to(*args)\u001b[39m\u001b[38;5;124m\"\u001b[39m, msg,\n\u001b[0;32m    676\u001b[0m                          remove\u001b[38;5;241m=\u001b[39m(\u001b[38;5;241m3\u001b[39m, \u001b[38;5;241m14\u001b[39m))\n\u001b[1;32m--> 677\u001b[0m other \u001b[38;5;241m=\u001b[39m \u001b[38;5;28;43mself\u001b[39;49m\u001b[38;5;241;43m.\u001b[39;49m\u001b[43mwith_segments\u001b[49m\u001b[43m(\u001b[49m\u001b[43mother\u001b[49m\u001b[43m,\u001b[49m\u001b[43m \u001b[49m\u001b[38;5;241;43m*\u001b[39;49m\u001b[43m_deprecated\u001b[49m\u001b[43m)\u001b[49m\n\u001b[0;32m    678\u001b[0m \u001b[38;5;28;01mfor\u001b[39;00m step, path \u001b[38;5;129;01min\u001b[39;00m \u001b[38;5;28menumerate\u001b[39m([other] \u001b[38;5;241m+\u001b[39m \u001b[38;5;28mlist\u001b[39m(other\u001b[38;5;241m.\u001b[39mparents)):\n\u001b[0;32m    679\u001b[0m     \u001b[38;5;28;01mif\u001b[39;00m \u001b[38;5;28mself\u001b[39m\u001b[38;5;241m.\u001b[39mis_relative_to(path):\n",
      "File \u001b[1;32mC:\\Python312\\Lib\\pathlib.py:385\u001b[0m, in \u001b[0;36mPurePath.with_segments\u001b[1;34m(self, *pathsegments)\u001b[0m\n\u001b[0;32m    380\u001b[0m \u001b[38;5;28;01mdef\u001b[39;00m \u001b[38;5;21mwith_segments\u001b[39m(\u001b[38;5;28mself\u001b[39m, \u001b[38;5;241m*\u001b[39mpathsegments):\n\u001b[0;32m    381\u001b[0m \u001b[38;5;250m    \u001b[39m\u001b[38;5;124;03m\"\"\"Construct a new path object from any number of path-like objects.\u001b[39;00m\n\u001b[0;32m    382\u001b[0m \u001b[38;5;124;03m    Subclasses may override this method to customize how new path objects\u001b[39;00m\n\u001b[0;32m    383\u001b[0m \u001b[38;5;124;03m    are created from methods like `iterdir()`.\u001b[39;00m\n\u001b[0;32m    384\u001b[0m \u001b[38;5;124;03m    \"\"\"\u001b[39;00m\n\u001b[1;32m--> 385\u001b[0m     \u001b[38;5;28;01mreturn\u001b[39;00m \u001b[38;5;28;43mtype\u001b[39;49m\u001b[43m(\u001b[49m\u001b[38;5;28;43mself\u001b[39;49m\u001b[43m)\u001b[49m\u001b[43m(\u001b[49m\u001b[38;5;241;43m*\u001b[39;49m\u001b[43mpathsegments\u001b[49m\u001b[43m)\u001b[49m\n",
      "File \u001b[1;32mC:\\Python312\\Lib\\site-packages\\etils\\epath\\gpath.py:81\u001b[0m, in \u001b[0;36m_GPath.__new__\u001b[1;34m(cls, *parts)\u001b[0m\n\u001b[0;32m     80\u001b[0m \u001b[38;5;28;01mdef\u001b[39;00m \u001b[38;5;21m__new__\u001b[39m(\u001b[38;5;28mcls\u001b[39m: Type[_P], \u001b[38;5;241m*\u001b[39mparts: PathLike) \u001b[38;5;241m-\u001b[39m\u001b[38;5;241m>\u001b[39m _P:\n\u001b[1;32m---> 81\u001b[0m   full_path \u001b[38;5;241m=\u001b[39m \u001b[38;5;124;43m'\u001b[39;49m\u001b[38;5;124;43m/\u001b[39;49m\u001b[38;5;124;43m'\u001b[39;49m\u001b[38;5;241;43m.\u001b[39;49m\u001b[43mjoin\u001b[49m\u001b[43m(\u001b[49m\u001b[43mos\u001b[49m\u001b[38;5;241;43m.\u001b[39;49m\u001b[43mfspath\u001b[49m\u001b[43m(\u001b[49m\u001b[43mp\u001b[49m\u001b[43m)\u001b[49m\u001b[43m \u001b[49m\u001b[38;5;28;43;01mfor\u001b[39;49;00m\u001b[43m \u001b[49m\u001b[43mp\u001b[49m\u001b[43m \u001b[49m\u001b[38;5;129;43;01min\u001b[39;49;00m\u001b[43m \u001b[49m\u001b[43mparts\u001b[49m\u001b[43m)\u001b[49m\n\u001b[0;32m     82\u001b[0m   \u001b[38;5;28;01mif\u001b[39;00m full_path\u001b[38;5;241m.\u001b[39mstartswith(_URI_PREFIXES):\n\u001b[0;32m     83\u001b[0m     prefix, _ \u001b[38;5;241m=\u001b[39m full_path\u001b[38;5;241m.\u001b[39msplit(\u001b[38;5;124m'\u001b[39m\u001b[38;5;124m://\u001b[39m\u001b[38;5;124m'\u001b[39m, maxsplit\u001b[38;5;241m=\u001b[39m\u001b[38;5;241m1\u001b[39m)\n",
      "File \u001b[1;32mC:\\Python312\\Lib\\site-packages\\etils\\epath\\gpath.py:81\u001b[0m, in \u001b[0;36m<genexpr>\u001b[1;34m(.0)\u001b[0m\n\u001b[0;32m     80\u001b[0m \u001b[38;5;28;01mdef\u001b[39;00m \u001b[38;5;21m__new__\u001b[39m(\u001b[38;5;28mcls\u001b[39m: Type[_P], \u001b[38;5;241m*\u001b[39mparts: PathLike) \u001b[38;5;241m-\u001b[39m\u001b[38;5;241m>\u001b[39m _P:\n\u001b[1;32m---> 81\u001b[0m   full_path \u001b[38;5;241m=\u001b[39m \u001b[38;5;124m'\u001b[39m\u001b[38;5;124m/\u001b[39m\u001b[38;5;124m'\u001b[39m\u001b[38;5;241m.\u001b[39mjoin(\u001b[43mos\u001b[49m\u001b[38;5;241;43m.\u001b[39;49m\u001b[43mfspath\u001b[49m\u001b[43m(\u001b[49m\u001b[43mp\u001b[49m\u001b[43m)\u001b[49m \u001b[38;5;28;01mfor\u001b[39;00m p \u001b[38;5;129;01min\u001b[39;00m parts)\n\u001b[0;32m     82\u001b[0m   \u001b[38;5;28;01mif\u001b[39;00m full_path\u001b[38;5;241m.\u001b[39mstartswith(_URI_PREFIXES):\n\u001b[0;32m     83\u001b[0m     prefix, _ \u001b[38;5;241m=\u001b[39m full_path\u001b[38;5;241m.\u001b[39msplit(\u001b[38;5;124m'\u001b[39m\u001b[38;5;124m://\u001b[39m\u001b[38;5;124m'\u001b[39m, maxsplit\u001b[38;5;241m=\u001b[39m\u001b[38;5;241m1\u001b[39m)\n",
      "File \u001b[1;32mC:\\Python312\\Lib\\site-packages\\etils\\epath\\gpath.py:133\u001b[0m, in \u001b[0;36m_GPath.__fspath__\u001b[1;34m(self)\u001b[0m\n\u001b[0;32m    132\u001b[0m \u001b[38;5;28;01mdef\u001b[39;00m \u001b[38;5;21m__fspath__\u001b[39m(\u001b[38;5;28mself\u001b[39m) \u001b[38;5;241m-\u001b[39m\u001b[38;5;241m>\u001b[39m \u001b[38;5;28mstr\u001b[39m:\n\u001b[1;32m--> 133\u001b[0m   \u001b[38;5;28;01mreturn\u001b[39;00m \u001b[38;5;28;43mself\u001b[39;49m\u001b[38;5;241;43m.\u001b[39;49m\u001b[43m_path_str\u001b[49m\n",
      "File \u001b[1;32mC:\\Python312\\Lib\\site-packages\\etils\\epath\\gpath.py:126\u001b[0m, in \u001b[0;36m_GPath._path_str\u001b[1;34m(self)\u001b[0m\n\u001b[0;32m    123\u001b[0m \u001b[38;5;129m@property\u001b[39m\n\u001b[0;32m    124\u001b[0m \u001b[38;5;28;01mdef\u001b[39;00m \u001b[38;5;21m_path_str\u001b[39m(\u001b[38;5;28mself\u001b[39m) \u001b[38;5;241m-\u001b[39m\u001b[38;5;241m>\u001b[39m \u001b[38;5;28mstr\u001b[39m:\n\u001b[0;32m    125\u001b[0m \u001b[38;5;250m  \u001b[39m\u001b[38;5;124;03m\"\"\"Returns the `__fspath__` string representation.\"\"\"\u001b[39;00m\n\u001b[1;32m--> 126\u001b[0m   uri_scheme \u001b[38;5;241m=\u001b[39m \u001b[38;5;28;43mself\u001b[39;49m\u001b[38;5;241;43m.\u001b[39;49m\u001b[43m_uri_scheme\u001b[49m\n\u001b[0;32m    127\u001b[0m   \u001b[38;5;28;01mif\u001b[39;00m uri_scheme:  \u001b[38;5;66;03m# pylint: disable=using-constant-test\u001b[39;00m\n\u001b[0;32m    128\u001b[0m     \u001b[38;5;28;01mreturn\u001b[39;00m \u001b[38;5;28mself\u001b[39m\u001b[38;5;241m.\u001b[39m_PATH\u001b[38;5;241m.\u001b[39mjoin(\u001b[38;5;124mf\u001b[39m\u001b[38;5;124m'\u001b[39m\u001b[38;5;132;01m{\u001b[39;00muri_scheme\u001b[38;5;132;01m}\u001b[39;00m\u001b[38;5;124m://\u001b[39m\u001b[38;5;124m'\u001b[39m, \u001b[38;5;241m*\u001b[39m\u001b[38;5;28mself\u001b[39m\u001b[38;5;241m.\u001b[39mparts[\u001b[38;5;241m2\u001b[39m:])\n",
      "File \u001b[1;32mC:\\Python312\\Lib\\site-packages\\etils\\epath\\gpath.py:99\u001b[0m, in \u001b[0;36m_GPath._uri_scheme\u001b[1;34m(self)\u001b[0m\n\u001b[0;32m     96\u001b[0m \u001b[38;5;129m@property\u001b[39m\n\u001b[0;32m     97\u001b[0m \u001b[38;5;28;01mdef\u001b[39;00m \u001b[38;5;21m_uri_scheme\u001b[39m(\u001b[38;5;28mself\u001b[39m) \u001b[38;5;241m-\u001b[39m\u001b[38;5;241m>\u001b[39m Optional[\u001b[38;5;28mstr\u001b[39m]:\n\u001b[0;32m     98\u001b[0m   \u001b[38;5;28;01mif\u001b[39;00m (\n\u001b[1;32m---> 99\u001b[0m       \u001b[38;5;28mlen\u001b[39m(\u001b[38;5;28;43mself\u001b[39;49m\u001b[38;5;241;43m.\u001b[39;49m\u001b[43mparts\u001b[49m) \u001b[38;5;241m>\u001b[39m\u001b[38;5;241m=\u001b[39m \u001b[38;5;241m2\u001b[39m\n\u001b[0;32m    100\u001b[0m       \u001b[38;5;129;01mand\u001b[39;00m \u001b[38;5;28mself\u001b[39m\u001b[38;5;241m.\u001b[39mparts[\u001b[38;5;241m0\u001b[39m] \u001b[38;5;241m==\u001b[39m \u001b[38;5;124m'\u001b[39m\u001b[38;5;124m/\u001b[39m\u001b[38;5;124m'\u001b[39m\n\u001b[0;32m    101\u001b[0m       \u001b[38;5;129;01mand\u001b[39;00m \u001b[38;5;28mself\u001b[39m\u001b[38;5;241m.\u001b[39mparts[\u001b[38;5;241m1\u001b[39m] \u001b[38;5;129;01min\u001b[39;00m _URI_SCHEMES\n\u001b[0;32m    102\u001b[0m   ):\n\u001b[0;32m    103\u001b[0m     \u001b[38;5;28;01mreturn\u001b[39;00m \u001b[38;5;28mself\u001b[39m\u001b[38;5;241m.\u001b[39mparts[\u001b[38;5;241m1\u001b[39m]\n\u001b[0;32m    104\u001b[0m   \u001b[38;5;28;01melse\u001b[39;00m:\n",
      "\u001b[1;31mRecursionError\u001b[0m: maximum recursion depth exceeded"
     ]
    }
   ],
   "source": [
    "ds = tfds.load(\"iris\", split='train[:80%]')\n",
    "# # ds = tfds.load('iris')\n",
    "# ds\n",
    "  \n",
    "# # data (as pandas dataframes) \n",
    "# df = iris.data.features \n",
    "# # y = iris.data.targets\n",
    "# df"
   ]
  },
  {
   "cell_type": "markdown",
   "metadata": {
    "id": "74UskaLFtGL1"
   },
   "source": [
    "Преобразуем объект `PrefetchDataset` в датафрейм:"
   ]
  },
  {
   "cell_type": "code",
   "execution_count": 95,
   "metadata": {
    "id": "YAdf9TKKtSfJ"
   },
   "outputs": [
    {
     "data": {
      "text/html": [
       "<div>\n",
       "<style scoped>\n",
       "    .dataframe tbody tr th:only-of-type {\n",
       "        vertical-align: middle;\n",
       "    }\n",
       "\n",
       "    .dataframe tbody tr th {\n",
       "        vertical-align: top;\n",
       "    }\n",
       "\n",
       "    .dataframe thead th {\n",
       "        text-align: right;\n",
       "    }\n",
       "</style>\n",
       "<table border=\"1\" class=\"dataframe\">\n",
       "  <thead>\n",
       "    <tr style=\"text-align: right;\">\n",
       "      <th></th>\n",
       "      <th>sepal length</th>\n",
       "      <th>sepal width</th>\n",
       "      <th>petal length</th>\n",
       "      <th>petal width</th>\n",
       "    </tr>\n",
       "  </thead>\n",
       "  <tbody>\n",
       "    <tr>\n",
       "      <th>0</th>\n",
       "      <td>5.1</td>\n",
       "      <td>3.5</td>\n",
       "      <td>1.4</td>\n",
       "      <td>0.2</td>\n",
       "    </tr>\n",
       "    <tr>\n",
       "      <th>1</th>\n",
       "      <td>4.9</td>\n",
       "      <td>3.0</td>\n",
       "      <td>1.4</td>\n",
       "      <td>0.2</td>\n",
       "    </tr>\n",
       "    <tr>\n",
       "      <th>2</th>\n",
       "      <td>4.7</td>\n",
       "      <td>3.2</td>\n",
       "      <td>1.3</td>\n",
       "      <td>0.2</td>\n",
       "    </tr>\n",
       "    <tr>\n",
       "      <th>3</th>\n",
       "      <td>4.6</td>\n",
       "      <td>3.1</td>\n",
       "      <td>1.5</td>\n",
       "      <td>0.2</td>\n",
       "    </tr>\n",
       "    <tr>\n",
       "      <th>4</th>\n",
       "      <td>5.0</td>\n",
       "      <td>3.6</td>\n",
       "      <td>1.4</td>\n",
       "      <td>0.2</td>\n",
       "    </tr>\n",
       "  </tbody>\n",
       "</table>\n",
       "</div>"
      ],
      "text/plain": [
       "   sepal length  sepal width  petal length  petal width\n",
       "0           5.1          3.5           1.4          0.2\n",
       "1           4.9          3.0           1.4          0.2\n",
       "2           4.7          3.2           1.3          0.2\n",
       "3           4.6          3.1           1.5          0.2\n",
       "4           5.0          3.6           1.4          0.2"
      ]
     },
     "execution_count": 95,
     "metadata": {},
     "output_type": "execute_result"
    }
   ],
   "source": [
    "# df = tfds.as_dataframe(ds)\n",
    "df.head()"
   ]
  },
  {
   "cell_type": "markdown",
   "metadata": {
    "id": "SyTDw_ZGttWu"
   },
   "source": [
    "Добавим в датафрейм новые четыре признака `V0`, `V1`, `V2`, `V3`:"
   ]
  },
  {
   "cell_type": "code",
   "execution_count": 96,
   "metadata": {
    "id": "9omfvnQRtpvN"
   },
   "outputs": [
    {
     "ename": "KeyError",
     "evalue": "'features'",
     "output_type": "error",
     "traceback": [
      "\u001b[1;31m---------------------------------------------------------------------------\u001b[0m",
      "\u001b[1;31mKeyError\u001b[0m                                  Traceback (most recent call last)",
      "File \u001b[1;32mC:\\Python312\\Lib\\site-packages\\pandas\\core\\indexes\\base.py:3805\u001b[0m, in \u001b[0;36mIndex.get_loc\u001b[1;34m(self, key)\u001b[0m\n\u001b[0;32m   3804\u001b[0m \u001b[38;5;28;01mtry\u001b[39;00m:\n\u001b[1;32m-> 3805\u001b[0m     \u001b[38;5;28;01mreturn\u001b[39;00m \u001b[38;5;28;43mself\u001b[39;49m\u001b[38;5;241;43m.\u001b[39;49m\u001b[43m_engine\u001b[49m\u001b[38;5;241;43m.\u001b[39;49m\u001b[43mget_loc\u001b[49m\u001b[43m(\u001b[49m\u001b[43mcasted_key\u001b[49m\u001b[43m)\u001b[49m\n\u001b[0;32m   3806\u001b[0m \u001b[38;5;28;01mexcept\u001b[39;00m \u001b[38;5;167;01mKeyError\u001b[39;00m \u001b[38;5;28;01mas\u001b[39;00m err:\n",
      "File \u001b[1;32mindex.pyx:167\u001b[0m, in \u001b[0;36mpandas._libs.index.IndexEngine.get_loc\u001b[1;34m()\u001b[0m\n",
      "File \u001b[1;32mindex.pyx:196\u001b[0m, in \u001b[0;36mpandas._libs.index.IndexEngine.get_loc\u001b[1;34m()\u001b[0m\n",
      "File \u001b[1;32mpandas\\\\_libs\\\\hashtable_class_helper.pxi:7081\u001b[0m, in \u001b[0;36mpandas._libs.hashtable.PyObjectHashTable.get_item\u001b[1;34m()\u001b[0m\n",
      "File \u001b[1;32mpandas\\\\_libs\\\\hashtable_class_helper.pxi:7089\u001b[0m, in \u001b[0;36mpandas._libs.hashtable.PyObjectHashTable.get_item\u001b[1;34m()\u001b[0m\n",
      "\u001b[1;31mKeyError\u001b[0m: 'features'",
      "\nThe above exception was the direct cause of the following exception:\n",
      "\u001b[1;31mKeyError\u001b[0m                                  Traceback (most recent call last)",
      "Cell \u001b[1;32mIn[96], line 2\u001b[0m\n\u001b[0;32m      1\u001b[0m \u001b[38;5;28;01mfor\u001b[39;00m i \u001b[38;5;129;01min\u001b[39;00m \u001b[38;5;28mrange\u001b[39m(\u001b[38;5;241m4\u001b[39m):\n\u001b[1;32m----> 2\u001b[0m     df[\u001b[38;5;124m'\u001b[39m\u001b[38;5;124mV\u001b[39m\u001b[38;5;124m'\u001b[39m\u001b[38;5;241m+\u001b[39m\u001b[38;5;28mstr\u001b[39m(i)] \u001b[38;5;241m=\u001b[39m \u001b[43mdf\u001b[49m\u001b[43m[\u001b[49m\u001b[38;5;124;43m'\u001b[39;49m\u001b[38;5;124;43mfeatures\u001b[39;49m\u001b[38;5;124;43m'\u001b[39;49m\u001b[43m]\u001b[49m\u001b[38;5;241m.\u001b[39mapply([\u001b[38;5;28;01mlambda\u001b[39;00m x:x[i]])\n\u001b[0;32m      4\u001b[0m df\u001b[38;5;241m.\u001b[39mhead()\n",
      "File \u001b[1;32mC:\\Python312\\Lib\\site-packages\\pandas\\core\\frame.py:4102\u001b[0m, in \u001b[0;36mDataFrame.__getitem__\u001b[1;34m(self, key)\u001b[0m\n\u001b[0;32m   4100\u001b[0m \u001b[38;5;28;01mif\u001b[39;00m \u001b[38;5;28mself\u001b[39m\u001b[38;5;241m.\u001b[39mcolumns\u001b[38;5;241m.\u001b[39mnlevels \u001b[38;5;241m>\u001b[39m \u001b[38;5;241m1\u001b[39m:\n\u001b[0;32m   4101\u001b[0m     \u001b[38;5;28;01mreturn\u001b[39;00m \u001b[38;5;28mself\u001b[39m\u001b[38;5;241m.\u001b[39m_getitem_multilevel(key)\n\u001b[1;32m-> 4102\u001b[0m indexer \u001b[38;5;241m=\u001b[39m \u001b[38;5;28;43mself\u001b[39;49m\u001b[38;5;241;43m.\u001b[39;49m\u001b[43mcolumns\u001b[49m\u001b[38;5;241;43m.\u001b[39;49m\u001b[43mget_loc\u001b[49m\u001b[43m(\u001b[49m\u001b[43mkey\u001b[49m\u001b[43m)\u001b[49m\n\u001b[0;32m   4103\u001b[0m \u001b[38;5;28;01mif\u001b[39;00m is_integer(indexer):\n\u001b[0;32m   4104\u001b[0m     indexer \u001b[38;5;241m=\u001b[39m [indexer]\n",
      "File \u001b[1;32mC:\\Python312\\Lib\\site-packages\\pandas\\core\\indexes\\base.py:3812\u001b[0m, in \u001b[0;36mIndex.get_loc\u001b[1;34m(self, key)\u001b[0m\n\u001b[0;32m   3807\u001b[0m     \u001b[38;5;28;01mif\u001b[39;00m \u001b[38;5;28misinstance\u001b[39m(casted_key, \u001b[38;5;28mslice\u001b[39m) \u001b[38;5;129;01mor\u001b[39;00m (\n\u001b[0;32m   3808\u001b[0m         \u001b[38;5;28misinstance\u001b[39m(casted_key, abc\u001b[38;5;241m.\u001b[39mIterable)\n\u001b[0;32m   3809\u001b[0m         \u001b[38;5;129;01mand\u001b[39;00m \u001b[38;5;28many\u001b[39m(\u001b[38;5;28misinstance\u001b[39m(x, \u001b[38;5;28mslice\u001b[39m) \u001b[38;5;28;01mfor\u001b[39;00m x \u001b[38;5;129;01min\u001b[39;00m casted_key)\n\u001b[0;32m   3810\u001b[0m     ):\n\u001b[0;32m   3811\u001b[0m         \u001b[38;5;28;01mraise\u001b[39;00m InvalidIndexError(key)\n\u001b[1;32m-> 3812\u001b[0m     \u001b[38;5;28;01mraise\u001b[39;00m \u001b[38;5;167;01mKeyError\u001b[39;00m(key) \u001b[38;5;28;01mfrom\u001b[39;00m \u001b[38;5;21;01merr\u001b[39;00m\n\u001b[0;32m   3813\u001b[0m \u001b[38;5;28;01mexcept\u001b[39;00m \u001b[38;5;167;01mTypeError\u001b[39;00m:\n\u001b[0;32m   3814\u001b[0m     \u001b[38;5;66;03m# If we have a listlike key, _check_indexing_error will raise\u001b[39;00m\n\u001b[0;32m   3815\u001b[0m     \u001b[38;5;66;03m#  InvalidIndexError. Otherwise we fall through and re-raise\u001b[39;00m\n\u001b[0;32m   3816\u001b[0m     \u001b[38;5;66;03m#  the TypeError.\u001b[39;00m\n\u001b[0;32m   3817\u001b[0m     \u001b[38;5;28mself\u001b[39m\u001b[38;5;241m.\u001b[39m_check_indexing_error(key)\n",
      "\u001b[1;31mKeyError\u001b[0m: 'features'"
     ]
    }
   ],
   "source": [
    "for i in range(4):\n",
    "    df['V'+str(i)] = df['features'].apply([lambda x:x[i]])\n",
    "\n",
    "df.head()"
   ]
  },
  {
   "cell_type": "markdown",
   "metadata": {
    "id": "_Dnrq475uRPj"
   },
   "source": [
    "Удалим из датафрейма столбец `features`:"
   ]
  },
  {
   "cell_type": "code",
   "execution_count": null,
   "metadata": {
    "id": "WiE_8hZ3uYqL"
   },
   "outputs": [],
   "source": [
    "df.drop(columns=['features'],inplace=True)\n",
    "df.head()"
   ]
  },
  {
   "cell_type": "markdown",
   "metadata": {
    "id": "8l3_3I_-woun"
   },
   "source": [
    "### Дескриптивный анализ данных\n",
    "\n",
    "__Дескриптивный__ (описательный) __анализ__ (аналитика, статистика) – это разновидность анализа данных, ориентированная на сбор, систематизацию и обобщение данных с целью обнаружения в них интерпретируемых зависимостей и закономерностей.\n",
    "\n",
    "Оценить размеры датафрейма и типы столбцов можно так:"
   ]
  },
  {
   "cell_type": "code",
   "execution_count": null,
   "metadata": {
    "id": "t0aGksIi51cQ"
   },
   "outputs": [],
   "source": [
    "df.info()"
   ]
  },
  {
   "cell_type": "markdown",
   "metadata": {
    "id": "5o4fCJeA51cQ"
   },
   "source": [
    "1. Значения данных и их частоты\n",
    "\n",
    "Перечень уникальных значения и таблица частот могут быть построены следующими командами:"
   ]
  },
  {
   "cell_type": "code",
   "execution_count": null,
   "metadata": {
    "id": "47M_2BV7xP83"
   },
   "outputs": [],
   "source": [
    "df['label'].unique()"
   ]
  },
  {
   "cell_type": "code",
   "execution_count": null,
   "metadata": {
    "id": "8BSkgGd4w4jc"
   },
   "outputs": [],
   "source": [
    "df['label'].value_counts()"
   ]
  },
  {
   "cell_type": "markdown",
   "metadata": {
    "id": "EYsJ1Oe1xXSc"
   },
   "source": [
    "2. Средние значения (центральная тенденция) данных"
   ]
  },
  {
   "cell_type": "code",
   "execution_count": null,
   "metadata": {
    "id": "43KUAA9Rxgp0"
   },
   "outputs": [],
   "source": [
    "df.mean() # средние значения"
   ]
  },
  {
   "cell_type": "code",
   "execution_count": null,
   "metadata": {
    "id": "IILNIiVNx8lb"
   },
   "outputs": [],
   "source": [
    "df.median() # медианы"
   ]
  },
  {
   "cell_type": "markdown",
   "metadata": {
    "id": "lznyHPuMya_M"
   },
   "source": [
    "3. Рассеяние (разброс) данных"
   ]
  },
  {
   "cell_type": "code",
   "execution_count": null,
   "metadata": {
    "id": "QOQFeXlfyl2i"
   },
   "outputs": [],
   "source": [
    "df.min() # минимумы"
   ]
  },
  {
   "cell_type": "code",
   "execution_count": null,
   "metadata": {
    "id": "xhcNDfxIy1VJ"
   },
   "outputs": [],
   "source": [
    "df.max() # максимумы"
   ]
  },
  {
   "cell_type": "code",
   "execution_count": null,
   "metadata": {
    "id": "Bklkqqcty_Qq"
   },
   "outputs": [],
   "source": [
    "df.std() # стандартные отклонения"
   ]
  },
  {
   "cell_type": "code",
   "execution_count": null,
   "metadata": {
    "id": "r29Kr9VF51cT"
   },
   "outputs": [],
   "source": [
    "df.var() # дисперсии - квадраты стандартных отклонений"
   ]
  },
  {
   "cell_type": "markdown",
   "metadata": {
    "id": "OQs27DDPz5WS"
   },
   "source": [
    "4. Расположение данных (квантили распределения)"
   ]
  },
  {
   "cell_type": "code",
   "execution_count": null,
   "metadata": {
    "id": "CpOhCPGMz-ik"
   },
   "outputs": [],
   "source": [
    "df.quantile(0.9) # квантили 90%"
   ]
  },
  {
   "cell_type": "markdown",
   "metadata": {
    "id": "uu9ihn--51cU"
   },
   "source": [
    "5. Описательный анализ набора данных"
   ]
  },
  {
   "cell_type": "code",
   "execution_count": null,
   "metadata": {
    "id": "jrQn44l70Hhq"
   },
   "outputs": [],
   "source": [
    "df.describe()"
   ]
  },
  {
   "cell_type": "markdown",
   "metadata": {
    "id": "gW0-2gWU9X06"
   },
   "source": [
    "## Разведочный анализ данных\n",
    "\n",
    "__Разведочный анализ данных__ (exploratory data analysis) — анализ основных свойств данных, нахождение в них общих закономерностей, распределений и аномалий, построение моделей данных с использованием инструментов визуализации.\n",
    "\n",
    "Основные средства разведочного анализа — изучение вероятностных распределений переменных, построение и анализ корреляционных матриц, факторный анализ, дискриминантный анализ.\n",
    "\n",
    "### Эмпирическая функция и эмпирическая плотность распределения\n",
    "\n",
    "Пусть рассматривается числовой признак $X$, принимающий значения $x_{i},i=\\overline{1,n}.$\n",
    "\n",
    "Тогда __эмпирическая__ (кумулятивная) __функция распределения__ (CDF) в точке $x$ задается как сумма относительных частот для всех элементов выборки $\\{x_{i}\\}$, меньше или равных $x$:\n",
    "\n",
    "$\\hat{F}(x)=\\frac{1}{n}\\;\\sum_{i=1}^{n}I\\left(x_{i}\\leqslant x\\right)$,\n",
    "\n",
    "где индикаторная переменная $I$ принимает значение $1$, когда указанное в качестве аргумента условие выполняется, или $0$ в противном случае. Для каждой точки $x_{i}$ используется одинаковая относительная частотв (коэффициент) $\\frac{1}{n}$."
   ]
  },
  {
   "cell_type": "code",
   "execution_count": null,
   "metadata": {
    "id": "gU8OUevx9nwg"
   },
   "outputs": [],
   "source": [
    "def ECDF(data, x):\n",
    "    counter = 0\n",
    "    for v in data:\n",
    "        if v <= x:\n",
    "            counter += 1\n",
    "    return counter / len(data)"
   ]
  },
  {
   "cell_type": "code",
   "execution_count": null,
   "metadata": {
    "id": "FM9IB-4G9vrR"
   },
   "outputs": [],
   "source": [
    "samples = df['V0'] # sepal length\n",
    "npoints = 500\n",
    "dx = (samples.max()-samples.min())/npoints\n",
    "\n",
    "xlist = [samples.min()+dx*i for i in range(npoints)]\n",
    "ylist = [ECDF(samples, x) for x in xlist]"
   ]
  },
  {
   "cell_type": "code",
   "execution_count": null,
   "metadata": {
    "id": "3AzIA-dE-BQ3"
   },
   "outputs": [],
   "source": [
    "df_ECDF = pd.DataFrame(ylist, columns=['V0'],index=xlist)\n",
    "df_ECDF\n"
   ]
  },
  {
   "cell_type": "code",
   "execution_count": null,
   "metadata": {
    "id": "DoppqXiy-8mu"
   },
   "outputs": [],
   "source": [
    "df_ECDF.plot.line(title='График эмпирической функции распределения признака V0');"
   ]
  },
  {
   "cell_type": "markdown",
   "metadata": {
    "id": "FU8zkTJh_yBe"
   },
   "source": [
    "__Эмпирическая__ (выборочная) __плотность распределения__ (PDF) – это ступенчатая функция, в которой высота ступени на промежутке вычисляется из условия, что площадь прямоугольника (ступени) равна относительной частоте попадания в этот промежуток.\n",
    "\n",
    "Для построения эмпирической плотности распределения можно воспользоваться методом для построения гистограммы с параметром `density=True`:"
   ]
  },
  {
   "cell_type": "code",
   "execution_count": null,
   "metadata": {
    "id": "5vC6hBQOBvyK"
   },
   "outputs": [],
   "source": [
    "df['V0'].plot.hist(density=True);"
   ]
  },
  {
   "cell_type": "code",
   "execution_count": null,
   "metadata": {
    "id": "QJynmYyNB-oM"
   },
   "outputs": [],
   "source": [
    "df['V0'].plot.hist(color='yellow', edgecolor='black', bins=20, density=True);"
   ]
  },
  {
   "cell_type": "markdown",
   "metadata": {
    "id": "taeMBExzCgEb"
   },
   "source": [
    "### Ковариация и корреляция между признаками\n",
    "\n",
    "__Ковариация__ — это мера линейной зависимости двух случайных величин. Для вычисления ковариации числовых признаков датафрейма можно воспользоваться методом `cov()`:"
   ]
  },
  {
   "cell_type": "code",
   "execution_count": null,
   "metadata": {
    "id": "4vBnEbJ8CTZD"
   },
   "outputs": [],
   "source": [
    "df.cov()"
   ]
  },
  {
   "cell_type": "markdown",
   "metadata": {
    "id": "0J2ZXGJsC_3h"
   },
   "source": [
    "__Корреляция__ (корреляция Пирсона) — это статистическая взаимосвязь двух или более случайных величин. Для вычисления корреляции числовых признаков датафрейма можно воспользоваться методом `corr()`:"
   ]
  },
  {
   "cell_type": "code",
   "execution_count": null,
   "metadata": {
    "id": "QZ0DwXJLC2KL"
   },
   "outputs": [],
   "source": [
    "df.corr()"
   ]
  },
  {
   "cell_type": "markdown",
   "metadata": {
    "id": "-PY3AsNV0zIO"
   },
   "source": [
    "### Визуализация данных датасета средствами Pandas\n",
    "\n",
    "В Pandas имеются встроенные средства для отображения данных объектов `Series` и `DataFrame`. Например, __линейный график__ (line plot) состоит из серии точек, соединенных линиями:"
   ]
  },
  {
   "cell_type": "code",
   "execution_count": null,
   "metadata": {
    "id": "UnQ0n0Jb4oWi"
   },
   "outputs": [],
   "source": [
    "df['V0'].plot.line(title='Линейный график признака V0');"
   ]
  },
  {
   "cell_type": "code",
   "execution_count": null,
   "metadata": {
    "id": "kvRyrxbD4zhX"
   },
   "outputs": [],
   "source": [
    "df.plot.line(title='Линейный график признаков набора Ирисы',figsize=(12,6));"
   ]
  },
  {
   "cell_type": "markdown",
   "metadata": {
    "id": "2n027BFL5Fpm"
   },
   "source": [
    "__Столбчатая диаграмма__ (bar chart) представляет величины прямоугольными зонами, высоты или длины которых пропорциональны величинам, которые они отображают:"
   ]
  },
  {
   "cell_type": "code",
   "execution_count": null,
   "metadata": {
    "id": "Ch8GtbAM5Ox3"
   },
   "outputs": [],
   "source": [
    "df['V0'].plot.bar(title='Столбчатая диаграмма признака V0', figsize=(15,6));"
   ]
  },
  {
   "cell_type": "code",
   "execution_count": null,
   "metadata": {
    "id": "CdrrKnL65oeo"
   },
   "outputs": [],
   "source": [
    "df[::5]['V0'].plot.bar(title='Столбчатая диаграмма признака V0'); # шаг 5"
   ]
  },
  {
   "cell_type": "code",
   "execution_count": null,
   "metadata": {
    "id": "yGqWne_959Nv"
   },
   "outputs": [],
   "source": [
    "df[::10].plot.bar(title='Столбчатая диаграмма признаков набора Ирисы',\n",
    "                       figsize=(12,8)); # шаг 10"
   ]
  },
  {
   "cell_type": "markdown",
   "metadata": {
    "id": "Rc-clEwp6IfK"
   },
   "source": [
    "__Гистограмма__ (histogram) — это столбчатая диаграмма, в которой высота каждого прямоугольника (или его площадь) пропорциональна числу элементов выборки, попадающих в соответствующий интервал."
   ]
  },
  {
   "cell_type": "code",
   "execution_count": null,
   "metadata": {
    "id": "UPQpok7k6Kq-"
   },
   "outputs": [],
   "source": [
    "df['V0'].plot.hist(bins=15,title='Гистограмма признака V0');"
   ]
  },
  {
   "cell_type": "markdown",
   "metadata": {
    "id": "e65YYQUB6dog"
   },
   "source": [
    "__Диаграмма размаха__ (box plot) в удобной форме показывает медиану (среднее), первый (25%) и третий (75%) квартили, края статистически значимой выборки (минимальное и максимальное значения) и, возможно, выбросы."
   ]
  },
  {
   "cell_type": "code",
   "execution_count": null,
   "metadata": {
    "id": "aa18B15c6hRj"
   },
   "outputs": [],
   "source": [
    "df['V0'].plot.box(title='Диаграмма размаха признака V0');"
   ]
  },
  {
   "cell_type": "code",
   "execution_count": null,
   "metadata": {
    "id": "yNq2S-gn6zmM"
   },
   "outputs": [],
   "source": [
    "df.plot.box(title='Диаграммы размаха признаков набора Ирисы'); # by='label',"
   ]
  },
  {
   "cell_type": "markdown",
   "metadata": {
    "id": "Bknghkmg6wBU"
   },
   "source": [
    "__Диаграмма рассеяния__ (scatter plot) изображает значения двух переменных в виде точек на плоскости:"
   ]
  },
  {
   "cell_type": "code",
   "execution_count": null,
   "metadata": {
    "id": "RdNK-tho7GGw"
   },
   "outputs": [],
   "source": [
    "df.plot.scatter('V0','V1',title='Диаграмма рассеяния признаков V0 и V1');"
   ]
  },
  {
   "cell_type": "markdown",
   "metadata": {
    "id": "RKlRxa2EKcTu"
   },
   "source": [
    "## Визуализация данных при помощи __Matplotlib__\n",
    "\n",
    "Библиотека __Matplotlib__ предназначена для визуализации данных."
   ]
  },
  {
   "cell_type": "code",
   "execution_count": null,
   "metadata": {
    "id": "GCNmPhYuurZN"
   },
   "outputs": [],
   "source": [
    "import matplotlib.pyplot as plt"
   ]
  },
  {
   "cell_type": "markdown",
   "metadata": {
    "id": "ea4FLN13u0ER"
   },
   "source": [
    "Построим простую линейную зависимость $y=x$, дадим нашему графику название, подпишем оси и отобразим сетку:"
   ]
  },
  {
   "cell_type": "code",
   "execution_count": null,
   "metadata": {
    "id": "YB8EvIk5vDFY"
   },
   "outputs": [],
   "source": [
    "# Независимая (x) и зависимая (y) переменные\n",
    "x = np.linspace(0, 10, 50)\n",
    "y = x"
   ]
  },
  {
   "cell_type": "code",
   "execution_count": null,
   "metadata": {
    "id": "eTwVnLapvLbP"
   },
   "outputs": [],
   "source": [
    "plt.title(\"Линейная зависимость y = x\") # заголовок\n",
    "plt.xlabel(\"x\") # ось абсцисс\n",
    "plt.ylabel(\"y\") # ось ординат\n",
    "plt.grid(True)  # включение отображение сетки\n",
    "plt.plot(x, y); # построение графика"
   ]
  },
  {
   "cell_type": "markdown",
   "metadata": {
    "id": "MfbCnAOmvo_n"
   },
   "source": [
    "Изменим тип линии и ее цвет, для этого в функцию `plot()` в качестве третьего параметра передадим строку, сформированную определенным образом, в нашем случае это `“r--”`, где `“r”` означает красный цвет, а `“--”` – это тип линии (пунктирная линия)."
   ]
  },
  {
   "cell_type": "code",
   "execution_count": null,
   "metadata": {
    "id": "p7APqhK-vz6X"
   },
   "outputs": [],
   "source": [
    "plt.title(\"Линейная зависимость y = x\") # заголовок\n",
    "plt.xlabel(\"x\") # ось абсцисс\n",
    "plt.ylabel(\"y\") # ось ординат\n",
    "plt.grid(True)  # включение отображение сетки\n",
    "plt.plot(x, y, \"r--\");  # построение графика"
   ]
  },
  {
   "cell_type": "markdown",
   "metadata": {
    "id": "09jU4noIwExK"
   },
   "source": [
    "Построим несколько графиков на одном поле, для этого добавим квадратичную зависимость $y=x^2$:"
   ]
  },
  {
   "cell_type": "code",
   "execution_count": null,
   "metadata": {
    "id": "TjLFRgqhwY1H"
   },
   "outputs": [],
   "source": [
    "x = np.linspace(0, 10, 50)\n",
    "y1 = x # Линейная зависимость\n",
    "y2 = [i**2 for i in x] # Квадратичная зависимость с исп. спискового генератора\n",
    "# Построение графика\n",
    "plt.title(r\"Зависимости: $y_1 = x, y_2 = x^2$\") # заголовок с r-строкой\n",
    "plt.xlabel(\"x\")              # ось абсцисс\n",
    "plt.ylabel(r\"$y_1, y_2$\")    # ось ординат (с r-строкой)\n",
    "plt.grid(True)               # включение отображение сетки\n",
    "plt.plot(x, y1, x, y2);      # построение графика"
   ]
  },
  {
   "cell_type": "markdown",
   "metadata": {
    "id": "95uN08DfCWtf"
   },
   "source": [
    "В приведенном примере в функцию `plot()` передаются два массива для построения первого графика и два массива для построения второго графика, при этом для обоих графиков массив значений независимой переменной $x$ один и то же.\n",
    "\n",
    "Построим уже известные нам две зависимости в виде двух рисунков."
   ]
  },
  {
   "cell_type": "code",
   "execution_count": null,
   "metadata": {
    "id": "CxxozfeOC4gL"
   },
   "outputs": [],
   "source": [
    "x = np.linspace(0, 10, 50)\n",
    "y1 = x                        # Линейная зависимость\n",
    "y2 = [i**2 for i in x]        # Квадратичная зависимость\n",
    "# Построение графиков\n",
    "plt.figure(figsize=(9, 9))\n",
    "plt.subplot(2, 1, 1)          # график №1 из двух\n",
    "plt.plot(x, y1)               # построение графика\n",
    "plt.title(r\"Зависимости: $y_1 = x$, $y_2 = x^2$\") # заголовок\n",
    "plt.ylabel(r\"$y_1$\", fontsize=14) # ось ординат\n",
    "plt.grid(True)                # включение отображение сетки\n",
    "plt.subplot(2, 1, 2)          # график №2 из двух\n",
    "plt.plot(x, y2)               # построение графика\n",
    "plt.xlabel(r\"$x$\", fontsize=14)  # ось абсцисс\n",
    "plt.ylabel(r\"$y_2$\", fontsize=14) # ось ординат\n",
    "plt.grid(True);               # включение отображение сетки"
   ]
  },
  {
   "cell_type": "markdown",
   "metadata": {
    "id": "9hwtgwQUDzNP"
   },
   "source": [
    "Здесь мы воспользовались новыми функциями:\n",
    "\n",
    "`figure()` – функция для задания глобальных параметров отображения графиков. В нее, в качестве аргумента, мы передаем кортеж, определяющий размер общего поля.\n",
    "\n",
    "`subplot()` – функция для задания местоположения поля с графиком. Существует несколько способов задания областей для вывода через функцию `subplot()` мы воспользовались следующим: первый аргумент – количество строк, второй – количество столбцов в формируемом поле, третий – индекс (номер поля, считаем сверху вниз, слева направо).\n",
    "\n",
    "Остальные функции уже вам знакомы, дополнительно мы использовали параметр `fontsize` для функций `xlabel()` и `ylabel()` для задания размера шрифта."
   ]
  },
  {
   "cell_type": "markdown",
   "metadata": {
    "id": "TTgbNgA1TSFd"
   },
   "source": [
    "### Основные элементы графика\n",
    "\n",
    "Рассмотрим основные термины и понятия, касающиеся изображения графиков в библиотеке __Matplotlib__ на следующем более сложном примере:"
   ]
  },
  {
   "cell_type": "code",
   "execution_count": null,
   "metadata": {
    "id": "EL49HDihTSFe"
   },
   "outputs": [],
   "source": [
    "from matplotlib.ticker import AutoMinorLocator\n",
    "\n",
    "x = np.linspace(0, 10, 10)\n",
    "y1 = 4*x\n",
    "y2 = x**2\n",
    "\n",
    "fig, ax = plt.subplots(figsize=(8, 6))\n",
    "\n",
    "ax.set_title(r\"Графики зависимостей: $y_1=4x$, $y_2=x^2$\", fontsize=16)\n",
    "ax.set_xlabel(r\"$x$\", fontsize=14)\n",
    "ax.set_ylabel(r\"$y_1, y_2$\", fontsize=14)\n",
    "ax.grid(which=\"major\", linewidth=1.2)\n",
    "ax.grid(which=\"minor\", linestyle=\"--\", color=\"gray\", linewidth=0.5)\n",
    "ax.scatter(x, y1, c=\"red\", label=r\"$y_1 = 4x$\")\n",
    "ax.plot(x, y2, label=r\"$y_2 = x^2$\")\n",
    "ax.legend()\n",
    "\n",
    "ax.xaxis.set_minor_locator(AutoMinorLocator()) # задание рисок мелкой сетки\n",
    "ax.yaxis.set_minor_locator(AutoMinorLocator())\n",
    "ax.tick_params(which='major', length=10, width=2)\n",
    "ax.tick_params(which='minor', length=5, width=1);"
   ]
  },
  {
   "cell_type": "markdown",
   "metadata": {
    "id": "xxvjPYbGTSFf"
   },
   "source": [
    "Корневым элементом при построения графиков в системе __Matplotlib__ является объект `Figure`. Все, что нарисовано на рисунке выше является элементами этого объекта.\n",
    "\n",
    "#### График\n",
    "\n",
    "На рисунке представлены два графика – линейный и точечный. __Matplotlib__ предоставляет огромное количество различных настроек, которые можно использовать для того, чтобы придать графику вид, который вам нужен: цвет, толщина и тип линии, стиль линии и многое другое.\n",
    "\n",
    "#### Оси\n",
    "\n",
    "Вторым, после непосредственно самого графика, по важности элементом являются оси. Для каждой оси можно задать метку (подпись), основные (`major`) и дополнительные (`minor`) тики, их подписи, размер и толщину, также можно задать диапазоны по каждой из осей.\n",
    "\n",
    "#### Сетка и легенда\n",
    "\n",
    "Значительно повышают информативность графика сетка и легенда. Сетка может быть основной (`major`) и дополнительной (`minor`). Каждому типу сетки можно задавать цвет, толщину линии и тип. Для отображения сетки и легенды используются соответствующие команды."
   ]
  },
  {
   "cell_type": "markdown",
   "metadata": {
    "id": "2FWTQ7uOeVNS"
   },
   "source": [
    "## Задача регрессии\n",
    "\n",
    "Задача регрессии заключается в построении некоторой функции $f\\left(x_{1},x_{2},...,x_{d}\\right)$, которая наилучшим образом описывает данные из некоторой обучающей выборки, в которой каждому вектору значений независимых переменных (предикторов) $x$ ставится в соответствие зависимая переменная $y$. Эта функция ищется в некотором конкретном классе функций.\n",
    "\n",
    "### Понятие линейной регрессии\n",
    "\n",
    "Линейная регрессия (linear regression) — это метод восстановления зависимости одной (объясняемой, зависимой) переменной $y$ от другой или нескольких других переменных (факторов, независимых переменных) $\\mathbf{x}$ с линейной функцией зависимости от коэффициентов.\n",
    "\n",
    "В линейной регрессии функция $f$ предполагается линейной по $\\mathbf{x}$, т.е.\n",
    "\n",
    "$f\\left(\\mathbf{x}\\right)=\\beta+\\omega_{1}x_{1}+\\omega_{2}x_{2}+...+\\omega_{d}x_{d}=\\beta+\\sum_{i=1}^{d}\\omega_{i}x_{i}=\\beta+\\mathbf{\\boldsymbol{\\omega}^{T}x},$\n",
    "\n",
    "где $\\beta$ – истинное (неизвестное) смещение (bias), $\\omega_{i}$ – истинный (неизвестный) коэффициент регрессии или вес для признака $x_{i}$, $\\boldsymbol{\\omega}=\\left(\\omega_{1},\\omega_{2},...,\\omega_{d}\\right)^{T}$ – истинный $d$-мерный вектор весов."
   ]
  },
  {
   "cell_type": "code",
   "execution_count": null,
   "metadata": {
    "id": "ZGCeZCQyev5U"
   },
   "outputs": [],
   "source": [
    "x = np.array([1., 2., 3., 4., 5.])\n",
    "y = np.array([1., 3., 2., 3., 5.])"
   ]
  },
  {
   "cell_type": "code",
   "execution_count": null,
   "metadata": {
    "id": "PB4SM5yie75R"
   },
   "outputs": [],
   "source": [
    "plt.scatter(x, y)\n",
    "plt.axis([0, 6, 0, 6]);"
   ]
  },
  {
   "cell_type": "markdown",
   "metadata": {
    "id": "l-JeEc2TfQms"
   },
   "source": [
    "Для вычисления коэффициентов $a,\\,b$ парной линейной регрессии $y=a\\,x+b$ нужно вычислить математические ожидания и ковариацию переменных (признаков) $x$ и $y$, дисперсию переменной (признака) $x$:\n",
    "\n",
    "$$a=\\frac{\\sigma_{\\mathbf{XY}}}{\\sigma_{\\mathbf{X}}^{2}},\\,b=\\mu_{\\mathbf{Y}}-\\frac{\\sigma_{\\mathbf{XY}}}{\\sigma_{\\mathbf{X}}^{2}}\\,\\mu_{\\mathbf{X}},$$\n",
    "\n",
    "где\n",
    "\n",
    "$$\\mu_{\\mathbf{X}}=\\frac{1}{n}\\sum_{i=1}^{n}x_{i},\\,\\mu_{\\mathbf{Y}}=\\frac{1}{n}\\sum_{i=1}^{n}y_{i},$$\n",
    "$$\\sigma_{\\mathbf{XY}}=\\frac{1}{n}\\sum_{i=1}^{n}\\left(x_{i}-\\mu_{\\mathbf{X}}\\right)\\left(y_{i}-\\mu_{\\mathbf{Y}}\\right),$$\n",
    "$$\\sigma_{\\mathbf{X}}^{2}=\\frac{1}{n}\\sum_{i=1}^{n}\\left(x_{i}-\\mu_{\\mathbf{X}}\\right)^{2}.$$"
   ]
  },
  {
   "cell_type": "markdown",
   "metadata": {
    "id": "BP0b2dvJDQgs"
   },
   "source": [
    "Вычислим математические ожидания переменных (признаков) $x$ и $y$:"
   ]
  },
  {
   "cell_type": "code",
   "execution_count": null,
   "metadata": {
    "id": "azhrOB_sfN6a"
   },
   "outputs": [],
   "source": [
    "x_mean = np.mean(x)\n",
    "y_mean = np.mean(y)"
   ]
  },
  {
   "cell_type": "markdown",
   "metadata": {
    "id": "7DEh8GoZFHcF"
   },
   "source": [
    "и далее коэффициенты регрессии и смещения:"
   ]
  },
  {
   "cell_type": "code",
   "execution_count": null,
   "metadata": {
    "id": "0w_i4Qt7Ek2U"
   },
   "outputs": [],
   "source": [
    "a = (x - x_mean).dot(y - y_mean) / (x - x_mean).dot(x - x_mean)\n",
    "b = y_mean - a * x_mean"
   ]
  },
  {
   "cell_type": "markdown",
   "metadata": {
    "id": "kWKJlPIjFXzt"
   },
   "source": [
    "Прогнозируемые значения зависимой переменной вычисляются при помощи полученных коэффициентов так:"
   ]
  },
  {
   "cell_type": "code",
   "execution_count": null,
   "metadata": {
    "id": "mgL4nKmCfxG3"
   },
   "outputs": [],
   "source": [
    "y_hat = a * x + b\n",
    "y_hat"
   ]
  },
  {
   "cell_type": "markdown",
   "metadata": {
    "id": "MA30Be6uF7Vb"
   },
   "source": [
    "Построим на рисунке точки набора данных и линию регрессии:"
   ]
  },
  {
   "cell_type": "code",
   "execution_count": null,
   "metadata": {
    "id": "qRfXlPb3gOVC"
   },
   "outputs": [],
   "source": [
    "plt.scatter(x, y)\n",
    "plt.plot(x, y_hat, color='r')\n",
    "plt.axis([0, 6, 0, 6]);"
   ]
  },
  {
   "cell_type": "markdown",
   "metadata": {
    "id": "uIqwdUJkgunC"
   },
   "source": [
    "Построенная таким образом линейная функция позволяет прогнозировать значение $y$ по любому значению $x$:"
   ]
  },
  {
   "cell_type": "code",
   "execution_count": null,
   "metadata": {
    "id": "TPG-mZNygg65"
   },
   "outputs": [],
   "source": [
    "x_predict = 6\n",
    "y_predict = a * x_predict + b\n",
    "y_predict"
   ]
  },
  {
   "cell_type": "markdown",
   "metadata": {
    "id": "33PNitOWGoL7"
   },
   "source": [
    "Объединим программный код в следующий класс `SimpleLinearReg`:"
   ]
  },
  {
   "cell_type": "code",
   "execution_count": 124,
   "metadata": {
    "id": "N4oGXNtwg1Eu"
   },
   "outputs": [],
   "source": [
    "class SimpleLinReg:\n",
    "\n",
    "    def __init__(self):\n",
    "        self.a_ = None\n",
    "        self.b_ = None\n",
    "\n",
    "    def fit(self, x_train, y_train):\n",
    "        assert x_train.ndim == 1, \\\n",
    "            \"В данных должен быть один признак\"\n",
    "        assert len(x_train) == len(y_train), \\\n",
    "            \"Данные должны иметь одинаковый размер\"\n",
    "\n",
    "        x_mean = np.mean(x_train)\n",
    "        y_mean = np.mean(y_train)\n",
    "\n",
    "        self.a_ = (x_train - x_mean).dot(y_train - y_mean) / \\\n",
    "                  (x_train - x_mean).dot(x_train - x_mean)\n",
    "        self.b_ = y_mean - self.a_ * x_mean\n",
    "\n",
    "        return self\n",
    "\n",
    "    def predict(self, x_predict):\n",
    "        assert x_predict.ndim == 1, \\\n",
    "            \"В данных должен быть один признак\"\n",
    "        assert self.a_ is not None and self.b_ is not None, \\\n",
    "            \"Модель вначале должна быть обучена\"\n",
    "\n",
    "        return np.array([self._predict(x) for x in x_predict])\n",
    "\n",
    "    def _predict(self, x_single):\n",
    "        return self.a_ * x_single + self.b_\n",
    "\n",
    "    def __repr__(self):\n",
    "        return \"SimpleLinearReg()\""
   ]
  },
  {
   "cell_type": "markdown",
   "metadata": {
    "id": "JZ1xr1xuhy0_"
   },
   "source": [
    "Теперь можно создавать объекты этого класса при помощи конструктора и применять к объектам методы класса:"
   ]
  },
  {
   "cell_type": "code",
   "execution_count": null,
   "metadata": {
    "id": "WEPcXamEh16M"
   },
   "outputs": [],
   "source": [
    "reg1 = SimpleLinReg()\n",
    "reg1"
   ]
  },
  {
   "cell_type": "code",
   "execution_count": null,
   "metadata": {
    "id": "EDk5UmzBiMRC"
   },
   "outputs": [],
   "source": [
    "reg1.fit(x, y)\n",
    "reg1.predict(np.array([x_predict]))"
   ]
  },
  {
   "cell_type": "code",
   "execution_count": null,
   "metadata": {
    "id": "djGB05lGioi3"
   },
   "outputs": [],
   "source": [
    "reg1.a_, reg1.b_"
   ]
  },
  {
   "cell_type": "code",
   "execution_count": null,
   "metadata": {
    "id": "IJlmupVMi0gE"
   },
   "outputs": [],
   "source": [
    "y_hat1 = reg1.predict(x)\n",
    "\n",
    "plt.scatter(x, y)\n",
    "plt.plot(x, y_hat1, color='r')\n",
    "plt.axis([0, 6, 0, 6]);"
   ]
  },
  {
   "cell_type": "markdown",
   "metadata": {
    "id": "t11K2j30XJ90"
   },
   "source": [
    "### Загрузка набора данных __boston_housing__\n",
    "\n",
    "Набор данных содержит 13 атрибутов домов в разных местах в окрестности города Бостон в конце 1970-х годов. Целевые значения представляют собой медианные значения стоимости домов в определенном месте (в тыс. долл. США). Набор загружается из модуля `keras.datasets`, причем для обучающие данные составляют 80%, а тестовые данные – 20% всех точек."
   ]
  },
  {
   "cell_type": "code",
   "execution_count": 116,
   "metadata": {
    "id": "HXXvLrcblTmb"
   },
   "outputs": [
    {
     "data": {
      "text/plain": [
       "((404, 13), (404,), (102, 13), (102,))"
      ]
     },
     "execution_count": 116,
     "metadata": {},
     "output_type": "execute_result"
    }
   ],
   "source": [
    "import tensorflow as tf\n",
    "import matplotlib.pyplot as plt\n",
    "import pandas as pd\n",
    "\n",
    "(x_train, y_train), (x_test, y_test) = \\\n",
    "    tf.keras.datasets.boston_housing.load_data(test_split=0.2)\n",
    "x_train.shape, y_train.shape, x_test.shape, y_test.shape"
   ]
  },
  {
   "cell_type": "markdown",
   "metadata": {
    "id": "7cjcVLe7IJCG"
   },
   "source": [
    "Данные из набора загружены в четыре массива:\n",
    "\n",
    "* `x_train` – массив значений признаков (предикторов) для обучения\n",
    "* `y_train` - массив значений отклика для `x_train`\n",
    "* `x_test` – массив значений признаков (предикторов) для тестирования\n",
    "* `y_test` - массив значений отклика для `x_test`\n",
    "\n",
    "Преобразуем массив `x_train` в датафрейм:\n"
   ]
  },
  {
   "cell_type": "code",
   "execution_count": 117,
   "metadata": {
    "id": "Z9UINVh_X0gX"
   },
   "outputs": [
    {
     "data": {
      "text/html": [
       "<div>\n",
       "<style scoped>\n",
       "    .dataframe tbody tr th:only-of-type {\n",
       "        vertical-align: middle;\n",
       "    }\n",
       "\n",
       "    .dataframe tbody tr th {\n",
       "        vertical-align: top;\n",
       "    }\n",
       "\n",
       "    .dataframe thead th {\n",
       "        text-align: right;\n",
       "    }\n",
       "</style>\n",
       "<table border=\"1\" class=\"dataframe\">\n",
       "  <thead>\n",
       "    <tr style=\"text-align: right;\">\n",
       "      <th></th>\n",
       "      <th>0</th>\n",
       "      <th>1</th>\n",
       "      <th>2</th>\n",
       "      <th>3</th>\n",
       "      <th>4</th>\n",
       "      <th>5</th>\n",
       "      <th>6</th>\n",
       "      <th>7</th>\n",
       "      <th>8</th>\n",
       "      <th>9</th>\n",
       "      <th>10</th>\n",
       "      <th>11</th>\n",
       "      <th>12</th>\n",
       "    </tr>\n",
       "  </thead>\n",
       "  <tbody>\n",
       "    <tr>\n",
       "      <th>0</th>\n",
       "      <td>1.23247</td>\n",
       "      <td>0.0</td>\n",
       "      <td>8.14</td>\n",
       "      <td>0.0</td>\n",
       "      <td>0.5380</td>\n",
       "      <td>6.142</td>\n",
       "      <td>91.7</td>\n",
       "      <td>3.9769</td>\n",
       "      <td>4.0</td>\n",
       "      <td>307.0</td>\n",
       "      <td>21.0</td>\n",
       "      <td>396.90</td>\n",
       "      <td>18.72</td>\n",
       "    </tr>\n",
       "    <tr>\n",
       "      <th>1</th>\n",
       "      <td>0.02177</td>\n",
       "      <td>82.5</td>\n",
       "      <td>2.03</td>\n",
       "      <td>0.0</td>\n",
       "      <td>0.4150</td>\n",
       "      <td>7.610</td>\n",
       "      <td>15.7</td>\n",
       "      <td>6.2700</td>\n",
       "      <td>2.0</td>\n",
       "      <td>348.0</td>\n",
       "      <td>14.7</td>\n",
       "      <td>395.38</td>\n",
       "      <td>3.11</td>\n",
       "    </tr>\n",
       "    <tr>\n",
       "      <th>2</th>\n",
       "      <td>4.89822</td>\n",
       "      <td>0.0</td>\n",
       "      <td>18.10</td>\n",
       "      <td>0.0</td>\n",
       "      <td>0.6310</td>\n",
       "      <td>4.970</td>\n",
       "      <td>100.0</td>\n",
       "      <td>1.3325</td>\n",
       "      <td>24.0</td>\n",
       "      <td>666.0</td>\n",
       "      <td>20.2</td>\n",
       "      <td>375.52</td>\n",
       "      <td>3.26</td>\n",
       "    </tr>\n",
       "    <tr>\n",
       "      <th>3</th>\n",
       "      <td>0.03961</td>\n",
       "      <td>0.0</td>\n",
       "      <td>5.19</td>\n",
       "      <td>0.0</td>\n",
       "      <td>0.5150</td>\n",
       "      <td>6.037</td>\n",
       "      <td>34.5</td>\n",
       "      <td>5.9853</td>\n",
       "      <td>5.0</td>\n",
       "      <td>224.0</td>\n",
       "      <td>20.2</td>\n",
       "      <td>396.90</td>\n",
       "      <td>8.01</td>\n",
       "    </tr>\n",
       "    <tr>\n",
       "      <th>4</th>\n",
       "      <td>3.69311</td>\n",
       "      <td>0.0</td>\n",
       "      <td>18.10</td>\n",
       "      <td>0.0</td>\n",
       "      <td>0.7130</td>\n",
       "      <td>6.376</td>\n",
       "      <td>88.4</td>\n",
       "      <td>2.5671</td>\n",
       "      <td>24.0</td>\n",
       "      <td>666.0</td>\n",
       "      <td>20.2</td>\n",
       "      <td>391.43</td>\n",
       "      <td>14.65</td>\n",
       "    </tr>\n",
       "    <tr>\n",
       "      <th>...</th>\n",
       "      <td>...</td>\n",
       "      <td>...</td>\n",
       "      <td>...</td>\n",
       "      <td>...</td>\n",
       "      <td>...</td>\n",
       "      <td>...</td>\n",
       "      <td>...</td>\n",
       "      <td>...</td>\n",
       "      <td>...</td>\n",
       "      <td>...</td>\n",
       "      <td>...</td>\n",
       "      <td>...</td>\n",
       "      <td>...</td>\n",
       "    </tr>\n",
       "    <tr>\n",
       "      <th>399</th>\n",
       "      <td>0.21977</td>\n",
       "      <td>0.0</td>\n",
       "      <td>6.91</td>\n",
       "      <td>0.0</td>\n",
       "      <td>0.4480</td>\n",
       "      <td>5.602</td>\n",
       "      <td>62.0</td>\n",
       "      <td>6.0877</td>\n",
       "      <td>3.0</td>\n",
       "      <td>233.0</td>\n",
       "      <td>17.9</td>\n",
       "      <td>396.90</td>\n",
       "      <td>16.20</td>\n",
       "    </tr>\n",
       "    <tr>\n",
       "      <th>400</th>\n",
       "      <td>0.16211</td>\n",
       "      <td>20.0</td>\n",
       "      <td>6.96</td>\n",
       "      <td>0.0</td>\n",
       "      <td>0.4640</td>\n",
       "      <td>6.240</td>\n",
       "      <td>16.3</td>\n",
       "      <td>4.4290</td>\n",
       "      <td>3.0</td>\n",
       "      <td>223.0</td>\n",
       "      <td>18.6</td>\n",
       "      <td>396.90</td>\n",
       "      <td>6.59</td>\n",
       "    </tr>\n",
       "    <tr>\n",
       "      <th>401</th>\n",
       "      <td>0.03466</td>\n",
       "      <td>35.0</td>\n",
       "      <td>6.06</td>\n",
       "      <td>0.0</td>\n",
       "      <td>0.4379</td>\n",
       "      <td>6.031</td>\n",
       "      <td>23.3</td>\n",
       "      <td>6.6407</td>\n",
       "      <td>1.0</td>\n",
       "      <td>304.0</td>\n",
       "      <td>16.9</td>\n",
       "      <td>362.25</td>\n",
       "      <td>7.83</td>\n",
       "    </tr>\n",
       "    <tr>\n",
       "      <th>402</th>\n",
       "      <td>2.14918</td>\n",
       "      <td>0.0</td>\n",
       "      <td>19.58</td>\n",
       "      <td>0.0</td>\n",
       "      <td>0.8710</td>\n",
       "      <td>5.709</td>\n",
       "      <td>98.5</td>\n",
       "      <td>1.6232</td>\n",
       "      <td>5.0</td>\n",
       "      <td>403.0</td>\n",
       "      <td>14.7</td>\n",
       "      <td>261.95</td>\n",
       "      <td>15.79</td>\n",
       "    </tr>\n",
       "    <tr>\n",
       "      <th>403</th>\n",
       "      <td>0.01439</td>\n",
       "      <td>60.0</td>\n",
       "      <td>2.93</td>\n",
       "      <td>0.0</td>\n",
       "      <td>0.4010</td>\n",
       "      <td>6.604</td>\n",
       "      <td>18.8</td>\n",
       "      <td>6.2196</td>\n",
       "      <td>1.0</td>\n",
       "      <td>265.0</td>\n",
       "      <td>15.6</td>\n",
       "      <td>376.70</td>\n",
       "      <td>4.38</td>\n",
       "    </tr>\n",
       "  </tbody>\n",
       "</table>\n",
       "<p>404 rows × 13 columns</p>\n",
       "</div>"
      ],
      "text/plain": [
       "          0     1      2    3       4      5      6       7     8      9   \\\n",
       "0    1.23247   0.0   8.14  0.0  0.5380  6.142   91.7  3.9769   4.0  307.0   \n",
       "1    0.02177  82.5   2.03  0.0  0.4150  7.610   15.7  6.2700   2.0  348.0   \n",
       "2    4.89822   0.0  18.10  0.0  0.6310  4.970  100.0  1.3325  24.0  666.0   \n",
       "3    0.03961   0.0   5.19  0.0  0.5150  6.037   34.5  5.9853   5.0  224.0   \n",
       "4    3.69311   0.0  18.10  0.0  0.7130  6.376   88.4  2.5671  24.0  666.0   \n",
       "..       ...   ...    ...  ...     ...    ...    ...     ...   ...    ...   \n",
       "399  0.21977   0.0   6.91  0.0  0.4480  5.602   62.0  6.0877   3.0  233.0   \n",
       "400  0.16211  20.0   6.96  0.0  0.4640  6.240   16.3  4.4290   3.0  223.0   \n",
       "401  0.03466  35.0   6.06  0.0  0.4379  6.031   23.3  6.6407   1.0  304.0   \n",
       "402  2.14918   0.0  19.58  0.0  0.8710  5.709   98.5  1.6232   5.0  403.0   \n",
       "403  0.01439  60.0   2.93  0.0  0.4010  6.604   18.8  6.2196   1.0  265.0   \n",
       "\n",
       "       10      11     12  \n",
       "0    21.0  396.90  18.72  \n",
       "1    14.7  395.38   3.11  \n",
       "2    20.2  375.52   3.26  \n",
       "3    20.2  396.90   8.01  \n",
       "4    20.2  391.43  14.65  \n",
       "..    ...     ...    ...  \n",
       "399  17.9  396.90  16.20  \n",
       "400  18.6  396.90   6.59  \n",
       "401  16.9  362.25   7.83  \n",
       "402  14.7  261.95  15.79  \n",
       "403  15.6  376.70   4.38  \n",
       "\n",
       "[404 rows x 13 columns]"
      ]
     },
     "execution_count": 117,
     "metadata": {},
     "output_type": "execute_result"
    }
   ],
   "source": [
    "df_train = pd.DataFrame(x_train)\n",
    "df_train"
   ]
  },
  {
   "cell_type": "markdown",
   "metadata": {
    "id": "IaUyRTRUJ2Ox"
   },
   "source": [
    "Рассмотрим задачу парной регрессии с признаком с индексом 5 в качестве независимой переменной (это признак `rm` – среднее количество комнат в жилом доме):"
   ]
  },
  {
   "cell_type": "code",
   "execution_count": 118,
   "metadata": {
    "id": "Pn7TdPj8Znqs"
   },
   "outputs": [
    {
     "data": {
      "text/plain": [
       "((404,), (404,))"
      ]
     },
     "execution_count": 118,
     "metadata": {},
     "output_type": "execute_result"
    }
   ],
   "source": [
    "x = x_train[:,5]  # можно 12\n",
    "y = y_train\n",
    "x.shape, y.shape"
   ]
  },
  {
   "cell_type": "markdown",
   "metadata": {
    "id": "wjG31y-nKNq0"
   },
   "source": [
    "Набор переменных для парной регрессии имеет следующий вид:"
   ]
  },
  {
   "cell_type": "code",
   "execution_count": 119,
   "metadata": {
    "id": "3CrHAJLRagB-"
   },
   "outputs": [
    {
     "data": {
      "image/png": "[encoded data removed]",
      "text/plain": [
       "<Figure size 640x480 with 1 Axes>"
      ]
     },
     "metadata": {},
     "output_type": "display_data"
    }
   ],
   "source": [
    "plt.scatter(x, y);"
   ]
  },
  {
   "cell_type": "markdown",
   "metadata": {
    "id": "JDWAhMtTa8uQ"
   },
   "source": [
    "Очистим набор от точек, расположенных вдоль верхней границы графика при помощи булева индексирования."
   ]
  },
  {
   "cell_type": "code",
   "execution_count": 120,
   "metadata": {
    "id": "VXMf1wj0a96U"
   },
   "outputs": [
    {
     "data": {
      "text/plain": [
       "50.0"
      ]
     },
     "execution_count": 120,
     "metadata": {},
     "output_type": "execute_result"
    }
   ],
   "source": [
    "np.max(y)"
   ]
  },
  {
   "cell_type": "code",
   "execution_count": 121,
   "metadata": {
    "id": "f-gVQf6GbCpP"
   },
   "outputs": [
    {
     "data": {
      "text/plain": [
       "((391,), (391,))"
      ]
     },
     "execution_count": 121,
     "metadata": {},
     "output_type": "execute_result"
    }
   ],
   "source": [
    "x = x[y < 50.0]\n",
    "y = y[y < 50.0]\n",
    "x.shape, y.shape"
   ]
  },
  {
   "cell_type": "code",
   "execution_count": 122,
   "metadata": {
    "id": "1uAz_3embjzA"
   },
   "outputs": [
    {
     "data": {
      "image/png": "[encoded data removed]",
      "text/plain": [
       "<Figure size 640x480 with 1 Axes>"
      ]
     },
     "metadata": {},
     "output_type": "display_data"
    }
   ],
   "source": [
    "plt.scatter(x, y);"
   ]
  },
  {
   "cell_type": "markdown",
   "metadata": {
    "id": "ociPbJ5TQyS7"
   },
   "source": [
    "Построим функцию парной регрессии для очищенного набора данных:"
   ]
  },
  {
   "cell_type": "code",
   "execution_count": 125,
   "metadata": {
    "id": "vqr5MxRlCpw2"
   },
   "outputs": [
    {
     "data": {
      "text/plain": [
       "SimpleLinearReg()"
      ]
     },
     "execution_count": 125,
     "metadata": {},
     "output_type": "execute_result"
    }
   ],
   "source": [
    "reg = SimpleLinReg()\n",
    "reg.fit(x, y)"
   ]
  },
  {
   "cell_type": "code",
   "execution_count": 126,
   "metadata": {
    "id": "su_HoO35C6EQ"
   },
   "outputs": [
    {
     "data": {
      "text/plain": [
       "(8.116650717359088, -29.092755232990147)"
      ]
     },
     "execution_count": 126,
     "metadata": {},
     "output_type": "execute_result"
    }
   ],
   "source": [
    "reg.a_, reg.b_"
   ]
  },
  {
   "cell_type": "markdown",
   "metadata": {
    "id": "tzXlKRkTDJUg"
   },
   "source": [
    "Изобразим на графике точки обучающего набора и линию регрессии:"
   ]
  },
  {
   "cell_type": "code",
   "execution_count": 127,
   "metadata": {
    "id": "o7f7J-8dDAdW"
   },
   "outputs": [
    {
     "data": {
      "image/png": "[encoded data removed]",
      "text/plain": [
       "<Figure size 640x480 with 1 Axes>"
      ]
     },
     "metadata": {},
     "output_type": "display_data"
    }
   ],
   "source": [
    "plt.scatter(x, y)\n",
    "plt.plot(x, reg.predict(x), color='r');"
   ]
  },
  {
   "cell_type": "markdown",
   "metadata": {
    "id": "-ym3SBSuDkpA"
   },
   "source": [
    "А теперь добавим также точки тестового набора другим цветом:"
   ]
  },
  {
   "cell_type": "code",
   "execution_count": 128,
   "metadata": {
    "id": "qZ2IijUKDlWF"
   },
   "outputs": [
    {
     "data": {
      "image/png": "[encoded data removed]",
      "text/plain": [
       "<Figure size 640x480 with 1 Axes>"
      ]
     },
     "metadata": {},
     "output_type": "display_data"
    }
   ],
   "source": [
    "plt.scatter(x, y)\n",
    "plt.scatter(x_test[:,5], y_test, color=\"c\")\n",
    "plt.plot(x, reg.predict(x), color='r');"
   ]
  },
  {
   "cell_type": "markdown",
   "metadata": {
    "id": "JyIOokMbEK4v"
   },
   "source": [
    "Построим прогнозные значения для точек тестового набора, чтобы оценить качество модели регрессии:"
   ]
  },
  {
   "cell_type": "code",
   "execution_count": 129,
   "metadata": {
    "id": "JNipk_FYEQ8z"
   },
   "outputs": [
    {
     "data": {
      "text/plain": [
       "array([23.12977548, 18.90100046, 19.48539931, 21.63631175, 20.58926381,\n",
       "       19.00651692, 26.7011018 , 20.96262974, 19.29059969, 23.15412543,\n",
       "       22.89439261, 20.19154792, 20.83276333, 34.46873653, 16.75008802,\n",
       "       20.48374735, 22.99179242, 20.77594677, 20.53244725, 20.63796371,\n",
       "       13.95796017, 18.284135  , 18.31660161, 16.40107204, 18.60068438,\n",
       "       21.57137854, 26.74168505, 25.51607079, 22.69147634, 18.61691768,\n",
       "       21.0356796 , 26.36831912, 26.31150256, 21.5957285 , 17.27767032,\n",
       "       11.49049835, 16.33613883, 18.60880103, 19.46916601, 24.76122228,\n",
       "       28.56793146, 24.68005577, 21.10872945, 33.29182218, 24.17682343,\n",
       "       20.84899663, 24.60700591, 17.83771921, 23.77099089, 21.0843795 ,\n",
       "       29.74484582, 17.90265242, 11.78269778, 18.08933539, 29.22538017,\n",
       "       24.72063902, 22.39116027, 38.25109577, 25.75957031, 23.02425902,\n",
       "       27.56146677, 23.43009156, 26.52253548, 19.76136543, 22.65900974,\n",
       "       20.48374735, 22.99179242, 21.30352907, 12.24534687, 19.50163261,\n",
       "       22.8132261 , 27.37478381, 21.46586209, 14.85079175, 23.62489118,\n",
       "       19.68019893, 18.67373424, 22.65089309, 27.46406697, 10.51650027,\n",
       "       19.45293271, 31.94445816, 16.30367223, 23.54372467, 17.21273711,\n",
       "       21.00321299, 21.46586209, 19.20943319, 24.42032295, 28.21891548,\n",
       "       19.85064859, 18.66561759, 26.88778476, 37.94266304, 26.19786945,\n",
       "       20.59738046, 30.42664448, 42.17143807, 21.82299472, 34.23335366,\n",
       "       27.3260839 , 20.42693079])"
      ]
     },
     "execution_count": 129,
     "metadata": {},
     "output_type": "execute_result"
    }
   ],
   "source": [
    "y_predict = reg.predict(x_test[:,5])\n",
    "y_predict"
   ]
  },
  {
   "cell_type": "markdown",
   "metadata": {
    "id": "BkBtxcYNFgY_"
   },
   "source": [
    "## Метрики регрессии\n",
    "\n",
    "__Средняя квадратичная ошибка__ (Mean Squared Error, MSE)\n",
    "применяется в ситуациях, когда нам надо подчеркнуть большие ошибки и выбрать модель, которая дает меньше больших ошибок прогноза.\n",
    "\n",
    "$MSE=\\frac{1}{n}\\sum_{i=1}^{n}\\left(y_{i}-\\hat{y}_{i}\\right)^{2}$\n",
    "\n",
    "Грубые ошибки становятся заметнее за счет того, что ошибку прогноза мы возводим в квадрат. И про модель, которая дает нам меньшее значение среднеквадратической ошибки, можно сказать, что что у этой модели меньше грубых ошибок."
   ]
  },
  {
   "cell_type": "code",
   "execution_count": 130,
   "metadata": {
    "id": "y24HM_16Ft09"
   },
   "outputs": [
    {
     "data": {
      "text/plain": [
       "38.460439716495806"
      ]
     },
     "execution_count": 130,
     "metadata": {},
     "output_type": "execute_result"
    }
   ],
   "source": [
    "mse_test = np.sum((y_predict - y_test)**2) / len(y_test)\n",
    "mse_test"
   ]
  },
  {
   "cell_type": "markdown",
   "metadata": {
    "id": "Xv4eeXDZF6f4"
   },
   "source": [
    "__Корень из средней квадратичной ошибки__ (Root Mean Squared Error, RMSE)\n",
    "получается из MSE путем извлечения корня.\n",
    "\n",
    "$RMSE=\\sqrt{\\frac{1}{n}\\sum_{i=1}^{n}\\left(y_{i}-\\hat{y}_{i}\\right)^{2}}$\n",
    "\n",
    "Каждое отклонение возводится в квадрат, любое небольшое отклонение может значительно повлиять на показатель ошибки."
   ]
  },
  {
   "cell_type": "code",
   "execution_count": 131,
   "metadata": {
    "id": "Jw6rmYyvF2qs"
   },
   "outputs": [
    {
     "data": {
      "text/plain": [
       "6.201648145170427"
      ]
     },
     "execution_count": 131,
     "metadata": {},
     "output_type": "execute_result"
    }
   ],
   "source": [
    "rmse_test = np.sqrt(mse_test)\n",
    "rmse_test"
   ]
  },
  {
   "cell_type": "markdown",
   "metadata": {
    "id": "MQ7pQ6x2GT-m"
   },
   "source": [
    "__Cредняя абсолютная ошибка__ (Mean Absolute Error, MAE) не так сильно штрафует за большие отклонения по сравнению со среднеквадратичным, и поэтому менее чувствительна к выбросам.\n",
    "\n",
    "$MAE=\\frac{1}{n}\\sum_{i=1}^{n}\\left|y_{i}-\\hat{y}_{i}\\right|$"
   ]
  },
  {
   "cell_type": "code",
   "execution_count": 132,
   "metadata": {
    "id": "X0p2OwaaGhyq"
   },
   "outputs": [
    {
     "data": {
      "text/plain": [
       "4.507671097308941"
      ]
     },
     "execution_count": 132,
     "metadata": {},
     "output_type": "execute_result"
    }
   ],
   "source": [
    "mae_test = np.sum(np.absolute(y_predict - y_test))/len(y_test)\n",
    "mae_test"
   ]
  },
  {
   "cell_type": "markdown",
   "metadata": {
    "id": "u3KMsEt0G1IY"
   },
   "source": [
    "__Коэффициент детерминации__ $R^2$ измеряет долю дисперсии, объясненную моделью, в общей дисперсии целевой переменной.\n",
    "\n",
    "$R^{2}=1-\\frac{Q}{S_{0}}, Q=\\sum_{i=1}^{n}\\left(y_{i}-\\hat{y}_{i}\\right)^{2}, S_{0}=\\sum_{i=1}^{n}\\left(y-\\bar{y}\\right)^{2}$,\n",
    "\n",
    "где $\\bar{y}$ – это выборочное среднее зависимой переменной $y$. Фактически, данная мера качества — это нормированная среднеквадратичная ошибка. Если она близка к единице, то модель хорошо объясняет данные, если же она близка к нулю, то прогнозы сопоставимы по качеству с константным предсказанием."
   ]
  },
  {
   "cell_type": "code",
   "execution_count": 133,
   "metadata": {
    "id": "LYJy8reeGpJ8"
   },
   "outputs": [
    {
     "data": {
      "text/plain": [
       "0.5379785966124844"
      ]
     },
     "execution_count": 133,
     "metadata": {},
     "output_type": "execute_result"
    }
   ],
   "source": [
    "1 - mse_test/np.var(y_test)"
   ]
  },
  {
   "cell_type": "markdown",
   "metadata": {
    "id": "QFrXB-JT51cp"
   },
   "source": [
    "## Библиотека Tensorflow\n",
    "\n",
    "__TensorFlow__ - это комплексная платформа с открытым исходным кодом для машинного обучения с акцентом на обучение искусственных нейронных сетей."
   ]
  },
  {
   "cell_type": "code",
   "execution_count": 134,
   "metadata": {
    "id": "1L1uvn9AOCI4"
   },
   "outputs": [
    {
     "name": "stdout",
     "output_type": "stream",
     "text": [
      "2.16.1\n"
     ]
    }
   ],
   "source": [
    "import tensorflow as tf\n",
    "print(tf.__version__)"
   ]
  },
  {
   "cell_type": "markdown",
   "metadata": {
    "id": "EsAs7ysUkP15"
   },
   "source": [
    "Рассмотрим задачу регрессии для набора boston_housing с использованием средств __Tensorflow__.\n",
    "\n",
    "Для этого создадим с использованием средств модуля __Keras__ модель простейшей нейронной сети из одного слоя с одним нейроном:"
   ]
  },
  {
   "cell_type": "code",
   "execution_count": 135,
   "metadata": {
    "id": "CajZsv0LilnA"
   },
   "outputs": [
    {
     "name": "stderr",
     "output_type": "stream",
     "text": [
      "C:\\Python312\\Lib\\site-packages\\keras\\src\\layers\\core\\dense.py:86: UserWarning: Do not pass an `input_shape`/`input_dim` argument to a layer. When using Sequential models, prefer using an `Input(shape)` object as the first layer in the model instead.\n",
      "  super().__init__(activity_regularizer=activity_regularizer, **kwargs)\n"
     ]
    }
   ],
   "source": [
    "model = tf.keras.Sequential( [ tf.keras.layers.Dense(1, input_shape=(1,)) ] )"
   ]
  },
  {
   "cell_type": "code",
   "execution_count": 136,
   "metadata": {
    "id": "fVw_4xKUU3lg"
   },
   "outputs": [
    {
     "data": {
      "text/html": [
       "<pre style=\"white-space:pre;overflow-x:auto;line-height:normal;font-family:Menlo,'DejaVu Sans Mono',consolas,'Courier New',monospace\"><span style=\"font-weight: bold\">Model: \"sequential_1\"</span>\n",
       "</pre>\n"
      ],
      "text/plain": [
       "\u001b[1mModel: \"sequential_1\"\u001b[0m\n"
      ]
     },
     "metadata": {},
     "output_type": "display_data"
    },
    {
     "data": {
      "text/html": [
       "<pre style=\"white-space:pre;overflow-x:auto;line-height:normal;font-family:Menlo,'DejaVu Sans Mono',consolas,'Courier New',monospace\">┏━━━━━━━━━━━━━━━━━━━━━━━━━━━━━━━━━━━━━━┳━━━━━━━━━━━━━━━━━━━━━━━━━━━━━┳━━━━━━━━━━━━━━━━━┓\n",
       "┃<span style=\"font-weight: bold\"> Layer (type)                         </span>┃<span style=\"font-weight: bold\"> Output Shape                </span>┃<span style=\"font-weight: bold\">         Param # </span>┃\n",
       "┡━━━━━━━━━━━━━━━━━━━━━━━━━━━━━━━━━━━━━━╇━━━━━━━━━━━━━━━━━━━━━━━━━━━━━╇━━━━━━━━━━━━━━━━━┩\n",
       "│ dense_1 (<span style=\"color: #0087ff; text-decoration-color: #0087ff\">Dense</span>)                      │ (<span style=\"color: #00d7ff; text-decoration-color: #00d7ff\">None</span>, <span style=\"color: #00af00; text-decoration-color: #00af00\">1</span>)                   │               <span style=\"color: #00af00; text-decoration-color: #00af00\">2</span> │\n",
       "└──────────────────────────────────────┴─────────────────────────────┴─────────────────┘\n",
       "</pre>\n"
      ],
      "text/plain": [
       "┏━━━━━━━━━━━━━━━━━━━━━━━━━━━━━━━━━━━━━━┳━━━━━━━━━━━━━━━━━━━━━━━━━━━━━┳━━━━━━━━━━━━━━━━━┓\n",
       "┃\u001b[1m \u001b[0m\u001b[1mLayer (type)                        \u001b[0m\u001b[1m \u001b[0m┃\u001b[1m \u001b[0m\u001b[1mOutput Shape               \u001b[0m\u001b[1m \u001b[0m┃\u001b[1m \u001b[0m\u001b[1m        Param #\u001b[0m\u001b[1m \u001b[0m┃\n",
       "┡━━━━━━━━━━━━━━━━━━━━━━━━━━━━━━━━━━━━━━╇━━━━━━━━━━━━━━━━━━━━━━━━━━━━━╇━━━━━━━━━━━━━━━━━┩\n",
       "│ dense_1 (\u001b[38;5;33mDense\u001b[0m)                      │ (\u001b[38;5;45mNone\u001b[0m, \u001b[38;5;34m1\u001b[0m)                   │               \u001b[38;5;34m2\u001b[0m │\n",
       "└──────────────────────────────────────┴─────────────────────────────┴─────────────────┘\n"
      ]
     },
     "metadata": {},
     "output_type": "display_data"
    },
    {
     "data": {
      "text/html": [
       "<pre style=\"white-space:pre;overflow-x:auto;line-height:normal;font-family:Menlo,'DejaVu Sans Mono',consolas,'Courier New',monospace\"><span style=\"font-weight: bold\"> Total params: </span><span style=\"color: #00af00; text-decoration-color: #00af00\">2</span> (8.00 B)\n",
       "</pre>\n"
      ],
      "text/plain": [
       "\u001b[1m Total params: \u001b[0m\u001b[38;5;34m2\u001b[0m (8.00 B)\n"
      ]
     },
     "metadata": {},
     "output_type": "display_data"
    },
    {
     "data": {
      "text/html": [
       "<pre style=\"white-space:pre;overflow-x:auto;line-height:normal;font-family:Menlo,'DejaVu Sans Mono',consolas,'Courier New',monospace\"><span style=\"font-weight: bold\"> Trainable params: </span><span style=\"color: #00af00; text-decoration-color: #00af00\">2</span> (8.00 B)\n",
       "</pre>\n"
      ],
      "text/plain": [
       "\u001b[1m Trainable params: \u001b[0m\u001b[38;5;34m2\u001b[0m (8.00 B)\n"
      ]
     },
     "metadata": {},
     "output_type": "display_data"
    },
    {
     "data": {
      "text/html": [
       "<pre style=\"white-space:pre;overflow-x:auto;line-height:normal;font-family:Menlo,'DejaVu Sans Mono',consolas,'Courier New',monospace\"><span style=\"font-weight: bold\"> Non-trainable params: </span><span style=\"color: #00af00; text-decoration-color: #00af00\">0</span> (0.00 B)\n",
       "</pre>\n"
      ],
      "text/plain": [
       "\u001b[1m Non-trainable params: \u001b[0m\u001b[38;5;34m0\u001b[0m (0.00 B)\n"
      ]
     },
     "metadata": {},
     "output_type": "display_data"
    }
   ],
   "source": [
    "model.summary()"
   ]
  },
  {
   "cell_type": "markdown",
   "metadata": {
    "id": "mjMuncrIlsek"
   },
   "source": [
    "После того, как модель построена, настроим процесс ее обучения вызовом метода `compile()`:\n"
   ]
  },
  {
   "cell_type": "code",
   "execution_count": 137,
   "metadata": {
    "id": "aN8AdWoMl6sd"
   },
   "outputs": [],
   "source": [
    "model.compile(\n",
    "    loss=tf.keras.losses.mean_absolute_error,\n",
    "    optimizer=tf.keras.optimizers.Adam(learning_rate=0.25),\n",
    "    metrics=['mean_absolute_error']\n",
    ")"
   ]
  },
  {
   "cell_type": "markdown",
   "metadata": {
    "id": "N6-B4elepBNK"
   },
   "source": [
    "Здесь в качестве функции потерь (ошибки) и для оценки качества модели используется средняя абсолютная ошибка MAE.  \n",
    "\n",
    "Модель может быть обучена на тренировочных данных, используя метод `fit()`:"
   ]
  },
  {
   "cell_type": "code",
   "execution_count": 138,
   "metadata": {
    "id": "b0YPx7rhj7dh",
    "scrolled": true
   },
   "outputs": [
    {
     "name": "stdout",
     "output_type": "stream",
     "text": [
      "Epoch 1/100\n",
      "\u001b[1m13/13\u001b[0m \u001b[32m━━━━━━━━━━━━━━━━━━━━\u001b[0m\u001b[37m\u001b[0m \u001b[1m2s\u001b[0m 4ms/step - loss: 20.3232 - mean_absolute_error: 20.3232\n",
      "Epoch 2/100\n",
      "\u001b[1m13/13\u001b[0m \u001b[32m━━━━━━━━━━━━━━━━━━━━\u001b[0m\u001b[37m\u001b[0m \u001b[1m0s\u001b[0m 3ms/step - loss: 5.5311 - mean_absolute_error: 5.5311 \n",
      "Epoch 3/100\n",
      "\u001b[1m13/13\u001b[0m \u001b[32m━━━━━━━━━━━━━━━━━━━━\u001b[0m\u001b[37m\u001b[0m \u001b[1m0s\u001b[0m 3ms/step - loss: 5.8518 - mean_absolute_error: 5.8518 \n",
      "Epoch 4/100\n",
      "\u001b[1m13/13\u001b[0m \u001b[32m━━━━━━━━━━━━━━━━━━━━\u001b[0m\u001b[37m\u001b[0m \u001b[1m0s\u001b[0m 1ms/step - loss: 5.0477 - mean_absolute_error: 5.0477 \n",
      "Epoch 5/100\n",
      "\u001b[1m13/13\u001b[0m \u001b[32m━━━━━━━━━━━━━━━━━━━━\u001b[0m\u001b[37m\u001b[0m \u001b[1m0s\u001b[0m 1ms/step - loss: 5.0482 - mean_absolute_error: 5.0482 \n",
      "Epoch 6/100\n",
      "\u001b[1m13/13\u001b[0m \u001b[32m━━━━━━━━━━━━━━━━━━━━\u001b[0m\u001b[37m\u001b[0m \u001b[1m0s\u001b[0m 1ms/step - loss: 5.0484 - mean_absolute_error: 5.0484 \n",
      "Epoch 7/100\n",
      "\u001b[1m13/13\u001b[0m \u001b[32m━━━━━━━━━━━━━━━━━━━━\u001b[0m\u001b[37m\u001b[0m \u001b[1m0s\u001b[0m 1ms/step - loss: 4.9830 - mean_absolute_error: 4.9830 \n",
      "Epoch 8/100\n",
      "\u001b[1m13/13\u001b[0m \u001b[32m━━━━━━━━━━━━━━━━━━━━\u001b[0m\u001b[37m\u001b[0m \u001b[1m0s\u001b[0m 2ms/step - loss: 4.8526 - mean_absolute_error: 4.8526 \n",
      "Epoch 9/100\n",
      "\u001b[1m13/13\u001b[0m \u001b[32m━━━━━━━━━━━━━━━━━━━━\u001b[0m\u001b[37m\u001b[0m \u001b[1m0s\u001b[0m 3ms/step - loss: 4.7739 - mean_absolute_error: 4.7739 \n",
      "Epoch 10/100\n",
      "\u001b[1m13/13\u001b[0m \u001b[32m━━━━━━━━━━━━━━━━━━━━\u001b[0m\u001b[37m\u001b[0m \u001b[1m0s\u001b[0m 2ms/step - loss: 4.8958 - mean_absolute_error: 4.8958 \n",
      "Epoch 11/100\n",
      "\u001b[1m13/13\u001b[0m \u001b[32m━━━━━━━━━━━━━━━━━━━━\u001b[0m\u001b[37m\u001b[0m \u001b[1m0s\u001b[0m 1ms/step - loss: 4.4472 - mean_absolute_error: 4.4472 \n",
      "Epoch 12/100\n",
      "\u001b[1m13/13\u001b[0m \u001b[32m━━━━━━━━━━━━━━━━━━━━\u001b[0m\u001b[37m\u001b[0m \u001b[1m0s\u001b[0m 2ms/step - loss: 4.7408 - mean_absolute_error: 4.7408 \n",
      "Epoch 13/100\n",
      "\u001b[1m13/13\u001b[0m \u001b[32m━━━━━━━━━━━━━━━━━━━━\u001b[0m\u001b[37m\u001b[0m \u001b[1m0s\u001b[0m 920us/step - loss: 4.6932 - mean_absolute_error: 4.6932\n",
      "Epoch 14/100\n",
      "\u001b[1m13/13\u001b[0m \u001b[32m━━━━━━━━━━━━━━━━━━━━\u001b[0m\u001b[37m\u001b[0m \u001b[1m0s\u001b[0m 2ms/step - loss: 4.6853 - mean_absolute_error: 4.6853 \n",
      "Epoch 15/100\n",
      "\u001b[1m13/13\u001b[0m \u001b[32m━━━━━━━━━━━━━━━━━━━━\u001b[0m\u001b[37m\u001b[0m \u001b[1m0s\u001b[0m 1ms/step - loss: 4.8826 - mean_absolute_error: 4.8826 \n",
      "Epoch 16/100\n",
      "\u001b[1m13/13\u001b[0m \u001b[32m━━━━━━━━━━━━━━━━━━━━\u001b[0m\u001b[37m\u001b[0m \u001b[1m0s\u001b[0m 3ms/step - loss: 4.9396 - mean_absolute_error: 4.9396 \n",
      "Epoch 17/100\n",
      "\u001b[1m13/13\u001b[0m \u001b[32m━━━━━━━━━━━━━━━━━━━━\u001b[0m\u001b[37m\u001b[0m \u001b[1m0s\u001b[0m 1ms/step - loss: 4.7205 - mean_absolute_error: 4.7205 \n",
      "Epoch 18/100\n",
      "\u001b[1m13/13\u001b[0m \u001b[32m━━━━━━━━━━━━━━━━━━━━\u001b[0m\u001b[37m\u001b[0m \u001b[1m0s\u001b[0m 846us/step - loss: 4.9448 - mean_absolute_error: 4.9448\n",
      "Epoch 19/100\n",
      "\u001b[1m13/13\u001b[0m \u001b[32m━━━━━━━━━━━━━━━━━━━━\u001b[0m\u001b[37m\u001b[0m \u001b[1m0s\u001b[0m 1ms/step - loss: 4.9038 - mean_absolute_error: 4.9038 \n",
      "Epoch 20/100\n",
      "\u001b[1m13/13\u001b[0m \u001b[32m━━━━━━━━━━━━━━━━━━━━\u001b[0m\u001b[37m\u001b[0m \u001b[1m0s\u001b[0m 1ms/step - loss: 4.8407 - mean_absolute_error: 4.8407 \n",
      "Epoch 21/100\n",
      "\u001b[1m13/13\u001b[0m \u001b[32m━━━━━━━━━━━━━━━━━━━━\u001b[0m\u001b[37m\u001b[0m \u001b[1m0s\u001b[0m 3ms/step - loss: 4.8379 - mean_absolute_error: 4.8379 \n",
      "Epoch 22/100\n",
      "\u001b[1m13/13\u001b[0m \u001b[32m━━━━━━━━━━━━━━━━━━━━\u001b[0m\u001b[37m\u001b[0m \u001b[1m0s\u001b[0m 3ms/step - loss: 4.9318 - mean_absolute_error: 4.9318 \n",
      "Epoch 23/100\n",
      "\u001b[1m13/13\u001b[0m \u001b[32m━━━━━━━━━━━━━━━━━━━━\u001b[0m\u001b[37m\u001b[0m \u001b[1m0s\u001b[0m 701us/step - loss: 4.8253 - mean_absolute_error: 4.8253\n",
      "Epoch 24/100\n",
      "\u001b[1m13/13\u001b[0m \u001b[32m━━━━━━━━━━━━━━━━━━━━\u001b[0m\u001b[37m\u001b[0m \u001b[1m0s\u001b[0m 1ms/step - loss: 4.9400 - mean_absolute_error: 4.9400 \n",
      "Epoch 25/100\n",
      "\u001b[1m13/13\u001b[0m \u001b[32m━━━━━━━━━━━━━━━━━━━━\u001b[0m\u001b[37m\u001b[0m \u001b[1m0s\u001b[0m 2ms/step - loss: 4.8256 - mean_absolute_error: 4.8256 \n",
      "Epoch 26/100\n",
      "\u001b[1m13/13\u001b[0m \u001b[32m━━━━━━━━━━━━━━━━━━━━\u001b[0m\u001b[37m\u001b[0m \u001b[1m0s\u001b[0m 2ms/step - loss: 4.7539 - mean_absolute_error: 4.7539 \n",
      "Epoch 27/100\n",
      "\u001b[1m13/13\u001b[0m \u001b[32m━━━━━━━━━━━━━━━━━━━━\u001b[0m\u001b[37m\u001b[0m \u001b[1m0s\u001b[0m 3ms/step - loss: 4.9038 - mean_absolute_error: 4.9038 \n",
      "Epoch 28/100\n",
      "\u001b[1m13/13\u001b[0m \u001b[32m━━━━━━━━━━━━━━━━━━━━\u001b[0m\u001b[37m\u001b[0m \u001b[1m0s\u001b[0m 1ms/step - loss: 4.6707 - mean_absolute_error: 4.6707  \n",
      "Epoch 29/100\n",
      "\u001b[1m13/13\u001b[0m \u001b[32m━━━━━━━━━━━━━━━━━━━━\u001b[0m\u001b[37m\u001b[0m \u001b[1m0s\u001b[0m 1ms/step - loss: 4.6099 - mean_absolute_error: 4.6099 \n",
      "Epoch 30/100\n",
      "\u001b[1m13/13\u001b[0m \u001b[32m━━━━━━━━━━━━━━━━━━━━\u001b[0m\u001b[37m\u001b[0m \u001b[1m0s\u001b[0m 891us/step - loss: 4.6330 - mean_absolute_error: 4.6330\n",
      "Epoch 31/100\n",
      "\u001b[1m13/13\u001b[0m \u001b[32m━━━━━━━━━━━━━━━━━━━━\u001b[0m\u001b[37m\u001b[0m \u001b[1m0s\u001b[0m 1ms/step - loss: 4.5371 - mean_absolute_error: 4.5371 \n",
      "Epoch 32/100\n",
      "\u001b[1m13/13\u001b[0m \u001b[32m━━━━━━━━━━━━━━━━━━━━\u001b[0m\u001b[37m\u001b[0m \u001b[1m0s\u001b[0m 3ms/step - loss: 4.6188 - mean_absolute_error: 4.6188 \n",
      "Epoch 33/100\n",
      "\u001b[1m13/13\u001b[0m \u001b[32m━━━━━━━━━━━━━━━━━━━━\u001b[0m\u001b[37m\u001b[0m \u001b[1m0s\u001b[0m 1ms/step - loss: 4.6646 - mean_absolute_error: 4.6646 \n",
      "Epoch 34/100\n",
      "\u001b[1m13/13\u001b[0m \u001b[32m━━━━━━━━━━━━━━━━━━━━\u001b[0m\u001b[37m\u001b[0m \u001b[1m0s\u001b[0m 2ms/step - loss: 4.5724 - mean_absolute_error: 4.5724 \n",
      "Epoch 35/100\n",
      "\u001b[1m13/13\u001b[0m \u001b[32m━━━━━━━━━━━━━━━━━━━━\u001b[0m\u001b[37m\u001b[0m \u001b[1m0s\u001b[0m 2ms/step - loss: 4.7620 - mean_absolute_error: 4.7620 \n",
      "Epoch 36/100\n",
      "\u001b[1m13/13\u001b[0m \u001b[32m━━━━━━━━━━━━━━━━━━━━\u001b[0m\u001b[37m\u001b[0m \u001b[1m0s\u001b[0m 1ms/step - loss: 4.5459 - mean_absolute_error: 4.5459 \n",
      "Epoch 37/100\n",
      "\u001b[1m13/13\u001b[0m \u001b[32m━━━━━━━━━━━━━━━━━━━━\u001b[0m\u001b[37m\u001b[0m \u001b[1m0s\u001b[0m 3ms/step - loss: 4.4145 - mean_absolute_error: 4.4145 \n",
      "Epoch 38/100\n",
      "\u001b[1m13/13\u001b[0m \u001b[32m━━━━━━━━━━━━━━━━━━━━\u001b[0m\u001b[37m\u001b[0m \u001b[1m0s\u001b[0m 1ms/step - loss: 4.3716 - mean_absolute_error: 4.3716 \n",
      "Epoch 39/100\n",
      "\u001b[1m13/13\u001b[0m \u001b[32m━━━━━━━━━━━━━━━━━━━━\u001b[0m\u001b[37m\u001b[0m \u001b[1m0s\u001b[0m 1ms/step - loss: 4.2610 - mean_absolute_error: 4.2610 \n",
      "Epoch 40/100\n",
      "\u001b[1m13/13\u001b[0m \u001b[32m━━━━━━━━━━━━━━━━━━━━\u001b[0m\u001b[37m\u001b[0m \u001b[1m0s\u001b[0m 2ms/step - loss: 4.5896 - mean_absolute_error: 4.5896 \n",
      "Epoch 41/100\n",
      "\u001b[1m13/13\u001b[0m \u001b[32m━━━━━━━━━━━━━━━━━━━━\u001b[0m\u001b[37m\u001b[0m \u001b[1m0s\u001b[0m 1ms/step - loss: 4.3734 - mean_absolute_error: 4.3734 \n",
      "Epoch 42/100\n",
      "\u001b[1m13/13\u001b[0m \u001b[32m━━━━━━━━━━━━━━━━━━━━\u001b[0m\u001b[37m\u001b[0m \u001b[1m0s\u001b[0m 1ms/step - loss: 4.8514 - mean_absolute_error: 4.8514 \n",
      "Epoch 43/100\n",
      "\u001b[1m13/13\u001b[0m \u001b[32m━━━━━━━━━━━━━━━━━━━━\u001b[0m\u001b[37m\u001b[0m \u001b[1m0s\u001b[0m 3ms/step - loss: 4.1091 - mean_absolute_error: 4.1091 \n",
      "Epoch 44/100\n",
      "\u001b[1m13/13\u001b[0m \u001b[32m━━━━━━━━━━━━━━━━━━━━\u001b[0m\u001b[37m\u001b[0m \u001b[1m0s\u001b[0m 1ms/step - loss: 4.6155 - mean_absolute_error: 4.6155 \n",
      "Epoch 45/100\n",
      "\u001b[1m13/13\u001b[0m \u001b[32m━━━━━━━━━━━━━━━━━━━━\u001b[0m\u001b[37m\u001b[0m \u001b[1m0s\u001b[0m 1ms/step - loss: 4.4749 - mean_absolute_error: 4.4749 \n",
      "Epoch 46/100\n",
      "\u001b[1m13/13\u001b[0m \u001b[32m━━━━━━━━━━━━━━━━━━━━\u001b[0m\u001b[37m\u001b[0m \u001b[1m0s\u001b[0m 2ms/step - loss: 4.3255 - mean_absolute_error: 4.3255 \n",
      "Epoch 47/100\n",
      "\u001b[1m13/13\u001b[0m \u001b[32m━━━━━━━━━━━━━━━━━━━━\u001b[0m\u001b[37m\u001b[0m \u001b[1m0s\u001b[0m 1ms/step - loss: 4.8000 - mean_absolute_error: 4.8000 \n",
      "Epoch 48/100\n",
      "\u001b[1m13/13\u001b[0m \u001b[32m━━━━━━━━━━━━━━━━━━━━\u001b[0m\u001b[37m\u001b[0m \u001b[1m0s\u001b[0m 3ms/step - loss: 4.6236 - mean_absolute_error: 4.6236 \n",
      "Epoch 49/100\n",
      "\u001b[1m13/13\u001b[0m \u001b[32m━━━━━━━━━━━━━━━━━━━━\u001b[0m\u001b[37m\u001b[0m \u001b[1m0s\u001b[0m 1ms/step - loss: 4.9043 - mean_absolute_error: 4.9043 \n",
      "Epoch 50/100\n",
      "\u001b[1m13/13\u001b[0m \u001b[32m━━━━━━━━━━━━━━━━━━━━\u001b[0m\u001b[37m\u001b[0m \u001b[1m0s\u001b[0m 918us/step - loss: 4.3150 - mean_absolute_error: 4.3150\n",
      "Epoch 51/100\n",
      "\u001b[1m13/13\u001b[0m \u001b[32m━━━━━━━━━━━━━━━━━━━━\u001b[0m\u001b[37m\u001b[0m \u001b[1m0s\u001b[0m 2ms/step - loss: 4.3406 - mean_absolute_error: 4.3406 \n",
      "Epoch 52/100\n",
      "\u001b[1m13/13\u001b[0m \u001b[32m━━━━━━━━━━━━━━━━━━━━\u001b[0m\u001b[37m\u001b[0m \u001b[1m0s\u001b[0m 5ms/step - loss: 4.2593 - mean_absolute_error: 4.2593 \n",
      "Epoch 53/100\n",
      "\u001b[1m13/13\u001b[0m \u001b[32m━━━━━━━━━━━━━━━━━━━━\u001b[0m\u001b[37m\u001b[0m \u001b[1m0s\u001b[0m 3ms/step - loss: 4.4958 - mean_absolute_error: 4.4958 \n",
      "Epoch 54/100\n",
      "\u001b[1m13/13\u001b[0m \u001b[32m━━━━━━━━━━━━━━━━━━━━\u001b[0m\u001b[37m\u001b[0m \u001b[1m0s\u001b[0m 3ms/step - loss: 4.3187 - mean_absolute_error: 4.3187 \n",
      "Epoch 55/100\n",
      "\u001b[1m13/13\u001b[0m \u001b[32m━━━━━━━━━━━━━━━━━━━━\u001b[0m\u001b[37m\u001b[0m \u001b[1m0s\u001b[0m 2ms/step - loss: 4.6049 - mean_absolute_error: 4.6049 \n",
      "Epoch 56/100\n",
      "\u001b[1m13/13\u001b[0m \u001b[32m━━━━━━━━━━━━━━━━━━━━\u001b[0m\u001b[37m\u001b[0m \u001b[1m0s\u001b[0m 1ms/step - loss: 4.4795 - mean_absolute_error: 4.4795 \n",
      "Epoch 57/100\n",
      "\u001b[1m13/13\u001b[0m \u001b[32m━━━━━━━━━━━━━━━━━━━━\u001b[0m\u001b[37m\u001b[0m \u001b[1m0s\u001b[0m 1ms/step - loss: 4.5199 - mean_absolute_error: 4.5199 \n",
      "Epoch 58/100\n",
      "\u001b[1m13/13\u001b[0m \u001b[32m━━━━━━━━━━━━━━━━━━━━\u001b[0m\u001b[37m\u001b[0m \u001b[1m0s\u001b[0m 920us/step - loss: 4.8186 - mean_absolute_error: 4.8186\n",
      "Epoch 59/100\n",
      "\u001b[1m13/13\u001b[0m \u001b[32m━━━━━━━━━━━━━━━━━━━━\u001b[0m\u001b[37m\u001b[0m \u001b[1m0s\u001b[0m 594us/step - loss: 4.6525 - mean_absolute_error: 4.6525\n",
      "Epoch 60/100\n",
      "\u001b[1m13/13\u001b[0m \u001b[32m━━━━━━━━━━━━━━━━━━━━\u001b[0m\u001b[37m\u001b[0m \u001b[1m0s\u001b[0m 1ms/step - loss: 4.6666 - mean_absolute_error: 4.6666 \n",
      "Epoch 61/100\n",
      "\u001b[1m13/13\u001b[0m \u001b[32m━━━━━━━━━━━━━━━━━━━━\u001b[0m\u001b[37m\u001b[0m \u001b[1m0s\u001b[0m 1ms/step - loss: 4.3071 - mean_absolute_error: 4.3071 \n",
      "Epoch 62/100\n",
      "\u001b[1m13/13\u001b[0m \u001b[32m━━━━━━━━━━━━━━━━━━━━\u001b[0m\u001b[37m\u001b[0m \u001b[1m0s\u001b[0m 1ms/step - loss: 4.4907 - mean_absolute_error: 4.4907 \n",
      "Epoch 63/100\n",
      "\u001b[1m13/13\u001b[0m \u001b[32m━━━━━━━━━━━━━━━━━━━━\u001b[0m\u001b[37m\u001b[0m \u001b[1m0s\u001b[0m 1ms/step - loss: 4.4429 - mean_absolute_error: 4.4429 \n",
      "Epoch 64/100\n",
      "\u001b[1m13/13\u001b[0m \u001b[32m━━━━━━━━━━━━━━━━━━━━\u001b[0m\u001b[37m\u001b[0m \u001b[1m0s\u001b[0m 751us/step - loss: 4.1014 - mean_absolute_error: 4.1014\n",
      "Epoch 65/100\n",
      "\u001b[1m13/13\u001b[0m \u001b[32m━━━━━━━━━━━━━━━━━━━━\u001b[0m\u001b[37m\u001b[0m \u001b[1m0s\u001b[0m 2ms/step - loss: 4.3721 - mean_absolute_error: 4.3721 \n",
      "Epoch 66/100\n",
      "\u001b[1m13/13\u001b[0m \u001b[32m━━━━━━━━━━━━━━━━━━━━\u001b[0m\u001b[37m\u001b[0m \u001b[1m0s\u001b[0m 3ms/step - loss: 4.3053 - mean_absolute_error: 4.3053 \n",
      "Epoch 67/100\n",
      "\u001b[1m13/13\u001b[0m \u001b[32m━━━━━━━━━━━━━━━━━━━━\u001b[0m\u001b[37m\u001b[0m \u001b[1m0s\u001b[0m 3ms/step - loss: 4.3789 - mean_absolute_error: 4.3789 \n",
      "Epoch 68/100\n",
      "\u001b[1m13/13\u001b[0m \u001b[32m━━━━━━━━━━━━━━━━━━━━\u001b[0m\u001b[37m\u001b[0m \u001b[1m0s\u001b[0m 2ms/step - loss: 4.6407 - mean_absolute_error: 4.6407 \n",
      "Epoch 69/100\n",
      "\u001b[1m13/13\u001b[0m \u001b[32m━━━━━━━━━━━━━━━━━━━━\u001b[0m\u001b[37m\u001b[0m \u001b[1m0s\u001b[0m 1ms/step - loss: 4.5102 - mean_absolute_error: 4.5102 \n",
      "Epoch 70/100\n",
      "\u001b[1m13/13\u001b[0m \u001b[32m━━━━━━━━━━━━━━━━━━━━\u001b[0m\u001b[37m\u001b[0m \u001b[1m0s\u001b[0m 1ms/step - loss: 4.3336 - mean_absolute_error: 4.3336 \n",
      "Epoch 71/100\n",
      "\u001b[1m13/13\u001b[0m \u001b[32m━━━━━━━━━━━━━━━━━━━━\u001b[0m\u001b[37m\u001b[0m \u001b[1m0s\u001b[0m 3ms/step - loss: 4.2292 - mean_absolute_error: 4.2292 \n",
      "Epoch 72/100\n",
      "\u001b[1m13/13\u001b[0m \u001b[32m━━━━━━━━━━━━━━━━━━━━\u001b[0m\u001b[37m\u001b[0m \u001b[1m0s\u001b[0m 3ms/step - loss: 4.3987 - mean_absolute_error: 4.3987 \n",
      "Epoch 73/100\n",
      "\u001b[1m13/13\u001b[0m \u001b[32m━━━━━━━━━━━━━━━━━━━━\u001b[0m\u001b[37m\u001b[0m \u001b[1m0s\u001b[0m 2ms/step - loss: 4.4640 - mean_absolute_error: 4.4640 \n",
      "Epoch 74/100\n",
      "\u001b[1m13/13\u001b[0m \u001b[32m━━━━━━━━━━━━━━━━━━━━\u001b[0m\u001b[37m\u001b[0m \u001b[1m0s\u001b[0m 2ms/step - loss: 4.3549 - mean_absolute_error: 4.3549 \n",
      "Epoch 75/100\n",
      "\u001b[1m13/13\u001b[0m \u001b[32m━━━━━━━━━━━━━━━━━━━━\u001b[0m\u001b[37m\u001b[0m \u001b[1m0s\u001b[0m 2ms/step - loss: 4.4232 - mean_absolute_error: 4.4232 \n",
      "Epoch 76/100\n",
      "\u001b[1m13/13\u001b[0m \u001b[32m━━━━━━━━━━━━━━━━━━━━\u001b[0m\u001b[37m\u001b[0m \u001b[1m0s\u001b[0m 1ms/step - loss: 4.3521 - mean_absolute_error: 4.3521 \n",
      "Epoch 77/100\n",
      "\u001b[1m13/13\u001b[0m \u001b[32m━━━━━━━━━━━━━━━━━━━━\u001b[0m\u001b[37m\u001b[0m \u001b[1m0s\u001b[0m 1ms/step - loss: 4.3837 - mean_absolute_error: 4.3837 \n",
      "Epoch 78/100\n",
      "\u001b[1m13/13\u001b[0m \u001b[32m━━━━━━━━━━━━━━━━━━━━\u001b[0m\u001b[37m\u001b[0m \u001b[1m0s\u001b[0m 1ms/step - loss: 4.5472 - mean_absolute_error: 4.5472 \n",
      "Epoch 79/100\n",
      "\u001b[1m13/13\u001b[0m \u001b[32m━━━━━━━━━━━━━━━━━━━━\u001b[0m\u001b[37m\u001b[0m \u001b[1m0s\u001b[0m 1ms/step - loss: 4.6101 - mean_absolute_error: 4.6101 \n",
      "Epoch 80/100\n",
      "\u001b[1m13/13\u001b[0m \u001b[32m━━━━━━━━━━━━━━━━━━━━\u001b[0m\u001b[37m\u001b[0m \u001b[1m0s\u001b[0m 1ms/step - loss: 4.2838 - mean_absolute_error: 4.2838 \n",
      "Epoch 81/100\n",
      "\u001b[1m13/13\u001b[0m \u001b[32m━━━━━━━━━━━━━━━━━━━━\u001b[0m\u001b[37m\u001b[0m \u001b[1m0s\u001b[0m 2ms/step - loss: 4.3899 - mean_absolute_error: 4.3899 \n",
      "Epoch 82/100\n",
      "\u001b[1m13/13\u001b[0m \u001b[32m━━━━━━━━━━━━━━━━━━━━\u001b[0m\u001b[37m\u001b[0m \u001b[1m0s\u001b[0m 3ms/step - loss: 4.3123 - mean_absolute_error: 4.3123 \n",
      "Epoch 83/100\n",
      "\u001b[1m13/13\u001b[0m \u001b[32m━━━━━━━━━━━━━━━━━━━━\u001b[0m\u001b[37m\u001b[0m \u001b[1m0s\u001b[0m 1ms/step - loss: 4.0279 - mean_absolute_error: 4.0279 \n",
      "Epoch 84/100\n",
      "\u001b[1m13/13\u001b[0m \u001b[32m━━━━━━━━━━━━━━━━━━━━\u001b[0m\u001b[37m\u001b[0m \u001b[1m0s\u001b[0m 1ms/step - loss: 4.2591 - mean_absolute_error: 4.2591 \n",
      "Epoch 85/100\n",
      "\u001b[1m13/13\u001b[0m \u001b[32m━━━━━━━━━━━━━━━━━━━━\u001b[0m\u001b[37m\u001b[0m \u001b[1m0s\u001b[0m 3ms/step - loss: 4.1683 - mean_absolute_error: 4.1683 \n",
      "Epoch 86/100\n",
      "\u001b[1m13/13\u001b[0m \u001b[32m━━━━━━━━━━━━━━━━━━━━\u001b[0m\u001b[37m\u001b[0m \u001b[1m0s\u001b[0m 2ms/step - loss: 4.3452 - mean_absolute_error: 4.3452 \n",
      "Epoch 87/100\n",
      "\u001b[1m13/13\u001b[0m \u001b[32m━━━━━━━━━━━━━━━━━━━━\u001b[0m\u001b[37m\u001b[0m \u001b[1m0s\u001b[0m 1ms/step - loss: 4.2778 - mean_absolute_error: 4.2778 \n",
      "Epoch 88/100\n",
      "\u001b[1m13/13\u001b[0m \u001b[32m━━━━━━━━━━━━━━━━━━━━\u001b[0m\u001b[37m\u001b[0m \u001b[1m0s\u001b[0m 2ms/step - loss: 4.2140 - mean_absolute_error: 4.2140 \n",
      "Epoch 89/100\n",
      "\u001b[1m13/13\u001b[0m \u001b[32m━━━━━━━━━━━━━━━━━━━━\u001b[0m\u001b[37m\u001b[0m \u001b[1m0s\u001b[0m 3ms/step - loss: 4.2322 - mean_absolute_error: 4.2322 \n",
      "Epoch 90/100\n",
      "\u001b[1m13/13\u001b[0m \u001b[32m━━━━━━━━━━━━━━━━━━━━\u001b[0m\u001b[37m\u001b[0m \u001b[1m0s\u001b[0m 3ms/step - loss: 4.1437 - mean_absolute_error: 4.1437 \n",
      "Epoch 91/100\n",
      "\u001b[1m13/13\u001b[0m \u001b[32m━━━━━━━━━━━━━━━━━━━━\u001b[0m\u001b[37m\u001b[0m \u001b[1m0s\u001b[0m 3ms/step - loss: 4.2242 - mean_absolute_error: 4.2242 \n",
      "Epoch 92/100\n",
      "\u001b[1m13/13\u001b[0m \u001b[32m━━━━━━━━━━━━━━━━━━━━\u001b[0m\u001b[37m\u001b[0m \u001b[1m0s\u001b[0m 1ms/step - loss: 4.2571 - mean_absolute_error: 4.2571 \n",
      "Epoch 93/100\n",
      "\u001b[1m13/13\u001b[0m \u001b[32m━━━━━━━━━━━━━━━━━━━━\u001b[0m\u001b[37m\u001b[0m \u001b[1m0s\u001b[0m 4ms/step - loss: 3.9564 - mean_absolute_error: 3.9564  \n",
      "Epoch 94/100\n",
      "\u001b[1m13/13\u001b[0m \u001b[32m━━━━━━━━━━━━━━━━━━━━\u001b[0m\u001b[37m\u001b[0m \u001b[1m0s\u001b[0m 3ms/step - loss: 4.4796 - mean_absolute_error: 4.4796 \n",
      "Epoch 95/100\n",
      "\u001b[1m13/13\u001b[0m \u001b[32m━━━━━━━━━━━━━━━━━━━━\u001b[0m\u001b[37m\u001b[0m \u001b[1m0s\u001b[0m 2ms/step - loss: 4.2424 - mean_absolute_error: 4.2424 \n",
      "Epoch 96/100\n",
      "\u001b[1m13/13\u001b[0m \u001b[32m━━━━━━━━━━━━━━━━━━━━\u001b[0m\u001b[37m\u001b[0m \u001b[1m0s\u001b[0m 1ms/step - loss: 4.5118 - mean_absolute_error: 4.5118 \n",
      "Epoch 97/100\n",
      "\u001b[1m13/13\u001b[0m \u001b[32m━━━━━━━━━━━━━━━━━━━━\u001b[0m\u001b[37m\u001b[0m \u001b[1m0s\u001b[0m 3ms/step - loss: 4.3790 - mean_absolute_error: 4.3790 \n",
      "Epoch 98/100\n",
      "\u001b[1m13/13\u001b[0m \u001b[32m━━━━━━━━━━━━━━━━━━━━\u001b[0m\u001b[37m\u001b[0m \u001b[1m0s\u001b[0m 3ms/step - loss: 4.3466 - mean_absolute_error: 4.3466  \n",
      "Epoch 99/100\n",
      "\u001b[1m13/13\u001b[0m \u001b[32m━━━━━━━━━━━━━━━━━━━━\u001b[0m\u001b[37m\u001b[0m \u001b[1m0s\u001b[0m 1ms/step - loss: 4.1288 - mean_absolute_error: 4.1288 \n",
      "Epoch 100/100\n",
      "\u001b[1m13/13\u001b[0m \u001b[32m━━━━━━━━━━━━━━━━━━━━\u001b[0m\u001b[37m\u001b[0m \u001b[1m0s\u001b[0m 3ms/step - loss: 4.4412 - mean_absolute_error: 4.4412 \n"
     ]
    },
    {
     "data": {
      "text/plain": [
       "<keras.src.callbacks.history.History at 0x1b0725f6720>"
      ]
     },
     "execution_count": 138,
     "metadata": {},
     "output_type": "execute_result"
    }
   ],
   "source": [
    "model.fit(x, y, epochs=100) # verbose=0"
   ]
  },
  {
   "cell_type": "markdown",
   "metadata": {
    "id": "0bWFMHNlSW7o"
   },
   "source": [
    "Значение ошибки уменьшилось со значения `7.5` до значения `4.1`, что свидетельствует о том, что нейронная сеть обучается.\n",
    "\n",
    "Выполним прогнозирование значений зависимой переменной (отклика):"
   ]
  },
  {
   "cell_type": "code",
   "execution_count": 139,
   "metadata": {
    "id": "xac_QAeyif97"
   },
   "outputs": [
    {
     "name": "stdout",
     "output_type": "stream",
     "text": [
      "\u001b[1m4/4\u001b[0m \u001b[32m━━━━━━━━━━━━━━━━━━━━\u001b[0m\u001b[37m\u001b[0m \u001b[1m0s\u001b[0m 22ms/step\n"
     ]
    },
    {
     "data": {
      "text/plain": [
       "array([[23.343052],\n",
       "       [19.682827],\n",
       "       [20.188656],\n",
       "       [22.05038 ],\n",
       "       [21.144104]], dtype=float32)"
      ]
     },
     "execution_count": 139,
     "metadata": {},
     "output_type": "execute_result"
    }
   ],
   "source": [
    "y_predict2 = model.predict(x_test[:,5])\n",
    "y_predict2[:5]"
   ]
  },
  {
   "cell_type": "markdown",
   "metadata": {
    "id": "b7z2DBRsSjQb"
   },
   "source": [
    "и визуализируем их на рисунке:"
   ]
  },
  {
   "cell_type": "code",
   "execution_count": 140,
   "metadata": {
    "id": "e19BGeTAXeCs"
   },
   "outputs": [
    {
     "data": {
      "image/png": "[encoded data removed]",
      "text/plain": [
       "<Figure size 1200x800 with 1 Axes>"
      ]
     },
     "metadata": {},
     "output_type": "display_data"
    }
   ],
   "source": [
    "plt.figure(figsize=(12,8))\n",
    "plt.scatter(x, y)\n",
    "plt.scatter(x_test[:,5], y_test, c='c')\n",
    "plt.plot(x_test[:,5], y_predict, c='m', label='точная линия регрессии')\n",
    "plt.plot(x_test[:,5], y_predict2, c='r', label='линия регрессии (ANN)')\n",
    "plt.legend();"
   ]
  },
  {
   "cell_type": "markdown",
   "metadata": {
    "id": "Q5Phno9N-c8z"
   },
   "source": [
    "### Нормализация\n",
    "\n",
    "Входные данные могут содержать значения, отличающиеся друг от друга на несколько порядков, например, возраст и доход клиента. Такая ситуация может вызвать неустойчивость работы модели машинного обучения, ухудшить результаты обучения и/или замедлить его процесс.\n",
    "\n",
    "__Нормализация__ — это процедура предварительной обработки входных данных, при которой значения признаков, образующих входной вектор, приводятся к некоторому заданному диапазону или распределению с  заданными параметрами (математическим ожиданием и дисперсией).\n",
    "\n",
    "В Tensorflow для встраивания нормализации в нейронную сеть можно создать специальный слой нормализации.\n",
    "\n",
    "Первым шагом является создание слоя:"
   ]
  },
  {
   "cell_type": "code",
   "execution_count": 169,
   "metadata": {
    "id": "w9F6eLBA-O1f"
   },
   "outputs": [],
   "source": [
    "normalizer = tf.keras.layers.Normalization()"
   ]
  },
  {
   "cell_type": "markdown",
   "metadata": {
    "id": "bmgFnTPh_QQH"
   },
   "source": [
    "Теперь адаптируем слой к данным (например, признакам с индексами 4, 5, 7, 12):"
   ]
  },
  {
   "cell_type": "code",
   "execution_count": 170,
   "metadata": {
    "id": "qrl7d3p4_O2A"
   },
   "outputs": [
    {
     "ename": "UnboundLocalError",
     "evalue": "cannot access local variable 'input_shape' where it is not associated with a value",
     "output_type": "error",
     "traceback": [
      "\u001b[1;31m---------------------------------------------------------------------------\u001b[0m",
      "\u001b[1;31mUnboundLocalError\u001b[0m                         Traceback (most recent call last)",
      "Cell \u001b[1;32mIn[170], line 1\u001b[0m\n\u001b[1;32m----> 1\u001b[0m \u001b[43mnormalizer\u001b[49m\u001b[38;5;241;43m.\u001b[39;49m\u001b[43madapt\u001b[49m\u001b[43m(\u001b[49m\u001b[43mdf_train\u001b[49m\u001b[43m[\u001b[49m\u001b[43m[\u001b[49m\u001b[38;5;241;43m4\u001b[39;49m\u001b[43m,\u001b[49m\u001b[43m \u001b[49m\u001b[38;5;241;43m5\u001b[39;49m\u001b[43m,\u001b[49m\u001b[43m \u001b[49m\u001b[38;5;241;43m7\u001b[39;49m\u001b[43m,\u001b[49m\u001b[43m \u001b[49m\u001b[38;5;241;43m12\u001b[39;49m\u001b[43m]\u001b[49m\u001b[43m]\u001b[49m\u001b[43m)\u001b[49m\n",
      "File \u001b[1;32mC:\\Python312\\Lib\\site-packages\\keras\\src\\layers\\preprocessing\\normalization.py:228\u001b[0m, in \u001b[0;36mNormalization.adapt\u001b[1;34m(self, data)\u001b[0m\n\u001b[0;32m    225\u001b[0m     input_shape \u001b[38;5;241m=\u001b[39m \u001b[38;5;28mtuple\u001b[39m(data\u001b[38;5;241m.\u001b[39melement_spec\u001b[38;5;241m.\u001b[39mshape)\n\u001b[0;32m    227\u001b[0m \u001b[38;5;28;01mif\u001b[39;00m \u001b[38;5;129;01mnot\u001b[39;00m \u001b[38;5;28mself\u001b[39m\u001b[38;5;241m.\u001b[39mbuilt:\n\u001b[1;32m--> 228\u001b[0m     \u001b[38;5;28mself\u001b[39m\u001b[38;5;241m.\u001b[39mbuild(\u001b[43minput_shape\u001b[49m)\n\u001b[0;32m    229\u001b[0m \u001b[38;5;28;01melse\u001b[39;00m:\n\u001b[0;32m    230\u001b[0m     \u001b[38;5;28;01mfor\u001b[39;00m d \u001b[38;5;129;01min\u001b[39;00m \u001b[38;5;28mself\u001b[39m\u001b[38;5;241m.\u001b[39m_keep_axis:\n",
      "\u001b[1;31mUnboundLocalError\u001b[0m: cannot access local variable 'input_shape' where it is not associated with a value"
     ]
    }
   ],
   "source": [
    "normalizer.adapt(df_train[[4, 5, 7, 12]])"
   ]
  },
  {
   "cell_type": "markdown",
   "metadata": {
    "id": "BDT-8-5yALS2"
   },
   "source": [
    "При этом вычисляются средние значения и дисперсии и сохраняются в слое:"
   ]
  },
  {
   "cell_type": "code",
   "execution_count": 145,
   "metadata": {
    "id": "uThnhI9cAMYd"
   },
   "outputs": [
    {
     "ename": "AttributeError",
     "evalue": "'Normalization' object has no attribute 'mean'",
     "output_type": "error",
     "traceback": [
      "\u001b[1;31m---------------------------------------------------------------------------\u001b[0m",
      "\u001b[1;31mAttributeError\u001b[0m                            Traceback (most recent call last)",
      "Cell \u001b[1;32mIn[145], line 1\u001b[0m\n\u001b[1;32m----> 1\u001b[0m \u001b[38;5;28mprint\u001b[39m(\u001b[43mnormalizer\u001b[49m\u001b[38;5;241;43m.\u001b[39;49m\u001b[43mmean\u001b[49m\u001b[38;5;241m.\u001b[39mnumpy())\n\u001b[0;32m      2\u001b[0m \u001b[38;5;28mprint\u001b[39m(normalizer\u001b[38;5;241m.\u001b[39mvariance\u001b[38;5;241m.\u001b[39mnumpy())\n",
      "\u001b[1;31mAttributeError\u001b[0m: 'Normalization' object has no attribute 'mean'"
     ]
    }
   ],
   "source": [
    "print(normalizer.mean.numpy())\n",
    "print(normalizer.variance.numpy())"
   ]
  },
  {
   "cell_type": "markdown",
   "metadata": {
    "id": "uumrniExWkUC"
   },
   "source": [
    "Оценим эффект нормализации:"
   ]
  },
  {
   "cell_type": "code",
   "execution_count": 146,
   "metadata": {
    "id": "PBIBOwxt6ydj"
   },
   "outputs": [
    {
     "data": {
      "text/html": [
       "<div>\n",
       "<style scoped>\n",
       "    .dataframe tbody tr th:only-of-type {\n",
       "        vertical-align: middle;\n",
       "    }\n",
       "\n",
       "    .dataframe tbody tr th {\n",
       "        vertical-align: top;\n",
       "    }\n",
       "\n",
       "    .dataframe thead th {\n",
       "        text-align: right;\n",
       "    }\n",
       "</style>\n",
       "<table border=\"1\" class=\"dataframe\">\n",
       "  <thead>\n",
       "    <tr style=\"text-align: right;\">\n",
       "      <th></th>\n",
       "      <th>4</th>\n",
       "      <th>5</th>\n",
       "      <th>7</th>\n",
       "      <th>12</th>\n",
       "    </tr>\n",
       "  </thead>\n",
       "  <tbody>\n",
       "    <tr>\n",
       "      <th>0</th>\n",
       "      <td>0.538</td>\n",
       "      <td>6.142</td>\n",
       "      <td>3.9769</td>\n",
       "      <td>18.72</td>\n",
       "    </tr>\n",
       "    <tr>\n",
       "      <th>1</th>\n",
       "      <td>0.415</td>\n",
       "      <td>7.610</td>\n",
       "      <td>6.2700</td>\n",
       "      <td>3.11</td>\n",
       "    </tr>\n",
       "    <tr>\n",
       "      <th>2</th>\n",
       "      <td>0.631</td>\n",
       "      <td>4.970</td>\n",
       "      <td>1.3325</td>\n",
       "      <td>3.26</td>\n",
       "    </tr>\n",
       "    <tr>\n",
       "      <th>3</th>\n",
       "      <td>0.515</td>\n",
       "      <td>6.037</td>\n",
       "      <td>5.9853</td>\n",
       "      <td>8.01</td>\n",
       "    </tr>\n",
       "    <tr>\n",
       "      <th>4</th>\n",
       "      <td>0.713</td>\n",
       "      <td>6.376</td>\n",
       "      <td>2.5671</td>\n",
       "      <td>14.65</td>\n",
       "    </tr>\n",
       "  </tbody>\n",
       "</table>\n",
       "</div>"
      ],
      "text/plain": [
       "      4      5       7      12\n",
       "0  0.538  6.142  3.9769  18.72\n",
       "1  0.415  7.610  6.2700   3.11\n",
       "2  0.631  4.970  1.3325   3.26\n",
       "3  0.515  6.037  5.9853   8.01\n",
       "4  0.713  6.376  2.5671  14.65"
      ]
     },
     "execution_count": 146,
     "metadata": {},
     "output_type": "execute_result"
    }
   ],
   "source": [
    "df_train[[4,5,7,12]][0:5]"
   ]
  },
  {
   "cell_type": "code",
   "execution_count": 147,
   "metadata": {
    "id": "LJEg36RlPPUP"
   },
   "outputs": [
    {
     "data": {
      "text/plain": [
       "array([[ 0.538 ,  6.142 ,  3.9769, 18.72  ],\n",
       "       [ 0.415 ,  7.61  ,  6.27  ,  3.11  ],\n",
       "       [ 0.631 ,  4.97  ,  1.3325,  3.26  ],\n",
       "       [ 0.515 ,  6.037 ,  5.9853,  8.01  ],\n",
       "       [ 0.713 ,  6.376 ,  2.5671, 14.65  ]], dtype=float32)"
      ]
     },
     "execution_count": 147,
     "metadata": {},
     "output_type": "execute_result"
    }
   ],
   "source": [
    "normalizer(df_train[[4,5,7,12]][0:5]).numpy()"
   ]
  },
  {
   "cell_type": "markdown",
   "metadata": {
    "id": "9vshF6Q3Cq5t"
   },
   "source": [
    "## Линейная регрессия с нормализацией и визуализацией обучения\n",
    "\n",
    "### Парная регрессия\n",
    "\n",
    "Начнем с парной регрессии, чтобы предсказать стоимость дома по признаку `rm` с индексом 5 (среднее количество комнат в жилом доме.).\n"
   ]
  },
  {
   "cell_type": "code",
   "execution_count": 148,
   "metadata": {
    "id": "jLXYzdTQAS8N"
   },
   "outputs": [
    {
     "name": "stderr",
     "output_type": "stream",
     "text": [
      "C:\\Python312\\Lib\\site-packages\\keras\\src\\layers\\preprocessing\\normalization.py:99: UserWarning: Do not pass an `input_shape`/`input_dim` argument to a layer. When using Sequential models, prefer using an `Input(shape)` object as the first layer in the model instead.\n",
      "  super().__init__(**kwargs)\n"
     ]
    }
   ],
   "source": [
    "feature = np.array(df_train[5])\n",
    "\n",
    "feature_normalizer = tf.keras.layers.Normalization(axis=None,input_shape=(1,))\n",
    "feature_normalizer.adapt(feature)"
   ]
  },
  {
   "cell_type": "markdown",
   "metadata": {
    "id": "GvjQAr0VDx7P"
   },
   "source": [
    "Построим последовательную модель с двумя слоями:"
   ]
  },
  {
   "cell_type": "code",
   "execution_count": 149,
   "metadata": {
    "id": "13Pv8DzfAVzS"
   },
   "outputs": [
    {
     "data": {
      "text/html": [
       "<pre style=\"white-space:pre;overflow-x:auto;line-height:normal;font-family:Menlo,'DejaVu Sans Mono',consolas,'Courier New',monospace\"><span style=\"font-weight: bold\">Model: \"sequential_2\"</span>\n",
       "</pre>\n"
      ],
      "text/plain": [
       "\u001b[1mModel: \"sequential_2\"\u001b[0m\n"
      ]
     },
     "metadata": {},
     "output_type": "display_data"
    },
    {
     "data": {
      "text/html": [
       "<pre style=\"white-space:pre;overflow-x:auto;line-height:normal;font-family:Menlo,'DejaVu Sans Mono',consolas,'Courier New',monospace\">┏━━━━━━━━━━━━━━━━━━━━━━━━━━━━━━━━━━━━━━┳━━━━━━━━━━━━━━━━━━━━━━━━━━━━━┳━━━━━━━━━━━━━━━━━┓\n",
       "┃<span style=\"font-weight: bold\"> Layer (type)                         </span>┃<span style=\"font-weight: bold\"> Output Shape                </span>┃<span style=\"font-weight: bold\">         Param # </span>┃\n",
       "┡━━━━━━━━━━━━━━━━━━━━━━━━━━━━━━━━━━━━━━╇━━━━━━━━━━━━━━━━━━━━━━━━━━━━━╇━━━━━━━━━━━━━━━━━┩\n",
       "│ normalization_2 (<span style=\"color: #0087ff; text-decoration-color: #0087ff\">Normalization</span>)      │ (<span style=\"color: #00d7ff; text-decoration-color: #00d7ff\">None</span>, <span style=\"color: #00af00; text-decoration-color: #00af00\">1</span>)                   │               <span style=\"color: #00af00; text-decoration-color: #00af00\">3</span> │\n",
       "├──────────────────────────────────────┼─────────────────────────────┼─────────────────┤\n",
       "│ dense_2 (<span style=\"color: #0087ff; text-decoration-color: #0087ff\">Dense</span>)                      │ (<span style=\"color: #00d7ff; text-decoration-color: #00d7ff\">None</span>, <span style=\"color: #00af00; text-decoration-color: #00af00\">1</span>)                   │               <span style=\"color: #00af00; text-decoration-color: #00af00\">2</span> │\n",
       "└──────────────────────────────────────┴─────────────────────────────┴─────────────────┘\n",
       "</pre>\n"
      ],
      "text/plain": [
       "┏━━━━━━━━━━━━━━━━━━━━━━━━━━━━━━━━━━━━━━┳━━━━━━━━━━━━━━━━━━━━━━━━━━━━━┳━━━━━━━━━━━━━━━━━┓\n",
       "┃\u001b[1m \u001b[0m\u001b[1mLayer (type)                        \u001b[0m\u001b[1m \u001b[0m┃\u001b[1m \u001b[0m\u001b[1mOutput Shape               \u001b[0m\u001b[1m \u001b[0m┃\u001b[1m \u001b[0m\u001b[1m        Param #\u001b[0m\u001b[1m \u001b[0m┃\n",
       "┡━━━━━━━━━━━━━━━━━━━━━━━━━━━━━━━━━━━━━━╇━━━━━━━━━━━━━━━━━━━━━━━━━━━━━╇━━━━━━━━━━━━━━━━━┩\n",
       "│ normalization_2 (\u001b[38;5;33mNormalization\u001b[0m)      │ (\u001b[38;5;45mNone\u001b[0m, \u001b[38;5;34m1\u001b[0m)                   │               \u001b[38;5;34m3\u001b[0m │\n",
       "├──────────────────────────────────────┼─────────────────────────────┼─────────────────┤\n",
       "│ dense_2 (\u001b[38;5;33mDense\u001b[0m)                      │ (\u001b[38;5;45mNone\u001b[0m, \u001b[38;5;34m1\u001b[0m)                   │               \u001b[38;5;34m2\u001b[0m │\n",
       "└──────────────────────────────────────┴─────────────────────────────┴─────────────────┘\n"
      ]
     },
     "metadata": {},
     "output_type": "display_data"
    },
    {
     "data": {
      "text/html": [
       "<pre style=\"white-space:pre;overflow-x:auto;line-height:normal;font-family:Menlo,'DejaVu Sans Mono',consolas,'Courier New',monospace\"><span style=\"font-weight: bold\"> Total params: </span><span style=\"color: #00af00; text-decoration-color: #00af00\">5</span> (24.00 B)\n",
       "</pre>\n"
      ],
      "text/plain": [
       "\u001b[1m Total params: \u001b[0m\u001b[38;5;34m5\u001b[0m (24.00 B)\n"
      ]
     },
     "metadata": {},
     "output_type": "display_data"
    },
    {
     "data": {
      "text/html": [
       "<pre style=\"white-space:pre;overflow-x:auto;line-height:normal;font-family:Menlo,'DejaVu Sans Mono',consolas,'Courier New',monospace\"><span style=\"font-weight: bold\"> Trainable params: </span><span style=\"color: #00af00; text-decoration-color: #00af00\">2</span> (8.00 B)\n",
       "</pre>\n"
      ],
      "text/plain": [
       "\u001b[1m Trainable params: \u001b[0m\u001b[38;5;34m2\u001b[0m (8.00 B)\n"
      ]
     },
     "metadata": {},
     "output_type": "display_data"
    },
    {
     "data": {
      "text/html": [
       "<pre style=\"white-space:pre;overflow-x:auto;line-height:normal;font-family:Menlo,'DejaVu Sans Mono',consolas,'Courier New',monospace\"><span style=\"font-weight: bold\"> Non-trainable params: </span><span style=\"color: #00af00; text-decoration-color: #00af00\">3</span> (16.00 B)\n",
       "</pre>\n"
      ],
      "text/plain": [
       "\u001b[1m Non-trainable params: \u001b[0m\u001b[38;5;34m3\u001b[0m (16.00 B)\n"
      ]
     },
     "metadata": {},
     "output_type": "display_data"
    }
   ],
   "source": [
    "feature_model = tf.keras.Sequential([\n",
    "    feature_normalizer,\n",
    "    tf.keras.layers.Dense(units=1)\n",
    "])\n",
    "\n",
    "feature_model.summary()"
   ]
  },
  {
   "cell_type": "markdown",
   "metadata": {
    "id": "VdGgbAKvEV-4"
   },
   "source": [
    "Эта модель будет предсказывать стоимость дома в зависимости от признака `rm`.\n",
    "\n",
    "Для тестирования можно запустить необученную модель на нескольких первых значениях, чтобы проверить результат:"
   ]
  },
  {
   "cell_type": "code",
   "execution_count": 150,
   "metadata": {
    "id": "R0hEh8lFEdYW"
   },
   "outputs": [
    {
     "name": "stdout",
     "output_type": "stream",
     "text": [
      "[6.142 7.61  4.97  6.037 6.376 5.708 5.536 5.468 5.628 5.019]\n",
      "\u001b[1m1/1\u001b[0m \u001b[32m━━━━━━━━━━━━━━━━━━━━\u001b[0m\u001b[37m\u001b[0m \u001b[1m0s\u001b[0m 97ms/step\n"
     ]
    },
    {
     "data": {
      "text/plain": [
       "array([[ 0.06471337],\n",
       "       [-0.6947849 ],\n",
       "       [ 0.6710706 ],\n",
       "       [ 0.11903716],\n",
       "       [-0.05635094],\n",
       "       [ 0.28925171],\n",
       "       [ 0.37823945],\n",
       "       [ 0.4134205 ],\n",
       "       [ 0.33064148],\n",
       "       [ 0.6457193 ]], dtype=float32)"
      ]
     },
     "execution_count": 150,
     "metadata": {},
     "output_type": "execute_result"
    }
   ],
   "source": [
    "print(feature[:10])\n",
    "feature_model.predict(feature[:10])"
   ]
  },
  {
   "cell_type": "markdown",
   "metadata": {
    "id": "buo8KhxRE_gM"
   },
   "source": [
    "После построения модели настроим процедуру обучения с помощью метода `compile()`. Наиболее важными аргументами для компиляции являются функция потерь и оптимизатор, поскольку они определяют, что будет оптимизировано (`mean_absolute_error`) и как (оптимизатор `Adam`)."
   ]
  },
  {
   "cell_type": "code",
   "execution_count": 151,
   "metadata": {
    "id": "l1_HyGNkFSM_"
   },
   "outputs": [],
   "source": [
    "feature_model.compile(\n",
    "    optimizer=tf.optimizers.Adam(learning_rate=0.25),\n",
    "    loss='mean_absolute_error')"
   ]
  },
  {
   "cell_type": "markdown",
   "metadata": {
    "id": "d-h5HshuFeFd"
   },
   "source": [
    "После настройки обучения используем метод `fit()` для выполнения обучения:"
   ]
  },
  {
   "cell_type": "code",
   "execution_count": 152,
   "metadata": {
    "id": "9VBgltEoFs70"
   },
   "outputs": [
    {
     "name": "stdout",
     "output_type": "stream",
     "text": [
      "CPU times: total: 8.48 s\n",
      "Wall time: 15 s\n"
     ]
    }
   ],
   "source": [
    "%%time\n",
    "history = feature_model.fit(\n",
    "    df_train[5], y_train,\n",
    "    epochs=100,\n",
    "    # подавляем вывод\n",
    "    verbose=0,\n",
    "    # проверка (валидация) на 20% обучающих данных\n",
    "    validation_split = 0.2)"
   ]
  },
  {
   "cell_type": "markdown",
   "metadata": {
    "id": "oUX2nF-PGe9n"
   },
   "source": [
    "Визуализируем ход обучения модели, используя статистику, хранящуюся в объекте `history`."
   ]
  },
  {
   "cell_type": "code",
   "execution_count": 153,
   "metadata": {
    "id": "UhqA_Z6cGmjM"
   },
   "outputs": [
    {
     "data": {
      "text/html": [
       "<div>\n",
       "<style scoped>\n",
       "    .dataframe tbody tr th:only-of-type {\n",
       "        vertical-align: middle;\n",
       "    }\n",
       "\n",
       "    .dataframe tbody tr th {\n",
       "        vertical-align: top;\n",
       "    }\n",
       "\n",
       "    .dataframe thead th {\n",
       "        text-align: right;\n",
       "    }\n",
       "</style>\n",
       "<table border=\"1\" class=\"dataframe\">\n",
       "  <thead>\n",
       "    <tr style=\"text-align: right;\">\n",
       "      <th></th>\n",
       "      <th>loss</th>\n",
       "      <th>val_loss</th>\n",
       "      <th>epoch</th>\n",
       "    </tr>\n",
       "  </thead>\n",
       "  <tbody>\n",
       "    <tr>\n",
       "      <th>95</th>\n",
       "      <td>4.604791</td>\n",
       "      <td>4.093952</td>\n",
       "      <td>95</td>\n",
       "    </tr>\n",
       "    <tr>\n",
       "      <th>96</th>\n",
       "      <td>4.604501</td>\n",
       "      <td>4.171082</td>\n",
       "      <td>96</td>\n",
       "    </tr>\n",
       "    <tr>\n",
       "      <th>97</th>\n",
       "      <td>4.613330</td>\n",
       "      <td>4.191317</td>\n",
       "      <td>97</td>\n",
       "    </tr>\n",
       "    <tr>\n",
       "      <th>98</th>\n",
       "      <td>4.638023</td>\n",
       "      <td>4.187985</td>\n",
       "      <td>98</td>\n",
       "    </tr>\n",
       "    <tr>\n",
       "      <th>99</th>\n",
       "      <td>4.620307</td>\n",
       "      <td>4.113254</td>\n",
       "      <td>99</td>\n",
       "    </tr>\n",
       "  </tbody>\n",
       "</table>\n",
       "</div>"
      ],
      "text/plain": [
       "        loss  val_loss  epoch\n",
       "95  4.604791  4.093952     95\n",
       "96  4.604501  4.171082     96\n",
       "97  4.613330  4.191317     97\n",
       "98  4.638023  4.187985     98\n",
       "99  4.620307  4.113254     99"
      ]
     },
     "execution_count": 153,
     "metadata": {},
     "output_type": "execute_result"
    }
   ],
   "source": [
    "hist = pd.DataFrame(history.history)\n",
    "hist['epoch'] = history.epoch\n",
    "hist.tail()"
   ]
  },
  {
   "cell_type": "code",
   "execution_count": 154,
   "metadata": {
    "id": "yBrYH0bFHNzV"
   },
   "outputs": [],
   "source": [
    "def plot_loss(history):\n",
    "  plt.plot(history.history['loss'], label='loss')\n",
    "  plt.plot(history.history['val_loss'], label='val_loss')\n",
    "  plt.ylim([0, max(history.history['loss'])*0.5])\n",
    "  plt.xlabel('Эпохи обучения')\n",
    "  plt.ylabel('Ошибка')\n",
    "  plt.legend()\n",
    "  plt.grid(True)"
   ]
  },
  {
   "cell_type": "code",
   "execution_count": 155,
   "metadata": {
    "id": "E_NXyUc5HVTc"
   },
   "outputs": [
    {
     "data": {
      "image/png": "[encoded data removed]",
      "text/plain": [
       "<Figure size 640x480 with 1 Axes>"
      ]
     },
     "metadata": {},
     "output_type": "display_data"
    }
   ],
   "source": [
    "plot_loss(history)"
   ]
  },
  {
   "cell_type": "markdown",
   "metadata": {
    "id": "IjW8AuMTHsvz"
   },
   "source": [
    "Запомним результаты на тестовом наборе для дальнейшего использования:"
   ]
  },
  {
   "cell_type": "code",
   "execution_count": 156,
   "metadata": {
    "id": "s0uBQe5-Hwor"
   },
   "outputs": [],
   "source": [
    "test_results = {} # пустой словарь\n",
    "\n",
    "test_results['feature_model'] = feature_model.evaluate(\n",
    "    df_train[5],\n",
    "    y_train, verbose=0)"
   ]
  },
  {
   "cell_type": "markdown",
   "metadata": {
    "id": "3qUcW6twIay3"
   },
   "source": [
    "Поскольку использовалась парная регрессия, прогнозы модели легко рассматривать как функцию входных данных:"
   ]
  },
  {
   "cell_type": "code",
   "execution_count": 157,
   "metadata": {
    "id": "sN31PkJYIbwY"
   },
   "outputs": [
    {
     "name": "stdout",
     "output_type": "stream",
     "text": [
      "\u001b[1m1/2\u001b[0m \u001b[32m━━━━━━━━━━\u001b[0m\u001b[37m━━━━━━━━━━\u001b[0m \u001b[1m0s\u001b[0m 92ms/step"
     ]
    },
    {
     "name": "stderr",
     "output_type": "stream",
     "text": [
      "WARNING:tensorflow:5 out of the last 7 calls to <function TensorFlowTrainer.make_predict_function.<locals>.one_step_on_data_distributed at 0x000001B073E562A0> triggered tf.function retracing. Tracing is expensive and the excessive number of tracings could be due to (1) creating @tf.function repeatedly in a loop, (2) passing tensors with different shapes, (3) passing Python objects instead of tensors. For (1), please define your @tf.function outside of the loop. For (2), @tf.function has reduce_retracing=True option that can avoid unnecessary retracing. For (3), please refer to https://www.tensorflow.org/guide/function#controlling_retracing and https://www.tensorflow.org/api_docs/python/tf/function for  more details.\n"
     ]
    },
    {
     "name": "stdout",
     "output_type": "stream",
     "text": [
      "\u001b[1m2/2\u001b[0m \u001b[32m━━━━━━━━━━━━━━━━━━━━\u001b[0m\u001b[37m\u001b[0m \u001b[1m0s\u001b[0m 79ms/step\n"
     ]
    }
   ],
   "source": [
    "x = tf.linspace(4., 9., 51)\n",
    "y = feature_model.predict(x)"
   ]
  },
  {
   "cell_type": "code",
   "execution_count": 158,
   "metadata": {
    "id": "5izifop6Ixp2"
   },
   "outputs": [],
   "source": [
    "def plot_rm(x, y):\n",
    "  plt.scatter(df_train[5], y_train, label='Data')\n",
    "  plt.plot(x, y, color='k', label='Прогноз')\n",
    "  plt.xlabel('Кол-во комнат')\n",
    "  plt.ylabel('Стоимость')\n",
    "  plt.legend()"
   ]
  },
  {
   "cell_type": "code",
   "execution_count": 159,
   "metadata": {
    "id": "hWVHNX4GJAGr"
   },
   "outputs": [
    {
     "data": {
      "image/png": "[encoded data removed]",
      "text/plain": [
       "<Figure size 640x480 with 1 Axes>"
      ]
     },
     "metadata": {},
     "output_type": "display_data"
    }
   ],
   "source": [
    "plot_rm(x,y)"
   ]
  },
  {
   "cell_type": "markdown",
   "metadata": {
    "id": "2OBDs735LU8y"
   },
   "source": [
    "Вообще говоря, для улучшения качества модели регрессии на основе нейронной сети следует также выполнять нормализацию и выходных значений из обучающего набора данных, например:\n",
    "\n",
    "```python\n",
    "y_train_s = (y_train - y_train.mean()) / y_train.std()\n",
    "```\n",
    "Тогда при обучении нейронной сети вместо первоначальных значений `y_train` используем нормализованные значения  `y_train_s`, но для получения прогнозных выходных значений  нужно выполнить линейное преобразование следующего вида:\n",
    "\n",
    "```python\n",
    "ys = feature_model.predict(x)\n",
    "y = ys * y_train.std() + y_train.mean()\n",
    "```\n",
    "\n",
    "### Множественная регрессия\n",
    "\n",
    "Можно использовать почти идентичный подход, чтобы делать прогнозы на основе нескольких признаков.\n",
    "\n",
    "В многомерном случае используется слой нормализации, адаптированный ко всему набору данных."
   ]
  },
  {
   "cell_type": "code",
   "execution_count": 160,
   "metadata": {
    "id": "cW7lnQavL7Wm"
   },
   "outputs": [],
   "source": [
    "linear_model = tf.keras.Sequential([\n",
    "    normalizer,\n",
    "    tf.keras.layers.Dense(units=1)\n",
    "])"
   ]
  },
  {
   "cell_type": "markdown",
   "metadata": {
    "id": "hHoLGMN1Mjp6"
   },
   "source": [
    "При вызове модели для набора входных данных, модель вычисляяет по одному значению для каждого элемента входных данных:"
   ]
  },
  {
   "cell_type": "code",
   "execution_count": 161,
   "metadata": {
    "id": "TSNBgC5HMsfd"
   },
   "outputs": [
    {
     "name": "stderr",
     "output_type": "stream",
     "text": [
      "WARNING:tensorflow:6 out of the last 8 calls to <function TensorFlowTrainer.make_predict_function.<locals>.one_step_on_data_distributed at 0x000001B074FC77E0> triggered tf.function retracing. Tracing is expensive and the excessive number of tracings could be due to (1) creating @tf.function repeatedly in a loop, (2) passing tensors with different shapes, (3) passing Python objects instead of tensors. For (1), please define your @tf.function outside of the loop. For (2), @tf.function has reduce_retracing=True option that can avoid unnecessary retracing. For (3), please refer to https://www.tensorflow.org/guide/function#controlling_retracing and https://www.tensorflow.org/api_docs/python/tf/function for  more details.\n"
     ]
    },
    {
     "name": "stdout",
     "output_type": "stream",
     "text": [
      "\u001b[1m1/1\u001b[0m \u001b[32m━━━━━━━━━━━━━━━━━━━━\u001b[0m\u001b[37m\u001b[0m \u001b[1m0s\u001b[0m 313ms/step\n"
     ]
    },
    {
     "data": {
      "text/plain": [
       "array([[13.078307 ],\n",
       "       [ 4.3807287],\n",
       "       [ 4.5997157],\n",
       "       [ 6.0927486],\n",
       "       [11.484673 ],\n",
       "       [ 8.51767  ],\n",
       "       [16.365547 ],\n",
       "       [17.911531 ],\n",
       "       [12.461931 ],\n",
       "       [22.191666 ]], dtype=float32)"
      ]
     },
     "execution_count": 161,
     "metadata": {},
     "output_type": "execute_result"
    }
   ],
   "source": [
    "linear_model.predict(df_train[[4,5,7,12]][:10])"
   ]
  },
  {
   "cell_type": "markdown",
   "metadata": {
    "id": "c17My1MTNuYD"
   },
   "source": [
    "При вызове модели будут построены ее весовые матрицы и смещения:"
   ]
  },
  {
   "cell_type": "code",
   "execution_count": 162,
   "metadata": {
    "id": "R3-R66iCN266"
   },
   "outputs": [
    {
     "data": {
      "text/plain": [
       "<KerasVariable shape=(4, 1), dtype=float32, path=sequential_3/dense_3/kernel>"
      ]
     },
     "execution_count": 162,
     "metadata": {},
     "output_type": "execute_result"
    }
   ],
   "source": [
    "linear_model.layers[1].kernel"
   ]
  },
  {
   "cell_type": "code",
   "execution_count": 163,
   "metadata": {
    "id": "ISGNihctcRuh"
   },
   "outputs": [
    {
     "data": {
      "text/plain": [
       "<KerasVariable shape=(1,), dtype=float32, path=sequential_3/dense_3/bias>"
      ]
     },
     "execution_count": 163,
     "metadata": {},
     "output_type": "execute_result"
    }
   ],
   "source": [
    "linear_model.layers[1].bias"
   ]
  },
  {
   "cell_type": "markdown",
   "metadata": {
    "id": "KQrrxviqONQf"
   },
   "source": [
    "Используем те же вызовы `compile()` и `fit()`, что и для модели парной регрессии:"
   ]
  },
  {
   "cell_type": "code",
   "execution_count": 164,
   "metadata": {
    "id": "vOcPDY-ON6w0"
   },
   "outputs": [],
   "source": [
    "linear_model.compile(\n",
    "    optimizer=tf.optimizers.Adam(learning_rate=0.25),\n",
    "    loss='mean_absolute_error')"
   ]
  },
  {
   "cell_type": "code",
   "execution_count": 165,
   "metadata": {
    "id": "lfvl4AKzOkY2"
   },
   "outputs": [
    {
     "name": "stdout",
     "output_type": "stream",
     "text": [
      "CPU times: total: 6.64 s\n",
      "Wall time: 14.7 s\n"
     ]
    }
   ],
   "source": [
    "%%time\n",
    "history = linear_model.fit(\n",
    "    df_train[[4,5,7,12]], y_train,\n",
    "    epochs=100,\n",
    "    # подавляем вывод\n",
    "    verbose=0,\n",
    "    # проверка (валидация) на 20% обучающих данных\n",
    "    validation_split = 0.2)"
   ]
  },
  {
   "cell_type": "markdown",
   "metadata": {
    "id": "xVQmjDdoO6mO"
   },
   "source": [
    "Использование большего числа признаков обеспечивает меньшую ошибку обучения и валидации, чем модель парной регрессии:"
   ]
  },
  {
   "cell_type": "code",
   "execution_count": 166,
   "metadata": {
    "id": "xHIhYlPpO7Un"
   },
   "outputs": [
    {
     "data": {
      "image/png": "[encoded data removed]",
      "text/plain": [
       "<Figure size 640x480 with 1 Axes>"
      ]
     },
     "metadata": {},
     "output_type": "display_data"
    }
   ],
   "source": [
    "plot_loss(history)"
   ]
  },
  {
   "cell_type": "markdown",
   "metadata": {
    "id": "AMiB8wridVA-"
   },
   "source": [
    "### Регуляризация нейронной сети\n",
    "\n",
    "Регуляризаторы позволяют применять штрафы к параметрам слоя или активности слоя во время оптимизации. Эти штрафы добавляются к функции потерь, которую оптимизирует нейронная сеть.\n",
    "\n",
    "Штрафы за регуляризацию применяются для каждого слоя отдельно.\n",
    "\n",
    "Возможны следующие виды регуляризаторов:\n",
    "\n",
    "   - `tf.keras.regularizers.L1(l1=0.01)`\n",
    "   - `tf.keras.regularizers.L2(l2=0.01)`\n",
    "   - `tf.keras.regularizers.L1L2(l1=0.0, l2=0.0)`\n",
    "\n",
    "Для регуляризации слоя нейронной сети при его создании должен быть указан параметр `kernel_regularizer`, например:\n",
    "\n",
    "`layer = tf.keras.layers.Dense(3, kernel_regularizer=tf.keras.regularizers.L2(l2=0.01))`"
   ]
  },
  {
   "cell_type": "code",
   "execution_count": 167,
   "metadata": {
    "id": "952AS_hHiDtG"
   },
   "outputs": [
    {
     "ename": "UnboundLocalError",
     "evalue": "cannot access local variable 'input_shape' where it is not associated with a value",
     "output_type": "error",
     "traceback": [
      "\u001b[1;31m---------------------------------------------------------------------------\u001b[0m",
      "\u001b[1;31mUnboundLocalError\u001b[0m                         Traceback (most recent call last)",
      "Cell \u001b[1;32mIn[167], line 2\u001b[0m\n\u001b[0;32m      1\u001b[0m df_normalizer \u001b[38;5;241m=\u001b[39m tf\u001b[38;5;241m.\u001b[39mkeras\u001b[38;5;241m.\u001b[39mlayers\u001b[38;5;241m.\u001b[39mNormalization()\n\u001b[1;32m----> 2\u001b[0m \u001b[43mdf_normalizer\u001b[49m\u001b[38;5;241;43m.\u001b[39;49m\u001b[43madapt\u001b[49m\u001b[43m(\u001b[49m\u001b[43mdf_train\u001b[49m\u001b[43m)\u001b[49m\n\u001b[0;32m      3\u001b[0m \u001b[38;5;28mprint\u001b[39m(df_normalizer\u001b[38;5;241m.\u001b[39mmean\u001b[38;5;241m.\u001b[39mnumpy())\n\u001b[0;32m      4\u001b[0m \u001b[38;5;28mprint\u001b[39m(df_normalizer\u001b[38;5;241m.\u001b[39mvariance\u001b[38;5;241m.\u001b[39mnumpy())\n",
      "File \u001b[1;32mC:\\Python312\\Lib\\site-packages\\keras\\src\\layers\\preprocessing\\normalization.py:228\u001b[0m, in \u001b[0;36mNormalization.adapt\u001b[1;34m(self, data)\u001b[0m\n\u001b[0;32m    225\u001b[0m     input_shape \u001b[38;5;241m=\u001b[39m \u001b[38;5;28mtuple\u001b[39m(data\u001b[38;5;241m.\u001b[39melement_spec\u001b[38;5;241m.\u001b[39mshape)\n\u001b[0;32m    227\u001b[0m \u001b[38;5;28;01mif\u001b[39;00m \u001b[38;5;129;01mnot\u001b[39;00m \u001b[38;5;28mself\u001b[39m\u001b[38;5;241m.\u001b[39mbuilt:\n\u001b[1;32m--> 228\u001b[0m     \u001b[38;5;28mself\u001b[39m\u001b[38;5;241m.\u001b[39mbuild(\u001b[43minput_shape\u001b[49m)\n\u001b[0;32m    229\u001b[0m \u001b[38;5;28;01melse\u001b[39;00m:\n\u001b[0;32m    230\u001b[0m     \u001b[38;5;28;01mfor\u001b[39;00m d \u001b[38;5;129;01min\u001b[39;00m \u001b[38;5;28mself\u001b[39m\u001b[38;5;241m.\u001b[39m_keep_axis:\n",
      "\u001b[1;31mUnboundLocalError\u001b[0m: cannot access local variable 'input_shape' where it is not associated with a value"
     ]
    }
   ],
   "source": [
    "df_normalizer = tf.keras.layers.Normalization()\n",
    "df_normalizer.adapt(df_train)\n",
    "print(df_normalizer.mean.numpy())\n",
    "print(df_normalizer.variance.numpy())"
   ]
  },
  {
   "cell_type": "markdown",
   "metadata": {
    "id": "tSRlCu92aRvo"
   },
   "source": [
    "Создаем модель с нормализацией всех признаков и регуляризацией `L1`:"
   ]
  },
  {
   "cell_type": "code",
   "execution_count": 168,
   "metadata": {
    "id": "UdrB2cYOO--I"
   },
   "outputs": [],
   "source": [
    "l1_model = tf.keras.Sequential([\n",
    "    df_normalizer,\n",
    "    tf.keras.layers.Dense(units=1,\n",
    "                          kernel_regularizer=tf.keras.regularizers.L1(l1=0.01))\n",
    "])"
   ]
  },
  {
   "cell_type": "markdown",
   "metadata": {
    "id": "30PmHGhuafYR"
   },
   "source": [
    "Компилируем"
   ]
  },
  {
   "cell_type": "code",
   "execution_count": null,
   "metadata": {
    "id": "aoh2e9uSJKpH"
   },
   "outputs": [],
   "source": [
    "l1_model.compile(\n",
    "    optimizer=tf.optimizers.Adam(learning_rate=0.25),\n",
    "    loss='mean_absolute_error')"
   ]
  },
  {
   "cell_type": "markdown",
   "metadata": {
    "id": "7qDLNPR6ajnI"
   },
   "source": [
    "и обучаем модель:"
   ]
  },
  {
   "cell_type": "code",
   "execution_count": 171,
   "metadata": {
    "id": "Rn_0lVSXhQBO"
   },
   "outputs": [
    {
     "ename": "ValueError",
     "evalue": "You must call `compile()` before using the model.",
     "output_type": "error",
     "traceback": [
      "\u001b[1;31m---------------------------------------------------------------------------\u001b[0m",
      "\u001b[1;31mValueError\u001b[0m                                Traceback (most recent call last)",
      "File \u001b[1;32m<timed exec>:1\u001b[0m\n",
      "File \u001b[1;32mC:\\Python312\\Lib\\site-packages\\keras\\src\\utils\\traceback_utils.py:122\u001b[0m, in \u001b[0;36mfilter_traceback.<locals>.error_handler\u001b[1;34m(*args, **kwargs)\u001b[0m\n\u001b[0;32m    119\u001b[0m     filtered_tb \u001b[38;5;241m=\u001b[39m _process_traceback_frames(e\u001b[38;5;241m.\u001b[39m__traceback__)\n\u001b[0;32m    120\u001b[0m     \u001b[38;5;66;03m# To get the full stack trace, call:\u001b[39;00m\n\u001b[0;32m    121\u001b[0m     \u001b[38;5;66;03m# `keras.config.disable_traceback_filtering()`\u001b[39;00m\n\u001b[1;32m--> 122\u001b[0m     \u001b[38;5;28;01mraise\u001b[39;00m e\u001b[38;5;241m.\u001b[39mwith_traceback(filtered_tb) \u001b[38;5;28;01mfrom\u001b[39;00m \u001b[38;5;28;01mNone\u001b[39;00m\n\u001b[0;32m    123\u001b[0m \u001b[38;5;28;01mfinally\u001b[39;00m:\n\u001b[0;32m    124\u001b[0m     \u001b[38;5;28;01mdel\u001b[39;00m filtered_tb\n",
      "File \u001b[1;32mC:\\Python312\\Lib\\site-packages\\keras\\src\\trainers\\trainer.py:937\u001b[0m, in \u001b[0;36mTrainer._assert_compile_called\u001b[1;34m(self, method_name)\u001b[0m\n\u001b[0;32m    935\u001b[0m \u001b[38;5;28;01melse\u001b[39;00m:\n\u001b[0;32m    936\u001b[0m     msg \u001b[38;5;241m+\u001b[39m\u001b[38;5;241m=\u001b[39m \u001b[38;5;124mf\u001b[39m\u001b[38;5;124m\"\u001b[39m\u001b[38;5;124mcalling `\u001b[39m\u001b[38;5;132;01m{\u001b[39;00mmethod_name\u001b[38;5;132;01m}\u001b[39;00m\u001b[38;5;124m()`.\u001b[39m\u001b[38;5;124m\"\u001b[39m\n\u001b[1;32m--> 937\u001b[0m \u001b[38;5;28;01mraise\u001b[39;00m \u001b[38;5;167;01mValueError\u001b[39;00m(msg)\n",
      "\u001b[1;31mValueError\u001b[0m: You must call `compile()` before using the model."
     ]
    }
   ],
   "source": [
    "%%time\n",
    "history = l1_model.fit(\n",
    "    df_train, y_train,\n",
    "    epochs=100,\n",
    "    # подавляем вывод\n",
    "    verbose=0,\n",
    "    # проверка (валидация) на 20% обучающих данных\n",
    "    validation_split = 0.2)"
   ]
  },
  {
   "cell_type": "markdown",
   "metadata": {
    "id": "4wtbhwYka1Ma"
   },
   "source": [
    "Веса в слое выглядят так:"
   ]
  },
  {
   "cell_type": "code",
   "execution_count": null,
   "metadata": {
    "id": "hZOHrGkOhdmg"
   },
   "outputs": [],
   "source": [
    "l1_model.layers[1].kernel"
   ]
  },
  {
   "cell_type": "markdown",
   "metadata": {
    "id": "reZHfji2bB0N"
   },
   "source": [
    "Кривые обучения получаются такими:"
   ]
  },
  {
   "cell_type": "code",
   "execution_count": null,
   "metadata": {
    "id": "Hl4vMW98jPH-"
   },
   "outputs": [],
   "source": [
    "plot_loss(history)"
   ]
  },
  {
   "cell_type": "code",
   "execution_count": null,
   "metadata": {
    "id": "3oCvtN7cjXcz"
   },
   "outputs": [],
   "source": [
    "hist = pd.DataFrame(history.history)\n",
    "hist"
   ]
  },
  {
   "cell_type": "markdown",
   "metadata": {
    "id": "dhGCQHAQDWYa"
   },
   "source": [
    "# Задание на контрольную работу №1\n",
    "\n",
    "В соответствии с индивидуальным заданием, указанным в записной книжке команды Teams, выполните следующее:\n",
    "\n",
    "1. Загрузите заданный в индивидуальном задании набор данных из Tensorflow Datasets и оставьте в наборе данных признаки, принимающие непрерывные числовые значения, включая указанные в индивидуальном задании независимую и зависимую переменные. Вычислите матрицу корреляции признаков и выведите названия (номера) пар признаков с наиболее низкой и наиболее высокой корреляцией.  \n",
    "2. Выполните визуализацию независимой и зависимой переменных в соответствии с индивидуальным заданием, подписывая оси и рисунок.  \n",
    "3. Постройте диаграмму рассеяния для независимого и зависимого признаков, подписывая оси и рисунок, определите наличие одиноко расположенные точек и, при наличии, удалите их.  \n",
    "4. Постройте парную линейную регрессию для независимого и зависимого признаков при помощи точного подхода и при помощи нейронной сети с одним нейроном. Определите лучший из двух подходов по показателю качества $R^2$ (коэффициенту детерминации).  \n",
    "5. Постройте диаграмму рассеяния для независимого и зависимого признаков и изобразите линии двух построенных парных регрессий, подписывая оси и рисунок и создавая легенду для линий регрессии.   \n",
    "6. Разбейте набор признаков на обучающую и контрольную выборки. Создайте и адаптируйте нормализующий слой Tensorflow для всех признаков набора данных (за исключением зависимого признака). Нормализуйте зависимый признак.  \n",
    "7. Используя созданный нормализующий слой и нормализованный зависимый признак, постройте регресоры на базе следующих моделей множественной регрессии:\n",
    "    * линейной регрессии\n",
    "    * гребневой регрессии (L2)\n",
    "    * лассо регрессии (L1)\n",
    "Выберите коэффициенты регуляризации `l1` и `l2` так, чтобы нейронные сети для всех трех моделей обучались (значение ошибки уменьшалось в процессе обучения).  \n",
    "8. Определите на контрольной выборке (с нормализованным зависимым признаком) модель множественной регрессии с наиболее высоким качеством по показателю, указанному в индивидуальном задании, среди построенных моделей.  \n",
    "9. Для лучшего регрессора визуализируйте кривые обучения (в зависимости от эпохи обучения).  \n",
    "10. Определите медианные значения признаков (кроме независимого и зависимого признаков) и для построенных медианных значений визуализируйте на плоскости с независимым признаком в качестве оси абсцисс и зависимым признаком в качестве оси ординат точки тестовой выборки и линии (графики) различных моделей множественной регрессии разными цветами.  Подпишите оси и создайте легенду и заголовок для рисунка.\n",
    "\n",
    "Результат контрольной работы оформить в виде отчета в формате файла Jupiter Notebook (шаблон отчета находится в учебных материалах команды в формате .ipynb). Включите в отчет номер варианта, текст индивидуального задания, пункты 1-10 задания, указанные выше, и программный код для решения этих пунктов. Сопроводите программный код необходимыми комментариями. Дополнительно (кроме файла расширением .ipynb) представить распечатку файла с отчетом в формате PDF. Не архивировать файлы.\n",
    "Отчет по контрольной работе представить как результат выполнения задания MS Teams (представить файлы PDF и ipynb). __Не забыть нажать на кнопку сдачи задания.__\n",
    "\n",
    "\n",
    "\n",
    "\n"
   ]
  },
  {
   "cell_type": "code",
   "execution_count": null,
   "metadata": {
    "id": "jxfcCjmn51c0"
   },
   "outputs": [],
   "source": []
  }
 ],
 "metadata": {
  "colab": {
   "provenance": []
  },
  "kernelspec": {
   "display_name": "Python 3 (ipykernel)",
   "language": "python",
   "name": "python3"
  },
  "language_info": {
   "codemirror_mode": {
    "name": "ipython",
    "version": 3
   },
   "file_extension": ".py",
   "mimetype": "text/x-python",
   "name": "python",
   "nbconvert_exporter": "python",
   "pygments_lexer": "ipython3",
   "version": "3.12.2"
  }
 },
 "nbformat": 4,
 "nbformat_minor": 4
}
